{
 "cells": [
  {
   "cell_type": "markdown",
   "metadata": {},
   "source": [
    "In this block of code we are transposing dataset based upon month/year. we are transposing reading type, bill duration, current charges, and consumption in regards of date and for each CA"
   ]
  },
  {
   "cell_type": "code",
   "execution_count": 7,
   "metadata": {},
   "outputs": [],
   "source": [
    "# Import python libraries\n",
    "import pandas as pd\n",
    "import numpy as np\n",
    "import sys\n",
    "tr = pd.read_csv(r\"C:\\Users\\ijohan\\Desktop\\the-spoon\\projects-code\\power_sector\\20190712Extract_Bill_June.csv\")"
   ]
  },
  {
   "cell_type": "code",
   "execution_count": 8,
   "metadata": {},
   "outputs": [],
   "source": [
    "# Drop all the column having all NA values\n",
    "tr = tr.dropna(axis=1, how='all')"
   ]
  },
  {
   "cell_type": "code",
   "execution_count": 9,
   "metadata": {},
   "outputs": [
    {
     "data": {
      "text/html": [
       "<div>\n",
       "<style scoped>\n",
       "    .dataframe tbody tr th:only-of-type {\n",
       "        vertical-align: middle;\n",
       "    }\n",
       "\n",
       "    .dataframe tbody tr th {\n",
       "        vertical-align: top;\n",
       "    }\n",
       "\n",
       "    .dataframe thead th {\n",
       "        text-align: right;\n",
       "    }\n",
       "</style>\n",
       "<table border=\"1\" class=\"dataframe\">\n",
       "  <thead>\n",
       "    <tr style=\"text-align: right;\">\n",
       "      <th></th>\n",
       "      <th>CA</th>\n",
       "      <th>Bill Date</th>\n",
       "      <th>Billing Period</th>\n",
       "      <th>Reading Type</th>\n",
       "      <th>Bill Duration</th>\n",
       "      <th>Current Charges</th>\n",
       "      <th>Consumption</th>\n",
       "    </tr>\n",
       "  </thead>\n",
       "  <tbody>\n",
       "    <tr>\n",
       "      <th>0</th>\n",
       "      <td>2.100057e+11</td>\n",
       "      <td>20180507.0</td>\n",
       "      <td>2018/05</td>\n",
       "      <td>Bacaan Sebenar</td>\n",
       "      <td>32 days</td>\n",
       "      <td>52.42</td>\n",
       "      <td>228.0</td>\n",
       "    </tr>\n",
       "    <tr>\n",
       "      <th>1</th>\n",
       "      <td>2.100057e+11</td>\n",
       "      <td>20180605.0</td>\n",
       "      <td>2018/06</td>\n",
       "      <td>Bacaan Sebenar</td>\n",
       "      <td>29 days</td>\n",
       "      <td>43.60</td>\n",
       "      <td>200.0</td>\n",
       "    </tr>\n",
       "    <tr>\n",
       "      <th>2</th>\n",
       "      <td>2.100057e+11</td>\n",
       "      <td>20180705.0</td>\n",
       "      <td>2018/07</td>\n",
       "      <td>Bacaan Sebenar</td>\n",
       "      <td>30 days</td>\n",
       "      <td>37.06</td>\n",
       "      <td>170.0</td>\n",
       "    </tr>\n",
       "    <tr>\n",
       "      <th>3</th>\n",
       "      <td>2.100057e+11</td>\n",
       "      <td>20180805.0</td>\n",
       "      <td>2018/08</td>\n",
       "      <td>Bacaan Sebenar</td>\n",
       "      <td>31 days</td>\n",
       "      <td>1.32</td>\n",
       "      <td>22.0</td>\n",
       "    </tr>\n",
       "    <tr>\n",
       "      <th>4</th>\n",
       "      <td>2.100057e+11</td>\n",
       "      <td>20180905.0</td>\n",
       "      <td>2018/09</td>\n",
       "      <td>Bacaan Anggaran</td>\n",
       "      <td>31 days</td>\n",
       "      <td>39.46</td>\n",
       "      <td>181.0</td>\n",
       "    </tr>\n",
       "  </tbody>\n",
       "</table>\n",
       "</div>"
      ],
      "text/plain": [
       "             CA   Bill Date Billing Period      Reading Type Bill Duration  \\\n",
       "0  2.100057e+11  20180507.0        2018/05   Bacaan Sebenar        32 days   \n",
       "1  2.100057e+11  20180605.0        2018/06   Bacaan Sebenar        29 days   \n",
       "2  2.100057e+11  20180705.0        2018/07   Bacaan Sebenar        30 days   \n",
       "3  2.100057e+11  20180805.0        2018/08   Bacaan Sebenar        31 days   \n",
       "4  2.100057e+11  20180905.0        2018/09  Bacaan Anggaran        31 days   \n",
       "\n",
       "   Current Charges  Consumption  \n",
       "0            52.42        228.0  \n",
       "1            43.60        200.0  \n",
       "2            37.06        170.0  \n",
       "3             1.32         22.0  \n",
       "4            39.46        181.0  "
      ]
     },
     "execution_count": 9,
     "metadata": {},
     "output_type": "execute_result"
    }
   ],
   "source": [
    "tr.head()"
   ]
  },
  {
   "cell_type": "markdown",
   "metadata": {},
   "source": [
    "In Below section of script, we are creating subset of dataframe based on 'Billing Period', 'Reading Type', 'Bill Duration',\n",
    "'Current Charges' and  'Consumption' corresponding to CA and Bill date. After subseting we are transposing each of the smaller dataframe.\n",
    "In end merge all the smaller dataframes and return output dataframe."
   ]
  },
  {
   "cell_type": "code",
   "execution_count": 10,
   "metadata": {},
   "outputs": [
    {
     "data": {
      "text/plain": [
       "Index(['CA', 'Bill Date', 'Billing Period', 'Reading Type', 'Bill Duration',\n",
       "       'Current Charges', 'Consumption'],\n",
       "      dtype='object')"
      ]
     },
     "execution_count": 10,
     "metadata": {},
     "output_type": "execute_result"
    }
   ],
   "source": [
    "tr.columns"
   ]
  },
  {
   "cell_type": "code",
   "execution_count": 11,
   "metadata": {},
   "outputs": [],
   "source": [
    "tr_bill_date = tr[['CA', 'Billing Period', 'Bill Date']]"
   ]
  },
  {
   "cell_type": "code",
   "execution_count": 12,
   "metadata": {},
   "outputs": [
    {
     "name": "stderr",
     "output_type": "stream",
     "text": [
      "C:\\MPS\\conda_install\\Anaconda3\\lib\\site-packages\\ipykernel_launcher.py:1: SettingWithCopyWarning: \n",
      "A value is trying to be set on a copy of a slice from a DataFrame.\n",
      "Try using .loc[row_indexer,col_indexer] = value instead\n",
      "\n",
      "See the caveats in the documentation: http://pandas.pydata.org/pandas-docs/stable/indexing.html#indexing-view-versus-copy\n",
      "  \"\"\"Entry point for launching an IPython kernel.\n"
     ]
    }
   ],
   "source": [
    "tr_bill_date['Bill Date'] = pd.to_datetime(tr_bill_date['Bill Date'],format='%Y%m%d')"
   ]
  },
  {
   "cell_type": "code",
   "execution_count": 13,
   "metadata": {},
   "outputs": [
    {
     "data": {
      "text/html": [
       "<div>\n",
       "<style scoped>\n",
       "    .dataframe tbody tr th:only-of-type {\n",
       "        vertical-align: middle;\n",
       "    }\n",
       "\n",
       "    .dataframe tbody tr th {\n",
       "        vertical-align: top;\n",
       "    }\n",
       "\n",
       "    .dataframe thead th {\n",
       "        text-align: right;\n",
       "    }\n",
       "</style>\n",
       "<table border=\"1\" class=\"dataframe\">\n",
       "  <thead>\n",
       "    <tr style=\"text-align: right;\">\n",
       "      <th></th>\n",
       "      <th>CA</th>\n",
       "      <th>Billing Period</th>\n",
       "      <th>Bill Date</th>\n",
       "    </tr>\n",
       "  </thead>\n",
       "  <tbody>\n",
       "    <tr>\n",
       "      <th>0</th>\n",
       "      <td>2.100057e+11</td>\n",
       "      <td>2018/05</td>\n",
       "      <td>2018-05-07</td>\n",
       "    </tr>\n",
       "    <tr>\n",
       "      <th>1</th>\n",
       "      <td>2.100057e+11</td>\n",
       "      <td>2018/06</td>\n",
       "      <td>2018-06-05</td>\n",
       "    </tr>\n",
       "    <tr>\n",
       "      <th>2</th>\n",
       "      <td>2.100057e+11</td>\n",
       "      <td>2018/07</td>\n",
       "      <td>2018-07-05</td>\n",
       "    </tr>\n",
       "    <tr>\n",
       "      <th>3</th>\n",
       "      <td>2.100057e+11</td>\n",
       "      <td>2018/08</td>\n",
       "      <td>2018-08-05</td>\n",
       "    </tr>\n",
       "    <tr>\n",
       "      <th>4</th>\n",
       "      <td>2.100057e+11</td>\n",
       "      <td>2018/09</td>\n",
       "      <td>2018-09-05</td>\n",
       "    </tr>\n",
       "  </tbody>\n",
       "</table>\n",
       "</div>"
      ],
      "text/plain": [
       "             CA Billing Period  Bill Date\n",
       "0  2.100057e+11        2018/05 2018-05-07\n",
       "1  2.100057e+11        2018/06 2018-06-05\n",
       "2  2.100057e+11        2018/07 2018-07-05\n",
       "3  2.100057e+11        2018/08 2018-08-05\n",
       "4  2.100057e+11        2018/09 2018-09-05"
      ]
     },
     "execution_count": 13,
     "metadata": {},
     "output_type": "execute_result"
    }
   ],
   "source": [
    "tr_bill_date.head()"
   ]
  },
  {
   "cell_type": "code",
   "execution_count": 14,
   "metadata": {},
   "outputs": [
    {
     "name": "stderr",
     "output_type": "stream",
     "text": [
      "C:\\MPS\\conda_install\\Anaconda3\\lib\\site-packages\\ipykernel_launcher.py:1: SettingWithCopyWarning: \n",
      "A value is trying to be set on a copy of a slice from a DataFrame.\n",
      "Try using .loc[row_indexer,col_indexer] = value instead\n",
      "\n",
      "See the caveats in the documentation: http://pandas.pydata.org/pandas-docs/stable/indexing.html#indexing-view-versus-copy\n",
      "  \"\"\"Entry point for launching an IPython kernel.\n"
     ]
    }
   ],
   "source": [
    "tr_bill_date['Bill Date'] = tr_bill_date['Bill Date'].apply(lambda x: x.strftime('%d%m%Y') if pd.notnull(x) else '')"
   ]
  },
  {
   "cell_type": "code",
   "execution_count": 15,
   "metadata": {},
   "outputs": [],
   "source": [
    "tr_consumption = tr[['CA', 'Billing Period', 'Consumption']]"
   ]
  },
  {
   "cell_type": "code",
   "execution_count": 16,
   "metadata": {},
   "outputs": [],
   "source": [
    "tr_reading = tr[['CA', 'Billing Period', 'Reading Type']]"
   ]
  },
  {
   "cell_type": "code",
   "execution_count": 17,
   "metadata": {},
   "outputs": [],
   "source": [
    "tr_bill_duration = tr[['CA', 'Billing Period', 'Bill Duration']]"
   ]
  },
  {
   "cell_type": "code",
   "execution_count": 18,
   "metadata": {},
   "outputs": [],
   "source": [
    "tr_current_charges = tr[['CA', 'Billing Period', 'Current Charges']]"
   ]
  },
  {
   "cell_type": "code",
   "execution_count": 20,
   "metadata": {},
   "outputs": [],
   "source": [
    "df_bill_date = tr_bill_date.pivot_table(index='CA', \n",
    "                    columns='Billing Period', \n",
    "                    values='Bill Date',aggfunc='first')"
   ]
  },
  {
   "cell_type": "code",
   "execution_count": 21,
   "metadata": {},
   "outputs": [],
   "source": [
    "df_consumption = tr_consumption.pivot_table(index='CA', \n",
    "                    columns='Billing Period', \n",
    "                    values='Consumption',aggfunc='first')"
   ]
  },
  {
   "cell_type": "code",
   "execution_count": 22,
   "metadata": {},
   "outputs": [],
   "source": [
    "df_bill_duration = tr_bill_duration.pivot_table(index='CA', \n",
    "                    columns='Billing Period', \n",
    "                    values='Bill Duration',aggfunc='first')"
   ]
  },
  {
   "cell_type": "code",
   "execution_count": 23,
   "metadata": {},
   "outputs": [],
   "source": [
    "df_reading = tr_reading.pivot_table(index='CA', columns='Billing Period', values='Reading Type', aggfunc='first')"
   ]
  },
  {
   "cell_type": "code",
   "execution_count": 25,
   "metadata": {},
   "outputs": [],
   "source": [
    "df_current_charges = tr_current_charges.pivot_table(index='CA', columns='Billing Period', values='Current Charges', aggfunc='first')"
   ]
  },
  {
   "cell_type": "code",
   "execution_count": 30,
   "metadata": {},
   "outputs": [
    {
     "data": {
      "text/plain": [
       "Index(['2018/05', '2018/06', '2018/07', '2018/08', '2018/09', '2018/10',\n",
       "       '2018/11', '2018/12', '2019/01', '2019/02', '2019/03', '2019/04',\n",
       "       '2019/05', '2019/06'],\n",
       "      dtype='object', name='Billing Period')"
      ]
     },
     "execution_count": 30,
     "metadata": {},
     "output_type": "execute_result"
    }
   ],
   "source": [
    "df_consumption.columns"
   ]
  },
  {
   "cell_type": "code",
   "execution_count": 31,
   "metadata": {},
   "outputs": [],
   "source": [
    "df_reading = df_reading.reset_index().rename(columns={df_reading.index.name:'CA_r'})\n"
   ]
  },
  {
   "cell_type": "code",
   "execution_count": 32,
   "metadata": {},
   "outputs": [],
   "source": [
    "df_bill_date = df_bill_date.reset_index().rename(columns={df_bill_date.index.name:'CA'})\n"
   ]
  },
  {
   "cell_type": "code",
   "execution_count": 33,
   "metadata": {},
   "outputs": [],
   "source": [
    "df_bill_duration = df_bill_duration.reset_index().rename(columns={df_bill_duration.index.name:'CA_b'})"
   ]
  },
  {
   "cell_type": "code",
   "execution_count": 34,
   "metadata": {},
   "outputs": [],
   "source": [
    "df_consumption = df_consumption.reset_index().rename(columns={df_consumption.index.name:'CA_c'})"
   ]
  },
  {
   "cell_type": "code",
   "execution_count": 35,
   "metadata": {},
   "outputs": [],
   "source": [
    "df_current_charges = df_current_charges.reset_index().rename(columns={df_current_charges.index.name:'CA_cc'})"
   ]
  },
  {
   "cell_type": "code",
   "execution_count": 36,
   "metadata": {},
   "outputs": [
    {
     "data": {
      "text/html": [
       "<div>\n",
       "<style scoped>\n",
       "    .dataframe tbody tr th:only-of-type {\n",
       "        vertical-align: middle;\n",
       "    }\n",
       "\n",
       "    .dataframe tbody tr th {\n",
       "        vertical-align: top;\n",
       "    }\n",
       "\n",
       "    .dataframe thead th {\n",
       "        text-align: right;\n",
       "    }\n",
       "</style>\n",
       "<table border=\"1\" class=\"dataframe\">\n",
       "  <thead>\n",
       "    <tr style=\"text-align: right;\">\n",
       "      <th>Billing Period</th>\n",
       "      <th>CA_cc</th>\n",
       "      <th>2018/05</th>\n",
       "      <th>2018/06</th>\n",
       "      <th>2018/07</th>\n",
       "      <th>2018/08</th>\n",
       "      <th>2018/09</th>\n",
       "      <th>2018/10</th>\n",
       "      <th>2018/11</th>\n",
       "      <th>2018/12</th>\n",
       "      <th>2019/01</th>\n",
       "      <th>2019/02</th>\n",
       "      <th>2019/03</th>\n",
       "      <th>2019/04</th>\n",
       "      <th>2019/05</th>\n",
       "      <th>2019/06</th>\n",
       "    </tr>\n",
       "  </thead>\n",
       "  <tbody>\n",
       "    <tr>\n",
       "      <th>0</th>\n",
       "      <td>2.100057e+11</td>\n",
       "      <td>52.42</td>\n",
       "      <td>43.60</td>\n",
       "      <td>37.06</td>\n",
       "      <td>1.32</td>\n",
       "      <td>39.46</td>\n",
       "      <td>39.73</td>\n",
       "      <td>39.17</td>\n",
       "      <td>34.88</td>\n",
       "      <td>2935.92</td>\n",
       "      <td>6.80</td>\n",
       "      <td>NaN</td>\n",
       "      <td>NaN</td>\n",
       "      <td>NaN</td>\n",
       "      <td>NaN</td>\n",
       "    </tr>\n",
       "    <tr>\n",
       "      <th>1</th>\n",
       "      <td>2.100082e+11</td>\n",
       "      <td>5156.66</td>\n",
       "      <td>1626.06</td>\n",
       "      <td>2672.68</td>\n",
       "      <td>3080.22</td>\n",
       "      <td>46256.81</td>\n",
       "      <td>6050.13</td>\n",
       "      <td>2405.23</td>\n",
       "      <td>4325.43</td>\n",
       "      <td>1615.06</td>\n",
       "      <td>4789.13</td>\n",
       "      <td>5090.15</td>\n",
       "      <td>9746.21</td>\n",
       "      <td>6364.25</td>\n",
       "      <td>7108.25</td>\n",
       "    </tr>\n",
       "    <tr>\n",
       "      <th>2</th>\n",
       "      <td>2.100194e+11</td>\n",
       "      <td>29231.05</td>\n",
       "      <td>23873.02</td>\n",
       "      <td>30389.61</td>\n",
       "      <td>30940.28</td>\n",
       "      <td>28628.46</td>\n",
       "      <td>28076.19</td>\n",
       "      <td>33105.72</td>\n",
       "      <td>31852.72</td>\n",
       "      <td>5476.09</td>\n",
       "      <td>9155.12</td>\n",
       "      <td>1573.28</td>\n",
       "      <td>5147.09</td>\n",
       "      <td>3865.45</td>\n",
       "      <td>1049.09</td>\n",
       "    </tr>\n",
       "    <tr>\n",
       "      <th>3</th>\n",
       "      <td>2.100260e+11</td>\n",
       "      <td>52795.22</td>\n",
       "      <td>48796.01</td>\n",
       "      <td>52702.30</td>\n",
       "      <td>54051.75</td>\n",
       "      <td>51220.24</td>\n",
       "      <td>55572.43</td>\n",
       "      <td>53022.30</td>\n",
       "      <td>53589.27</td>\n",
       "      <td>53608.67</td>\n",
       "      <td>48241.20</td>\n",
       "      <td>49241.30</td>\n",
       "      <td>44702.08</td>\n",
       "      <td>46295.29</td>\n",
       "      <td>43953.23</td>\n",
       "    </tr>\n",
       "    <tr>\n",
       "      <th>4</th>\n",
       "      <td>2.100270e+11</td>\n",
       "      <td>42.62</td>\n",
       "      <td>41.12</td>\n",
       "      <td>45.79</td>\n",
       "      <td>50.59</td>\n",
       "      <td>45.32</td>\n",
       "      <td>45.07</td>\n",
       "      <td>50.93</td>\n",
       "      <td>63.04</td>\n",
       "      <td>NaN</td>\n",
       "      <td>NaN</td>\n",
       "      <td>NaN</td>\n",
       "      <td>NaN</td>\n",
       "      <td>NaN</td>\n",
       "      <td>NaN</td>\n",
       "    </tr>\n",
       "  </tbody>\n",
       "</table>\n",
       "</div>"
      ],
      "text/plain": [
       "Billing Period         CA_cc   2018/05   2018/06   2018/07   2018/08  \\\n",
       "0               2.100057e+11     52.42     43.60     37.06      1.32   \n",
       "1               2.100082e+11   5156.66   1626.06   2672.68   3080.22   \n",
       "2               2.100194e+11  29231.05  23873.02  30389.61  30940.28   \n",
       "3               2.100260e+11  52795.22  48796.01  52702.30  54051.75   \n",
       "4               2.100270e+11     42.62     41.12     45.79     50.59   \n",
       "\n",
       "Billing Period   2018/09   2018/10   2018/11   2018/12   2019/01   2019/02  \\\n",
       "0                  39.46     39.73     39.17     34.88   2935.92      6.80   \n",
       "1               46256.81   6050.13   2405.23   4325.43   1615.06   4789.13   \n",
       "2               28628.46  28076.19  33105.72  31852.72   5476.09   9155.12   \n",
       "3               51220.24  55572.43  53022.30  53589.27  53608.67  48241.20   \n",
       "4                  45.32     45.07     50.93     63.04       NaN       NaN   \n",
       "\n",
       "Billing Period   2019/03   2019/04   2019/05   2019/06  \n",
       "0                    NaN       NaN       NaN       NaN  \n",
       "1                5090.15   9746.21   6364.25   7108.25  \n",
       "2                1573.28   5147.09   3865.45   1049.09  \n",
       "3               49241.30  44702.08  46295.29  43953.23  \n",
       "4                    NaN       NaN       NaN       NaN  "
      ]
     },
     "execution_count": 36,
     "metadata": {},
     "output_type": "execute_result"
    }
   ],
   "source": [
    "df_current_charges.head()"
   ]
  },
  {
   "cell_type": "code",
   "execution_count": 38,
   "metadata": {},
   "outputs": [
    {
     "data": {
      "text/plain": [
       "Index(['CA_cc', '2018/05', '2018/06', '2018/07', '2018/08', '2018/09',\n",
       "       '2018/10', '2018/11', '2018/12', '2019/01', '2019/02', '2019/03',\n",
       "       '2019/04', '2019/05', '2019/06'],\n",
       "      dtype='object', name='Billing Period')"
      ]
     },
     "execution_count": 38,
     "metadata": {},
     "output_type": "execute_result"
    }
   ],
   "source": [
    "df_current_charges.columns"
   ]
  },
  {
   "cell_type": "code",
   "execution_count": 39,
   "metadata": {},
   "outputs": [],
   "source": [
    "df_reading.columns = ['CA_R','Reading_Type_May_18', 'Reading_Type_June_18', 'Reading_Type_July_18', 'Reading_Type_August_18', 'Reading_Type_September_18', 'Reading_Type_October_18',\n",
    "       'Reading_Type_November_18', 'Reading_Type_December_18', 'Reading_Type_January_19', 'Reading_Type_February_19', 'Reading_Type_March_19', 'Reading_Type_April_19',\n",
    "       'Reading_Type_May_19','Reading_Type_June_19']"
   ]
  },
  {
   "cell_type": "code",
   "execution_count": 40,
   "metadata": {},
   "outputs": [],
   "source": [
    "df_bill_duration.columns = ['CA_b', 'bill_duration_May_18','bill_duration_June_18', 'bill_duration_July_18', 'bill_duration_August_18', 'bill_duration_September_18', 'bill_duration_October_18',\n",
    "       'bill_duration_November_18', 'bill_duration_December_18', 'bill_duration_January_19', 'bill_duration_February_19', 'bill_duration_March_19', 'bill_duration_April_19',\n",
    "       'bill_duration_May_19','bill_duration_June_19']"
   ]
  },
  {
   "cell_type": "code",
   "execution_count": 41,
   "metadata": {},
   "outputs": [],
   "source": [
    "df_consumption.columns = ['CA_c', 'Consumption_May_18','Consumption_June_18', 'Consumption_July_18', 'Consumption_August_18', 'Consumption_September_18', 'Consumption_October_18',\n",
    "       'Consumption_November_18', 'Consumption_December_18', 'Consumption_January_19', 'Consumption_February_19', 'Consumption_March_19', 'Consumption_April_19',\n",
    "       'Consumption_May_19','Consumption_June_19']"
   ]
  },
  {
   "cell_type": "code",
   "execution_count": 42,
   "metadata": {},
   "outputs": [],
   "source": [
    "df_bill_date.columns = ['CA', 'bill_date_May_18', 'bill_date_June_18', 'bill_date_July_18', 'bill_date_August_18', 'bill_date_September_18', 'bill_date_October_18',\n",
    "       'bill_date_November_18', 'bill_date_December_18', 'bill_date_January_19', 'bill_date_February_19', 'bill_date_March_19', 'bill_date_April_19',\n",
    "       'bill_date_May_19', 'bill_date_June_19']"
   ]
  },
  {
   "cell_type": "code",
   "execution_count": 43,
   "metadata": {},
   "outputs": [],
   "source": [
    "df_current_charges.columns = ['CA_cc', 'current_charges_May_18', 'current_charges_June_18', 'current_charges_July_18', 'current_charges_August_18', 'current_charges_September_18', 'current_charges_October_18',\n",
    "       'current_charges_November_18', 'current_charges_December_18', 'current_charges_January_19', 'current_charges_February_19', 'current_charges_March_19', 'current_charges_April_19',\n",
    "       'current_charges_May_19', 'current_charges_June_19']"
   ]
  },
  {
   "cell_type": "code",
   "execution_count": 44,
   "metadata": {},
   "outputs": [],
   "source": [
    "df_out = pd.concat([df_consumption,df_bill_duration,df_reading,df_bill_date,df_current_charges], axis=1)"
   ]
  },
  {
   "cell_type": "code",
   "execution_count": 45,
   "metadata": {},
   "outputs": [
    {
     "data": {
      "text/plain": [
       "(104, 15)"
      ]
     },
     "execution_count": 45,
     "metadata": {},
     "output_type": "execute_result"
    }
   ],
   "source": [
    "df_reading.shape"
   ]
  },
  {
   "cell_type": "code",
   "execution_count": 46,
   "metadata": {},
   "outputs": [
    {
     "data": {
      "text/plain": [
       "(104, 15)"
      ]
     },
     "execution_count": 46,
     "metadata": {},
     "output_type": "execute_result"
    }
   ],
   "source": [
    "df_bill_duration.shape"
   ]
  },
  {
   "cell_type": "code",
   "execution_count": 47,
   "metadata": {},
   "outputs": [
    {
     "data": {
      "text/plain": [
       "(104, 15)"
      ]
     },
     "execution_count": 47,
     "metadata": {},
     "output_type": "execute_result"
    }
   ],
   "source": [
    "df_consumption.shape"
   ]
  },
  {
   "cell_type": "code",
   "execution_count": 48,
   "metadata": {},
   "outputs": [
    {
     "data": {
      "text/plain": [
       "(104, 15)"
      ]
     },
     "execution_count": 48,
     "metadata": {},
     "output_type": "execute_result"
    }
   ],
   "source": [
    "df_bill_date.shape"
   ]
  },
  {
   "cell_type": "code",
   "execution_count": 49,
   "metadata": {},
   "outputs": [
    {
     "data": {
      "text/plain": [
       "(104, 15)"
      ]
     },
     "execution_count": 49,
     "metadata": {},
     "output_type": "execute_result"
    }
   ],
   "source": [
    "df_current_charges.shape"
   ]
  },
  {
   "cell_type": "code",
   "execution_count": 51,
   "metadata": {},
   "outputs": [
    {
     "data": {
      "text/plain": [
       "Index(['CA_c', 'Consumption_May_18', 'Consumption_June_18',\n",
       "       'Consumption_July_18', 'Consumption_August_18',\n",
       "       'Consumption_September_18', 'Consumption_October_18',\n",
       "       'Consumption_November_18', 'Consumption_December_18',\n",
       "       'Consumption_January_19', 'Consumption_February_19',\n",
       "       'Consumption_March_19', 'Consumption_April_19', 'Consumption_May_19',\n",
       "       'Consumption_June_19', 'CA_b', 'bill_duration_May_18',\n",
       "       'bill_duration_June_18', 'bill_duration_July_18',\n",
       "       'bill_duration_August_18', 'bill_duration_September_18',\n",
       "       'bill_duration_October_18', 'bill_duration_November_18',\n",
       "       'bill_duration_December_18', 'bill_duration_January_19',\n",
       "       'bill_duration_February_19', 'bill_duration_March_19',\n",
       "       'bill_duration_April_19', 'bill_duration_May_19',\n",
       "       'bill_duration_June_19', 'CA_R', 'Reading_Type_May_18',\n",
       "       'Reading_Type_June_18', 'Reading_Type_July_18',\n",
       "       'Reading_Type_August_18', 'Reading_Type_September_18',\n",
       "       'Reading_Type_October_18', 'Reading_Type_November_18',\n",
       "       'Reading_Type_December_18', 'Reading_Type_January_19',\n",
       "       'Reading_Type_February_19', 'Reading_Type_March_19',\n",
       "       'Reading_Type_April_19', 'Reading_Type_May_19', 'Reading_Type_June_19',\n",
       "       'CA', 'bill_date_May_18', 'bill_date_June_18', 'bill_date_July_18',\n",
       "       'bill_date_August_18', 'bill_date_September_18', 'bill_date_October_18',\n",
       "       'bill_date_November_18', 'bill_date_December_18',\n",
       "       'bill_date_January_19', 'bill_date_February_19', 'bill_date_March_19',\n",
       "       'bill_date_April_19', 'bill_date_May_19', 'bill_date_June_19', 'CA_cc',\n",
       "       'current_charges_May_18', 'current_charges_June_18',\n",
       "       'current_charges_July_18', 'current_charges_August_18',\n",
       "       'current_charges_September_18', 'current_charges_October_18',\n",
       "       'current_charges_November_18', 'current_charges_December_18',\n",
       "       'current_charges_January_19', 'current_charges_February_19',\n",
       "       'current_charges_March_19', 'current_charges_April_19',\n",
       "       'current_charges_May_19', 'current_charges_June_19'],\n",
       "      dtype='object')"
      ]
     },
     "execution_count": 51,
     "metadata": {},
     "output_type": "execute_result"
    }
   ],
   "source": [
    "df_out.columns"
   ]
  },
  {
   "cell_type": "code",
   "execution_count": 53,
   "metadata": {},
   "outputs": [],
   "source": [
    "df_out = df_out[['CA', 'Consumption_May_18', 'Consumption_June_18',\n",
    "       'Consumption_July_18', 'Consumption_August_18',\n",
    "       'Consumption_September_18', 'Consumption_October_18',\n",
    "       'Consumption_November_18', 'Consumption_December_18',\n",
    "       'Consumption_January_19', 'Consumption_February_19',\n",
    "       'Consumption_March_19', 'Consumption_April_19', 'Consumption_May_19',\n",
    "       'Consumption_June_19', 'bill_duration_May_18',\n",
    "       'bill_duration_June_18', 'bill_duration_July_18',\n",
    "       'bill_duration_August_18', 'bill_duration_September_18',\n",
    "       'bill_duration_October_18', 'bill_duration_November_18',\n",
    "       'bill_duration_December_18', 'bill_duration_January_19',\n",
    "       'bill_duration_February_19', 'bill_duration_March_19',\n",
    "       'bill_duration_April_19', 'bill_duration_May_19',\n",
    "       'bill_duration_June_19', 'Reading_Type_May_18',\n",
    "       'Reading_Type_June_18', 'Reading_Type_July_18',\n",
    "       'Reading_Type_August_18', 'Reading_Type_September_18',\n",
    "       'Reading_Type_October_18', 'Reading_Type_November_18',\n",
    "       'Reading_Type_December_18', 'Reading_Type_January_19',\n",
    "       'Reading_Type_February_19', 'Reading_Type_March_19',\n",
    "       'Reading_Type_April_19', 'Reading_Type_May_19', 'Reading_Type_June_19',\n",
    "       'bill_date_May_18', 'bill_date_June_18', 'bill_date_July_18',\n",
    "       'bill_date_August_18', 'bill_date_September_18', 'bill_date_October_18',\n",
    "       'bill_date_November_18', 'bill_date_December_18',\n",
    "       'bill_date_January_19', 'bill_date_February_19', 'bill_date_March_19',\n",
    "       'bill_date_April_19', 'bill_date_May_19', 'bill_date_June_19',\n",
    "       'current_charges_May_18', 'current_charges_June_18',\n",
    "       'current_charges_July_18', 'current_charges_August_18',\n",
    "       'current_charges_September_18', 'current_charges_October_18',\n",
    "       'current_charges_November_18', 'current_charges_December_18',\n",
    "       'current_charges_January_19', 'current_charges_February_19',\n",
    "       'current_charges_March_19', 'current_charges_April_19',\n",
    "       'current_charges_May_19', 'current_charges_June_19']]"
   ]
  },
  {
   "cell_type": "code",
   "execution_count": 54,
   "metadata": {},
   "outputs": [],
   "source": [
    "#df_out = df_out.drop(df_out.columns[[1]], axis = 1)"
   ]
  },
  {
   "cell_type": "code",
   "execution_count": 55,
   "metadata": {},
   "outputs": [
    {
     "data": {
      "text/plain": [
       "Index(['CA', 'Consumption_May_18', 'Consumption_June_18',\n",
       "       'Consumption_July_18', 'Consumption_August_18',\n",
       "       'Consumption_September_18', 'Consumption_October_18',\n",
       "       'Consumption_November_18', 'Consumption_December_18',\n",
       "       'Consumption_January_19', 'Consumption_February_19',\n",
       "       'Consumption_March_19', 'Consumption_April_19', 'Consumption_May_19',\n",
       "       'Consumption_June_19', 'bill_duration_May_18', 'bill_duration_June_18',\n",
       "       'bill_duration_July_18', 'bill_duration_August_18',\n",
       "       'bill_duration_September_18', 'bill_duration_October_18',\n",
       "       'bill_duration_November_18', 'bill_duration_December_18',\n",
       "       'bill_duration_January_19', 'bill_duration_February_19',\n",
       "       'bill_duration_March_19', 'bill_duration_April_19',\n",
       "       'bill_duration_May_19', 'bill_duration_June_19', 'Reading_Type_May_18',\n",
       "       'Reading_Type_June_18', 'Reading_Type_July_18',\n",
       "       'Reading_Type_August_18', 'Reading_Type_September_18',\n",
       "       'Reading_Type_October_18', 'Reading_Type_November_18',\n",
       "       'Reading_Type_December_18', 'Reading_Type_January_19',\n",
       "       'Reading_Type_February_19', 'Reading_Type_March_19',\n",
       "       'Reading_Type_April_19', 'Reading_Type_May_19', 'Reading_Type_June_19',\n",
       "       'bill_date_May_18', 'bill_date_June_18', 'bill_date_July_18',\n",
       "       'bill_date_August_18', 'bill_date_September_18', 'bill_date_October_18',\n",
       "       'bill_date_November_18', 'bill_date_December_18',\n",
       "       'bill_date_January_19', 'bill_date_February_19', 'bill_date_March_19',\n",
       "       'bill_date_April_19', 'bill_date_May_19', 'bill_date_June_19',\n",
       "       'current_charges_May_18', 'current_charges_June_18',\n",
       "       'current_charges_July_18', 'current_charges_August_18',\n",
       "       'current_charges_September_18', 'current_charges_October_18',\n",
       "       'current_charges_November_18', 'current_charges_December_18',\n",
       "       'current_charges_January_19', 'current_charges_February_19',\n",
       "       'current_charges_March_19', 'current_charges_April_19',\n",
       "       'current_charges_May_19', 'current_charges_June_19'],\n",
       "      dtype='object')"
      ]
     },
     "execution_count": 55,
     "metadata": {},
     "output_type": "execute_result"
    }
   ],
   "source": [
    "df_out.columns"
   ]
  },
  {
   "cell_type": "code",
   "execution_count": 57,
   "metadata": {},
   "outputs": [],
   "source": [
    "df_out.to_csv(\"C:\\\\MPS\\\\projects\\\\TNB\\\\billing\\\\data\\\\20190712_Extract_Bill_June_transformed_run16July.csv\")"
   ]
  },
  {
   "cell_type": "code",
   "execution_count": 632,
   "metadata": {},
   "outputs": [],
   "source": [
    "tr_raw = pd.read_csv(\"C:\\\\MPS\\\\projects\\\\TNB\\\\billing\\\\code\\\\transpose\\\\20190712_Extract_Bill_June.csv\")"
   ]
  },
  {
   "cell_type": "code",
   "execution_count": 626,
   "metadata": {},
   "outputs": [],
   "source": [
    "d = tr_raw.duplicated(subset=['CA'], keep='first')"
   ]
  },
  {
   "cell_type": "code",
   "execution_count": 633,
   "metadata": {},
   "outputs": [],
   "source": [
    "# find duplicate CA\n",
    "#df_out_duplicates =df_out[d]\n",
    "\n",
    "duplicateRowsDF = tr_raw[tr_raw.duplicated(['CA'])]"
   ]
  },
  {
   "cell_type": "code",
   "execution_count": 634,
   "metadata": {},
   "outputs": [
    {
     "data": {
      "text/html": [
       "<div>\n",
       "<style scoped>\n",
       "    .dataframe tbody tr th:only-of-type {\n",
       "        vertical-align: middle;\n",
       "    }\n",
       "\n",
       "    .dataframe tbody tr th {\n",
       "        vertical-align: top;\n",
       "    }\n",
       "\n",
       "    .dataframe thead th {\n",
       "        text-align: right;\n",
       "    }\n",
       "</style>\n",
       "<table border=\"1\" class=\"dataframe\">\n",
       "  <thead>\n",
       "    <tr style=\"text-align: right;\">\n",
       "      <th></th>\n",
       "      <th>CA</th>\n",
       "      <th>Bill Date</th>\n",
       "      <th>Billing Period</th>\n",
       "      <th>Consumption</th>\n",
       "      <th>Reading Type</th>\n",
       "      <th>Bill Duration</th>\n",
       "      <th>Unnamed: 6</th>\n",
       "      <th>Unnamed: 7</th>\n",
       "    </tr>\n",
       "  </thead>\n",
       "  <tbody>\n",
       "    <tr>\n",
       "      <th>3</th>\n",
       "      <td>2.202448e+11</td>\n",
       "      <td>20190506.0</td>\n",
       "      <td>2018/06</td>\n",
       "      <td>.0000000 kWh</td>\n",
       "      <td>Bacaan Sebenar</td>\n",
       "      <td>28 days</td>\n",
       "      <td>NaN</td>\n",
       "      <td>NaN</td>\n",
       "    </tr>\n",
       "    <tr>\n",
       "      <th>5</th>\n",
       "      <td>2.202448e+11</td>\n",
       "      <td>20190506.0</td>\n",
       "      <td>2018/06</td>\n",
       "      <td>.0000000 kWh</td>\n",
       "      <td>Bacaan Sebenar</td>\n",
       "      <td>30 days</td>\n",
       "      <td>NaN</td>\n",
       "      <td>NaN</td>\n",
       "    </tr>\n",
       "    <tr>\n",
       "      <th>7</th>\n",
       "      <td>2.202448e+11</td>\n",
       "      <td>20190506.0</td>\n",
       "      <td>2018/06</td>\n",
       "      <td>.0000000 kWh</td>\n",
       "      <td>Bacaan Sebenar</td>\n",
       "      <td>31 days</td>\n",
       "      <td>NaN</td>\n",
       "      <td>NaN</td>\n",
       "    </tr>\n",
       "    <tr>\n",
       "      <th>10</th>\n",
       "      <td>2.202448e+11</td>\n",
       "      <td>20190506.0</td>\n",
       "      <td>2018/06</td>\n",
       "      <td>.0000000 kWh</td>\n",
       "      <td>Bacaan Sebenar</td>\n",
       "      <td>32 days</td>\n",
       "      <td>NaN</td>\n",
       "      <td>NaN</td>\n",
       "    </tr>\n",
       "    <tr>\n",
       "      <th>12</th>\n",
       "      <td>2.202448e+11</td>\n",
       "      <td>20190506.0</td>\n",
       "      <td>2018/06</td>\n",
       "      <td>.0000000 kWh</td>\n",
       "      <td>Bacaan Sebenar</td>\n",
       "      <td>62 days</td>\n",
       "      <td>NaN</td>\n",
       "      <td>NaN</td>\n",
       "    </tr>\n",
       "  </tbody>\n",
       "</table>\n",
       "</div>"
      ],
      "text/plain": [
       "              CA   Bill Date Billing Period     Consumption     Reading Type  \\\n",
       "3   2.202448e+11  20190506.0        2018/06   .0000000 kWh   Bacaan Sebenar    \n",
       "5   2.202448e+11  20190506.0        2018/06   .0000000 kWh   Bacaan Sebenar    \n",
       "7   2.202448e+11  20190506.0        2018/06   .0000000 kWh   Bacaan Sebenar    \n",
       "10  2.202448e+11  20190506.0        2018/06   .0000000 kWh   Bacaan Sebenar    \n",
       "12  2.202448e+11  20190506.0        2018/06   .0000000 kWh   Bacaan Sebenar    \n",
       "\n",
       "   Bill Duration  Unnamed: 6  Unnamed: 7  \n",
       "3        28 days         NaN         NaN  \n",
       "5        30 days         NaN         NaN  \n",
       "7        31 days         NaN         NaN  \n",
       "10       32 days         NaN         NaN  \n",
       "12       62 days         NaN         NaN  "
      ]
     },
     "execution_count": 634,
     "metadata": {},
     "output_type": "execute_result"
    }
   ],
   "source": [
    "duplicateRowsDF.head()"
   ]
  },
  {
   "cell_type": "code",
   "execution_count": 635,
   "metadata": {},
   "outputs": [],
   "source": [
    "duplicateRowsDF.to_csv(r\"C:\\Users\\ijohan\\Desktop\\the-spoon\\projects-code\\power_sector\\20190712_Extract_Bill_June_duplicates.csv\")"
   ]
  },
  {
   "cell_type": "markdown",
   "metadata": {},
   "source": [
    "# Extract based on reading type"
   ]
  },
  {
   "cell_type": "code",
   "execution_count": 60,
   "metadata": {},
   "outputs": [],
   "source": [
    "import pandas as pd\n",
    "rd = pd.read_csv(r\"C:\\Users\\ijohan\\Desktop\\the-spoon\\projects-code\\power_sector\\20190712Extract_Bill_June.csv\")"
   ]
  },
  {
   "cell_type": "code",
   "execution_count": 62,
   "metadata": {},
   "outputs": [
    {
     "data": {
      "text/plain": [
       "array(['Bacaan Sebenar ', 'Bacaan Anggaran ', 'Bacaan Akhir ',\n",
       "       'Bacaan Khas ', nan], dtype=object)"
      ]
     },
     "execution_count": 62,
     "metadata": {},
     "output_type": "execute_result"
    }
   ],
   "source": [
    "rd['Reading Type'].unique()"
   ]
  },
  {
   "cell_type": "markdown",
   "metadata": {},
   "source": [
    "# combining files"
   ]
  },
  {
   "cell_type": "code",
   "execution_count": 78,
   "metadata": {},
   "outputs": [],
   "source": [
    "import pandas as pd\n",
    "import numpy as np\n",
    "import sys\n",
    "f1 = pd.read_csv(r\"C:\\Users\\ijohan\\Desktop\\the-spoon\\projects-code\\power_sector\\20190710_June_SRC_Main_List_40457.csv\")\n",
    "f2 = pd.read_csv(r\"C:\\Users\\ijohan\\Desktop\\the-spoon\\projects-code\\power_sector\\20190705_Main_List_40457_SRC_June_Analysis_BCRM_BillingData.csv\")"
   ]
  },
  {
   "cell_type": "code",
   "execution_count": 79,
   "metadata": {},
   "outputs": [
    {
     "data": {
      "text/plain": [
       "Index(['S.No', 'Zone', 'State', 'State Description', 'Business Area - Key',\n",
       "       'Channel', 'Complaint ID', 'BP ID', 'BP Name', 'Contact Person ID',\n",
       "       ...\n",
       "       'MRU DESCRIPTION', 'PORTION', '% increase in May-19/18',\n",
       "       '% increase in Jun-19/18', 'APRIL_TOTAL_KWH_BAND', 'MAY_TOTAL_KWH_BAND',\n",
       "       'JUNE_TOTAL_KWH_BAND', 'APRIL_CC_BAND', 'MAY_CC_BAND', 'JUNE_CC_BAND'],\n",
       "      dtype='object', length=102)"
      ]
     },
     "execution_count": 79,
     "metadata": {},
     "output_type": "execute_result"
    }
   ],
   "source": [
    "f2.columns"
   ]
  },
  {
   "cell_type": "code",
   "execution_count": 80,
   "metadata": {},
   "outputs": [],
   "source": [
    "# for a in l:\n",
    "#     print(a)"
   ]
  },
  {
   "cell_type": "code",
   "execution_count": 81,
   "metadata": {},
   "outputs": [],
   "source": [
    "f2 = f2[['Complaint ID','MAR_TARIFTYP','MAR_READING_TYPE','MAR_CURRENT_CHARGES','MAR_BILLING_PERIOD','MAR_TOTAL_KWH','APR_TARIFTYP',\n",
    "         'APR_READING_TYPE','APR_CURRENT_CHARGES','APR_BILLING_PERIOD','APR_TOTAL_KWH','MAY_TARIFTYP','MAY_READING_TYPE',\n",
    "         'MAY_CURRENT_CHARGES','MAY_TOTAL_KWH','JUNE_READING_TYPE','JUNE_READING_TYPE_ENG','JUNE_CURRENT_CHARGES','JUNE_TOTAL_KWH',\n",
    "         'MARCH_NO_OF_BILLS','APRIL_NO_OF_BILLS','MAY_NO_OF_BILLS','JUNE_NO_OF_BILLS','MARCH_BUCKET','APRIL_BUCKET','MAY_BUCKET',\n",
    "         'JUNE_BUCKET','MAR-APR Jump','APR-MAY Jump','MAY-JUNE Jump','MARCH_BAND','APRIL_BAND','MAY_BAND','JUNE_BAND','APRIL_PERCENT_INCREASE',\n",
    "         'MAY_PERCENT_INCREASE','JUNE_PERCENT_INCREASE','APRIL_CC_PERCENT_INCREASE','MAY_CC_PERCENT_INCREASE','JUNE_CC_PERCENT_INCREASE',\n",
    "         'ACT/EST/FIN','April-18Data','May-18Data','June-18Data','% increase in April-19/18','MRU','MRU DESCRIPTION','PORTION','% increase in May-19/18',\n",
    "         '% increase in Jun-19/18','APRIL_TOTAL_KWH_BAND','MAY_TOTAL_KWH_BAND','JUNE_TOTAL_KWH_BAND','APRIL_CC_BAND','MAY_CC_BAND','JUNE_CC_BAND']]"
   ]
  },
  {
   "cell_type": "code",
   "execution_count": 82,
   "metadata": {},
   "outputs": [],
   "source": [
    "f1 = f1.dropna(how='all',axis=0) "
   ]
  },
  {
   "cell_type": "code",
   "execution_count": 83,
   "metadata": {},
   "outputs": [
    {
     "data": {
      "text/plain": [
       "(40457, 38)"
      ]
     },
     "execution_count": 83,
     "metadata": {},
     "output_type": "execute_result"
    }
   ],
   "source": [
    "f1.shape"
   ]
  },
  {
   "cell_type": "code",
   "execution_count": 84,
   "metadata": {},
   "outputs": [
    {
     "data": {
      "text/html": [
       "<div>\n",
       "<style scoped>\n",
       "    .dataframe tbody tr th:only-of-type {\n",
       "        vertical-align: middle;\n",
       "    }\n",
       "\n",
       "    .dataframe tbody tr th {\n",
       "        vertical-align: top;\n",
       "    }\n",
       "\n",
       "    .dataframe thead th {\n",
       "        text-align: right;\n",
       "    }\n",
       "</style>\n",
       "<table border=\"1\" class=\"dataframe\">\n",
       "  <thead>\n",
       "    <tr style=\"text-align: right;\">\n",
       "      <th></th>\n",
       "      <th>S.No</th>\n",
       "      <th>Zone</th>\n",
       "      <th>State</th>\n",
       "      <th>State Description</th>\n",
       "      <th>Business Area - Key</th>\n",
       "      <th>Channel</th>\n",
       "      <th>Complaint ID</th>\n",
       "      <th>BP ID</th>\n",
       "      <th>BP Name</th>\n",
       "      <th>Contact Person ID</th>\n",
       "      <th>...</th>\n",
       "      <th>Verified Root Cause Type</th>\n",
       "      <th>Verified Root Cause</th>\n",
       "      <th>Root Cause Measure</th>\n",
       "      <th>Refund/Arrears</th>\n",
       "      <th>Dt/Cr Amount</th>\n",
       "      <th>MB Reason</th>\n",
       "      <th>Unnamed: 34</th>\n",
       "      <th>Unnamed: 35</th>\n",
       "      <th>Unnamed: 36</th>\n",
       "      <th>Unnamed: 37</th>\n",
       "    </tr>\n",
       "  </thead>\n",
       "  <tbody>\n",
       "    <tr>\n",
       "      <th>0</th>\n",
       "      <td>12845.0</td>\n",
       "      <td>SEL (SEL,PJY)</td>\n",
       "      <td>SEL</td>\n",
       "      <td>SELANGOR</td>\n",
       "      <td>6140.0</td>\n",
       "      <td>Kedai Tenaga</td>\n",
       "      <td>1.000682e+09</td>\n",
       "      <td>1.101405e+09</td>\n",
       "      <td>ZAINIAH BINTI MOHD</td>\n",
       "      <td>1203673349</td>\n",
       "      <td>...</td>\n",
       "      <td>A - Meter Faulty</td>\n",
       "      <td>Meter Faulty</td>\n",
       "      <td>BCRM Rangers</td>\n",
       "      <td>Arrears</td>\n",
       "      <td>RM0.00</td>\n",
       "      <td>NaN</td>\n",
       "      <td>NaN</td>\n",
       "      <td>NaN</td>\n",
       "      <td>NaN</td>\n",
       "      <td>NaN</td>\n",
       "    </tr>\n",
       "    <tr>\n",
       "      <th>1</th>\n",
       "      <td>12854.0</td>\n",
       "      <td>SEL (SEL,PJY)</td>\n",
       "      <td>SEL</td>\n",
       "      <td>SELANGOR</td>\n",
       "      <td>6140.0</td>\n",
       "      <td>Kedai Tenaga</td>\n",
       "      <td>1.000682e+09</td>\n",
       "      <td>1.101382e+09</td>\n",
       "      <td>CHEW KIM CHOON</td>\n",
       "      <td>1108060111</td>\n",
       "      <td>...</td>\n",
       "      <td>A - Meter Faulty</td>\n",
       "      <td>Meter Faulty</td>\n",
       "      <td>BCRM Rangers</td>\n",
       "      <td>Arrears</td>\n",
       "      <td>RM0.00</td>\n",
       "      <td>NaN</td>\n",
       "      <td>NaN</td>\n",
       "      <td>NaN</td>\n",
       "      <td>NaN</td>\n",
       "      <td>NaN</td>\n",
       "    </tr>\n",
       "    <tr>\n",
       "      <th>2</th>\n",
       "      <td>12904.0</td>\n",
       "      <td>SEL (SEL,PJY)</td>\n",
       "      <td>SEL</td>\n",
       "      <td>SELANGOR</td>\n",
       "      <td>6140.0</td>\n",
       "      <td>Kedai Tenaga</td>\n",
       "      <td>1.000688e+09</td>\n",
       "      <td>1.201738e+09</td>\n",
       "      <td>CHENG SENG KEONG</td>\n",
       "      <td>1201738277</td>\n",
       "      <td>...</td>\n",
       "      <td>A - Meter Faulty</td>\n",
       "      <td>Meter Faulty</td>\n",
       "      <td>BCRM Rangers</td>\n",
       "      <td>Arrears</td>\n",
       "      <td>RM78.00</td>\n",
       "      <td>NaN</td>\n",
       "      <td>NaN</td>\n",
       "      <td>NaN</td>\n",
       "      <td>NaN</td>\n",
       "      <td>NaN</td>\n",
       "    </tr>\n",
       "    <tr>\n",
       "      <th>3</th>\n",
       "      <td>13119.0</td>\n",
       "      <td>SEL (SEL,PJY)</td>\n",
       "      <td>SEL</td>\n",
       "      <td>SELANGOR</td>\n",
       "      <td>6140.0</td>\n",
       "      <td>Kedai Tenaga</td>\n",
       "      <td>1.000710e+09</td>\n",
       "      <td>1.101467e+09</td>\n",
       "      <td>HUSSAIN B ABDULLAH</td>\n",
       "      <td>#</td>\n",
       "      <td>...</td>\n",
       "      <td>A - Meter Faulty</td>\n",
       "      <td>Meter Faulty</td>\n",
       "      <td>BCRM Rangers</td>\n",
       "      <td>Arrears</td>\n",
       "      <td>RM117.05</td>\n",
       "      <td>NaN</td>\n",
       "      <td>NaN</td>\n",
       "      <td>NaN</td>\n",
       "      <td>NaN</td>\n",
       "      <td>NaN</td>\n",
       "    </tr>\n",
       "    <tr>\n",
       "      <th>4</th>\n",
       "      <td>13892.0</td>\n",
       "      <td>SEL (SEL,PJY)</td>\n",
       "      <td>SEL</td>\n",
       "      <td>SELANGOR</td>\n",
       "      <td>6141.0</td>\n",
       "      <td>Kedai Tenaga</td>\n",
       "      <td>1.000711e+09</td>\n",
       "      <td>1.100726e+09</td>\n",
       "      <td>PEMBINAAN DUTA</td>\n",
       "      <td>1108615569</td>\n",
       "      <td>...</td>\n",
       "      <td>A - Meter Faulty</td>\n",
       "      <td>Meter Faulty</td>\n",
       "      <td>BCRM Rangers</td>\n",
       "      <td>Arrears</td>\n",
       "      <td>RM3,332.19</td>\n",
       "      <td>NaN</td>\n",
       "      <td>NaN</td>\n",
       "      <td>NaN</td>\n",
       "      <td>NaN</td>\n",
       "      <td>NaN</td>\n",
       "    </tr>\n",
       "  </tbody>\n",
       "</table>\n",
       "<p>5 rows × 38 columns</p>\n",
       "</div>"
      ],
      "text/plain": [
       "      S.No           Zone State State Description  Business Area - Key  \\\n",
       "0  12845.0  SEL (SEL,PJY)   SEL          SELANGOR               6140.0   \n",
       "1  12854.0  SEL (SEL,PJY)   SEL          SELANGOR               6140.0   \n",
       "2  12904.0  SEL (SEL,PJY)   SEL          SELANGOR               6140.0   \n",
       "3  13119.0  SEL (SEL,PJY)   SEL          SELANGOR               6140.0   \n",
       "4  13892.0  SEL (SEL,PJY)   SEL          SELANGOR               6141.0   \n",
       "\n",
       "        Channel  Complaint ID         BP ID             BP Name  \\\n",
       "0  Kedai Tenaga  1.000682e+09  1.101405e+09  ZAINIAH BINTI MOHD   \n",
       "1  Kedai Tenaga  1.000682e+09  1.101382e+09      CHEW KIM CHOON   \n",
       "2  Kedai Tenaga  1.000688e+09  1.201738e+09    CHENG SENG KEONG   \n",
       "3  Kedai Tenaga  1.000710e+09  1.101467e+09  HUSSAIN B ABDULLAH   \n",
       "4  Kedai Tenaga  1.000711e+09  1.100726e+09      PEMBINAAN DUTA   \n",
       "\n",
       "  Contact Person ID  ... Verified Root Cause Type Verified Root Cause  \\\n",
       "0        1203673349  ...         A - Meter Faulty        Meter Faulty   \n",
       "1        1108060111  ...         A - Meter Faulty        Meter Faulty   \n",
       "2        1201738277  ...         A - Meter Faulty        Meter Faulty   \n",
       "3                 #  ...         A - Meter Faulty        Meter Faulty   \n",
       "4        1108615569  ...         A - Meter Faulty        Meter Faulty   \n",
       "\n",
       "   Root Cause Measure Refund/Arrears Dt/Cr Amount MB Reason Unnamed: 34  \\\n",
       "0        BCRM Rangers        Arrears       RM0.00       NaN         NaN   \n",
       "1        BCRM Rangers        Arrears       RM0.00       NaN         NaN   \n",
       "2        BCRM Rangers        Arrears      RM78.00       NaN         NaN   \n",
       "3        BCRM Rangers        Arrears     RM117.05       NaN         NaN   \n",
       "4        BCRM Rangers        Arrears   RM3,332.19       NaN         NaN   \n",
       "\n",
       "  Unnamed: 35 Unnamed: 36 Unnamed: 37  \n",
       "0         NaN         NaN         NaN  \n",
       "1         NaN         NaN         NaN  \n",
       "2         NaN         NaN         NaN  \n",
       "3         NaN         NaN         NaN  \n",
       "4         NaN         NaN         NaN  \n",
       "\n",
       "[5 rows x 38 columns]"
      ]
     },
     "execution_count": 84,
     "metadata": {},
     "output_type": "execute_result"
    }
   ],
   "source": [
    "f1.head()"
   ]
  },
  {
   "cell_type": "code",
   "execution_count": 85,
   "metadata": {},
   "outputs": [
    {
     "data": {
      "text/plain": [
       "(40458, 56)"
      ]
     },
     "execution_count": 85,
     "metadata": {},
     "output_type": "execute_result"
    }
   ],
   "source": [
    "f2.shape"
   ]
  },
  {
   "cell_type": "code",
   "execution_count": 86,
   "metadata": {},
   "outputs": [],
   "source": [
    "f = pd.merge(f1, f2, on=\"Complaint ID\", how ='left')"
   ]
  },
  {
   "cell_type": "code",
   "execution_count": 87,
   "metadata": {},
   "outputs": [
    {
     "data": {
      "text/plain": [
       "(40457, 93)"
      ]
     },
     "execution_count": 87,
     "metadata": {},
     "output_type": "execute_result"
    }
   ],
   "source": [
    "f.shape"
   ]
  },
  {
   "cell_type": "code",
   "execution_count": 88,
   "metadata": {},
   "outputs": [
    {
     "data": {
      "text/html": [
       "<div>\n",
       "<style scoped>\n",
       "    .dataframe tbody tr th:only-of-type {\n",
       "        vertical-align: middle;\n",
       "    }\n",
       "\n",
       "    .dataframe tbody tr th {\n",
       "        vertical-align: top;\n",
       "    }\n",
       "\n",
       "    .dataframe thead th {\n",
       "        text-align: right;\n",
       "    }\n",
       "</style>\n",
       "<table border=\"1\" class=\"dataframe\">\n",
       "  <thead>\n",
       "    <tr style=\"text-align: right;\">\n",
       "      <th></th>\n",
       "      <th>S.No</th>\n",
       "      <th>Zone</th>\n",
       "      <th>State</th>\n",
       "      <th>State Description</th>\n",
       "      <th>Business Area - Key</th>\n",
       "      <th>Channel</th>\n",
       "      <th>Complaint ID</th>\n",
       "      <th>BP ID</th>\n",
       "      <th>BP Name</th>\n",
       "      <th>Contact Person ID</th>\n",
       "      <th>...</th>\n",
       "      <th>MRU DESCRIPTION</th>\n",
       "      <th>PORTION</th>\n",
       "      <th>% increase in May-19/18</th>\n",
       "      <th>% increase in Jun-19/18</th>\n",
       "      <th>APRIL_TOTAL_KWH_BAND</th>\n",
       "      <th>MAY_TOTAL_KWH_BAND</th>\n",
       "      <th>JUNE_TOTAL_KWH_BAND</th>\n",
       "      <th>APRIL_CC_BAND</th>\n",
       "      <th>MAY_CC_BAND</th>\n",
       "      <th>JUNE_CC_BAND</th>\n",
       "    </tr>\n",
       "  </thead>\n",
       "  <tbody>\n",
       "    <tr>\n",
       "      <th>0</th>\n",
       "      <td>12845.0</td>\n",
       "      <td>SEL (SEL,PJY)</td>\n",
       "      <td>SEL</td>\n",
       "      <td>SELANGOR</td>\n",
       "      <td>6140.0</td>\n",
       "      <td>Kedai Tenaga</td>\n",
       "      <td>1.000682e+09</td>\n",
       "      <td>1.101405e+09</td>\n",
       "      <td>ZAINIAH BINTI MOHD</td>\n",
       "      <td>1203673349</td>\n",
       "      <td>...</td>\n",
       "      <td>B 448 TMN BUKIT KAPAR</td>\n",
       "      <td>SPOT11</td>\n",
       "      <td>-28.636364</td>\n",
       "      <td>-3.504929</td>\n",
       "      <td>&lt;0</td>\n",
       "      <td>0-20</td>\n",
       "      <td>0-20</td>\n",
       "      <td>&lt;0</td>\n",
       "      <td>50-100</td>\n",
       "      <td>&lt;0</td>\n",
       "    </tr>\n",
       "    <tr>\n",
       "      <th>1</th>\n",
       "      <td>12854.0</td>\n",
       "      <td>SEL (SEL,PJY)</td>\n",
       "      <td>SEL</td>\n",
       "      <td>SELANGOR</td>\n",
       "      <td>6140.0</td>\n",
       "      <td>Kedai Tenaga</td>\n",
       "      <td>1.000682e+09</td>\n",
       "      <td>1.101382e+09</td>\n",
       "      <td>CHEW KIM CHOON</td>\n",
       "      <td>1108060111</td>\n",
       "      <td>...</td>\n",
       "      <td>B 1577/1 TMN INTAN JAYA KAPAR</td>\n",
       "      <td>SPOT07</td>\n",
       "      <td>1566.666667</td>\n",
       "      <td>47.530864</td>\n",
       "      <td>0-20</td>\n",
       "      <td>0-20</td>\n",
       "      <td>&lt;0</td>\n",
       "      <td>20-50</td>\n",
       "      <td>20-50</td>\n",
       "      <td>&lt;0</td>\n",
       "    </tr>\n",
       "    <tr>\n",
       "      <th>2</th>\n",
       "      <td>12904.0</td>\n",
       "      <td>SEL (SEL,PJY)</td>\n",
       "      <td>SEL</td>\n",
       "      <td>SELANGOR</td>\n",
       "      <td>6140.0</td>\n",
       "      <td>Kedai Tenaga</td>\n",
       "      <td>1.000688e+09</td>\n",
       "      <td>1.201738e+09</td>\n",
       "      <td>CHENG SENG KEONG</td>\n",
       "      <td>1201738277</td>\n",
       "      <td>...</td>\n",
       "      <td>B 2635/1 SETIA INDAH U13/11N</td>\n",
       "      <td>SPOT17</td>\n",
       "      <td>35.501355</td>\n",
       "      <td>14.466737</td>\n",
       "      <td>0-20</td>\n",
       "      <td>20-50</td>\n",
       "      <td>&lt;0</td>\n",
       "      <td>0-20</td>\n",
       "      <td>20-50</td>\n",
       "      <td>&lt;0</td>\n",
       "    </tr>\n",
       "    <tr>\n",
       "      <th>3</th>\n",
       "      <td>13119.0</td>\n",
       "      <td>SEL (SEL,PJY)</td>\n",
       "      <td>SEL</td>\n",
       "      <td>SELANGOR</td>\n",
       "      <td>6140.0</td>\n",
       "      <td>Kedai Tenaga</td>\n",
       "      <td>1.000710e+09</td>\n",
       "      <td>1.101467e+09</td>\n",
       "      <td>HUSSAIN B ABDULLAH</td>\n",
       "      <td>#</td>\n",
       "      <td>...</td>\n",
       "      <td>C 1280 JLN SG BERTEK</td>\n",
       "      <td>SPOT28</td>\n",
       "      <td>34.302326</td>\n",
       "      <td>2.631579</td>\n",
       "      <td>&lt;0</td>\n",
       "      <td>20-50</td>\n",
       "      <td>&lt;0</td>\n",
       "      <td>&lt;0</td>\n",
       "      <td>&lt;0</td>\n",
       "      <td>0-20</td>\n",
       "    </tr>\n",
       "    <tr>\n",
       "      <th>4</th>\n",
       "      <td>13892.0</td>\n",
       "      <td>SEL (SEL,PJY)</td>\n",
       "      <td>SEL</td>\n",
       "      <td>SELANGOR</td>\n",
       "      <td>6141.0</td>\n",
       "      <td>Kedai Tenaga</td>\n",
       "      <td>1.000711e+09</td>\n",
       "      <td>1.100726e+09</td>\n",
       "      <td>PEMBINAAN DUTA</td>\n",
       "      <td>1108615569</td>\n",
       "      <td>...</td>\n",
       "      <td>B 51 JLN ALAM SURIA 16/33</td>\n",
       "      <td>SPOT26</td>\n",
       "      <td>-46.148970</td>\n",
       "      <td>-48.537366</td>\n",
       "      <td>&lt;0</td>\n",
       "      <td>NaN</td>\n",
       "      <td>&lt;0</td>\n",
       "      <td>0-20</td>\n",
       "      <td>&lt;0</td>\n",
       "      <td>&lt;0</td>\n",
       "    </tr>\n",
       "  </tbody>\n",
       "</table>\n",
       "<p>5 rows × 93 columns</p>\n",
       "</div>"
      ],
      "text/plain": [
       "      S.No           Zone State State Description  Business Area - Key  \\\n",
       "0  12845.0  SEL (SEL,PJY)   SEL          SELANGOR               6140.0   \n",
       "1  12854.0  SEL (SEL,PJY)   SEL          SELANGOR               6140.0   \n",
       "2  12904.0  SEL (SEL,PJY)   SEL          SELANGOR               6140.0   \n",
       "3  13119.0  SEL (SEL,PJY)   SEL          SELANGOR               6140.0   \n",
       "4  13892.0  SEL (SEL,PJY)   SEL          SELANGOR               6141.0   \n",
       "\n",
       "        Channel  Complaint ID         BP ID             BP Name  \\\n",
       "0  Kedai Tenaga  1.000682e+09  1.101405e+09  ZAINIAH BINTI MOHD   \n",
       "1  Kedai Tenaga  1.000682e+09  1.101382e+09      CHEW KIM CHOON   \n",
       "2  Kedai Tenaga  1.000688e+09  1.201738e+09    CHENG SENG KEONG   \n",
       "3  Kedai Tenaga  1.000710e+09  1.101467e+09  HUSSAIN B ABDULLAH   \n",
       "4  Kedai Tenaga  1.000711e+09  1.100726e+09      PEMBINAAN DUTA   \n",
       "\n",
       "  Contact Person ID  ...                MRU DESCRIPTION PORTION  \\\n",
       "0        1203673349  ...          B 448 TMN BUKIT KAPAR  SPOT11   \n",
       "1        1108060111  ...  B 1577/1 TMN INTAN JAYA KAPAR  SPOT07   \n",
       "2        1201738277  ...   B 2635/1 SETIA INDAH U13/11N  SPOT17   \n",
       "3                 #  ...           C 1280 JLN SG BERTEK  SPOT28   \n",
       "4        1108615569  ...      B 51 JLN ALAM SURIA 16/33  SPOT26   \n",
       "\n",
       "   % increase in May-19/18 % increase in Jun-19/18 APRIL_TOTAL_KWH_BAND  \\\n",
       "0               -28.636364               -3.504929                   <0   \n",
       "1              1566.666667               47.530864                 0-20   \n",
       "2                35.501355               14.466737                 0-20   \n",
       "3                34.302326                2.631579                   <0   \n",
       "4               -46.148970              -48.537366                   <0   \n",
       "\n",
       "  MAY_TOTAL_KWH_BAND JUNE_TOTAL_KWH_BAND APRIL_CC_BAND MAY_CC_BAND  \\\n",
       "0               0-20                0-20            <0      50-100   \n",
       "1               0-20                  <0         20-50       20-50   \n",
       "2              20-50                  <0          0-20       20-50   \n",
       "3              20-50                  <0            <0          <0   \n",
       "4                NaN                  <0          0-20          <0   \n",
       "\n",
       "  JUNE_CC_BAND  \n",
       "0           <0  \n",
       "1           <0  \n",
       "2           <0  \n",
       "3         0-20  \n",
       "4           <0  \n",
       "\n",
       "[5 rows x 93 columns]"
      ]
     },
     "execution_count": 88,
     "metadata": {},
     "output_type": "execute_result"
    }
   ],
   "source": [
    "f.head()"
   ]
  },
  {
   "cell_type": "code",
   "execution_count": 89,
   "metadata": {},
   "outputs": [],
   "source": [
    "f.to_csv(\"C:\\\\MPS\\\\projects\\\\TNB\\\\billing\\\\data\\\\20190710_June_SRC_Main_List_40457_merged.csv\")"
   ]
  },
  {
   "cell_type": "markdown",
   "metadata": {},
   "source": [
    "# finding average and general calculations on ocnsumption "
   ]
  },
  {
   "cell_type": "code",
   "execution_count": 183,
   "metadata": {},
   "outputs": [],
   "source": [
    "import pandas as pd\n",
    "import numpy as np\n",
    "import sys\n",
    "df = pd.read_csv(r\"C:\\Users\\ijohan\\Desktop\\the-spoon\\projects-code\\power_sector\\20190712_May_SRC_No_Anomaly_Data_MAHIPAL.csv\")\n"
   ]
  },
  {
   "cell_type": "code",
   "execution_count": 184,
   "metadata": {},
   "outputs": [],
   "source": [
    "#df.head()"
   ]
  },
  {
   "cell_type": "code",
   "execution_count": 185,
   "metadata": {},
   "outputs": [],
   "source": [
    "#df.columns"
   ]
  },
  {
   "cell_type": "code",
   "execution_count": 186,
   "metadata": {},
   "outputs": [],
   "source": [
    "# Adding column for averae of last one year :\n",
    "df['averag_18_19'] = df[['Consumption_May_18', 'Consumption_June_18',\n",
    "       'Consumption_July_18', 'Consumption_August_18',\n",
    "       'Consumption_September_18', 'Consumption_October_18',\n",
    "       'Consumption_November_18', 'Consumption_December_18',\n",
    "       'Consumption_January_19', 'Consumption_February_19',\n",
    "       'Consumption_March_19', 'Consumption_April_19', 'Consumption_May_19']].mean(axis=1)"
   ]
  },
  {
   "cell_type": "code",
   "execution_count": 187,
   "metadata": {},
   "outputs": [],
   "source": [
    "# Adding column for averae of last one year\n",
    "df['averag_18'] = df[['Consumption_May_18', 'Consumption_June_18',\n",
    "       'Consumption_July_18', 'Consumption_August_18',\n",
    "       'Consumption_September_18', 'Consumption_October_18']].mean(axis=1)"
   ]
  },
  {
   "cell_type": "code",
   "execution_count": 188,
   "metadata": {},
   "outputs": [],
   "source": [
    "# Adding column for averae of last one year\n",
    "df['averag_19'] = df[['Consumption_November_18', 'Consumption_December_18','Consumption_January_19', 'Consumption_February_19',\n",
    "       'Consumption_March_19', 'Consumption_April_19']].mean(axis=1)"
   ]
  },
  {
   "cell_type": "code",
   "execution_count": 189,
   "metadata": {},
   "outputs": [],
   "source": [
    "# find 1st and 2nd peak \n",
    "\n",
    "df['peak_1'] = df[['Consumption_May_18', 'Consumption_June_18',\n",
    "       'Consumption_July_18', 'Consumption_August_18',\n",
    "       'Consumption_September_18', 'Consumption_October_18',\n",
    "       'Consumption_November_18', 'Consumption_December_18',\n",
    "       'Consumption_January_19', 'Consumption_February_19',\n",
    "       'Consumption_March_19', 'Consumption_April_19', 'Consumption_May_19']].max(axis=1)"
   ]
  },
  {
   "cell_type": "code",
   "execution_count": 190,
   "metadata": {},
   "outputs": [],
   "source": [
    "#https://stackoverflow.com/questions/52464947/how-to-get-column-name-for-second-largest-row-value-in-pandas-dataframe\n",
    "# Function to find the second largest number\n",
    "def get_second_best(x):\n",
    "    return sorted(x)[-2]\n"
   ]
  },
  {
   "cell_type": "code",
   "execution_count": 191,
   "metadata": {},
   "outputs": [],
   "source": [
    "df['peak_2'] = df[['Consumption_May_18', 'Consumption_June_18',\n",
    "       'Consumption_July_18', 'Consumption_August_18',\n",
    "       'Consumption_September_18', 'Consumption_October_18',\n",
    "       'Consumption_November_18', 'Consumption_December_18',\n",
    "       'Consumption_January_19', 'Consumption_February_19',\n",
    "       'Consumption_March_19', 'Consumption_April_19', 'Consumption_May_19']].apply(lambda row: get_second_best(row), axis=1)"
   ]
  },
  {
   "cell_type": "code",
   "execution_count": 192,
   "metadata": {},
   "outputs": [],
   "source": [
    "# find name of month with max consumption\n",
    "\n",
    "df['Peak_month'] = df[['Consumption_May_18', 'Consumption_June_18',\n",
    "       'Consumption_July_18', 'Consumption_August_18',\n",
    "       'Consumption_September_18', 'Consumption_October_18',\n",
    "       'Consumption_November_18', 'Consumption_December_18',\n",
    "       'Consumption_January_19', 'Consumption_February_19',\n",
    "       'Consumption_March_19', 'Consumption_April_19', 'Consumption_May_19']].idxmax(axis=1)"
   ]
  },
  {
   "cell_type": "code",
   "execution_count": 193,
   "metadata": {},
   "outputs": [
    {
     "data": {
      "text/html": [
       "<div>\n",
       "<style scoped>\n",
       "    .dataframe tbody tr th:only-of-type {\n",
       "        vertical-align: middle;\n",
       "    }\n",
       "\n",
       "    .dataframe tbody tr th {\n",
       "        vertical-align: top;\n",
       "    }\n",
       "\n",
       "    .dataframe thead th {\n",
       "        text-align: right;\n",
       "    }\n",
       "</style>\n",
       "<table border=\"1\" class=\"dataframe\">\n",
       "  <thead>\n",
       "    <tr style=\"text-align: right;\">\n",
       "      <th></th>\n",
       "      <th>Service Request ID</th>\n",
       "      <th>BP ID</th>\n",
       "      <th>BP Name</th>\n",
       "      <th>Contact Person ID</th>\n",
       "      <th>Contact Person Name</th>\n",
       "      <th>Contact Person Mobile Number</th>\n",
       "      <th>CA Number</th>\n",
       "      <th>Unit</th>\n",
       "      <th>Category</th>\n",
       "      <th>Sub-Category</th>\n",
       "      <th>...</th>\n",
       "      <th>Consumption_May_19</th>\n",
       "      <th>Date Meter Changed</th>\n",
       "      <th>Auto Billing</th>\n",
       "      <th>RootCause</th>\n",
       "      <th>averag_18_19</th>\n",
       "      <th>averag_18</th>\n",
       "      <th>averag_19</th>\n",
       "      <th>peak_1</th>\n",
       "      <th>peak_2</th>\n",
       "      <th>Peak_month</th>\n",
       "    </tr>\n",
       "  </thead>\n",
       "  <tbody>\n",
       "    <tr>\n",
       "      <th>0</th>\n",
       "      <td>1000669746</td>\n",
       "      <td>1106412190</td>\n",
       "      <td>NORAZWANIZAN BINTI</td>\n",
       "      <td>#</td>\n",
       "      <td>Not assigned</td>\n",
       "      <td>#</td>\n",
       "      <td>210086599200</td>\n",
       "      <td>Device Operation (OPC)</td>\n",
       "      <td>OPC Meter Accuracy Test</td>\n",
       "      <td>High Bill Normal</td>\n",
       "      <td>...</td>\n",
       "      <td>587.0</td>\n",
       "      <td>140518.0</td>\n",
       "      <td>No</td>\n",
       "      <td>NaN</td>\n",
       "      <td>356.461538</td>\n",
       "      <td>234.833333</td>\n",
       "      <td>439.666667</td>\n",
       "      <td>767.0</td>\n",
       "      <td>587.0</td>\n",
       "      <td>Consumption_January_19</td>\n",
       "    </tr>\n",
       "    <tr>\n",
       "      <th>1</th>\n",
       "      <td>1000657759</td>\n",
       "      <td>1103934799</td>\n",
       "      <td>ARJUN</td>\n",
       "      <td>1103934799</td>\n",
       "      <td>ARJUN</td>\n",
       "      <td>0126829770</td>\n",
       "      <td>220490355603</td>\n",
       "      <td>Smart Meter</td>\n",
       "      <td>Bilik Gerakan SM</td>\n",
       "      <td>High / Low Bill - First 2 Month</td>\n",
       "      <td>...</td>\n",
       "      <td>371.0</td>\n",
       "      <td>290519.0</td>\n",
       "      <td>Yes</td>\n",
       "      <td>NaN</td>\n",
       "      <td>307.076923</td>\n",
       "      <td>229.500000</td>\n",
       "      <td>374.000000</td>\n",
       "      <td>471.0</td>\n",
       "      <td>426.0</td>\n",
       "      <td>Consumption_April_19</td>\n",
       "    </tr>\n",
       "    <tr>\n",
       "      <th>2</th>\n",
       "      <td>1000666153</td>\n",
       "      <td>1104284878</td>\n",
       "      <td>LAU CHOON LOONG</td>\n",
       "      <td>1104284878</td>\n",
       "      <td>LAU CHOON LOONG</td>\n",
       "      <td>0123764986</td>\n",
       "      <td>220369124902</td>\n",
       "      <td>Smart Meter</td>\n",
       "      <td>Bilik Gerakan SM</td>\n",
       "      <td>High / Low Bill - First 2 Month</td>\n",
       "      <td>...</td>\n",
       "      <td>501.0</td>\n",
       "      <td>130716.0</td>\n",
       "      <td>Yes</td>\n",
       "      <td>NaN</td>\n",
       "      <td>459.000000</td>\n",
       "      <td>446.000000</td>\n",
       "      <td>465.000000</td>\n",
       "      <td>772.0</td>\n",
       "      <td>637.0</td>\n",
       "      <td>Consumption_June_18</td>\n",
       "    </tr>\n",
       "    <tr>\n",
       "      <th>3</th>\n",
       "      <td>1000666169</td>\n",
       "      <td>1100658580</td>\n",
       "      <td>CHE ROHAYAH BINTI</td>\n",
       "      <td>1203887644</td>\n",
       "      <td>EMY</td>\n",
       "      <td>0192364131</td>\n",
       "      <td>220038996600</td>\n",
       "      <td>Billing - OPC</td>\n",
       "      <td>Bill Format</td>\n",
       "      <td>Billing Adjustment (KKB/Caj Pelbagai)</td>\n",
       "      <td>...</td>\n",
       "      <td>7.0</td>\n",
       "      <td>130716.0</td>\n",
       "      <td>No</td>\n",
       "      <td>NaN</td>\n",
       "      <td>155.538462</td>\n",
       "      <td>108.666667</td>\n",
       "      <td>227.166667</td>\n",
       "      <td>810.0</td>\n",
       "      <td>183.0</td>\n",
       "      <td>Consumption_April_19</td>\n",
       "    </tr>\n",
       "    <tr>\n",
       "      <th>4</th>\n",
       "      <td>1000630356</td>\n",
       "      <td>1101294035</td>\n",
       "      <td>TWELVE KIAPENG SDN</td>\n",
       "      <td>1203907552</td>\n",
       "      <td>VENICT</td>\n",
       "      <td>0122199144</td>\n",
       "      <td>220140533408</td>\n",
       "      <td>Device Operation (OPC)</td>\n",
       "      <td>OPC Meter Accuracy Test</td>\n",
       "      <td>High Bill Normal</td>\n",
       "      <td>...</td>\n",
       "      <td>2891.0</td>\n",
       "      <td>220916.0</td>\n",
       "      <td>No</td>\n",
       "      <td>NaN</td>\n",
       "      <td>1218.076923</td>\n",
       "      <td>19.000000</td>\n",
       "      <td>2138.333333</td>\n",
       "      <td>2891.0</td>\n",
       "      <td>2578.0</td>\n",
       "      <td>Consumption_May_19</td>\n",
       "    </tr>\n",
       "  </tbody>\n",
       "</table>\n",
       "<p>5 rows × 92 columns</p>\n",
       "</div>"
      ],
      "text/plain": [
       "   Service Request ID       BP ID             BP Name Contact Person ID  \\\n",
       "0          1000669746  1106412190  NORAZWANIZAN BINTI                 #   \n",
       "1          1000657759  1103934799               ARJUN        1103934799   \n",
       "2          1000666153  1104284878     LAU CHOON LOONG        1104284878   \n",
       "3          1000666169  1100658580   CHE ROHAYAH BINTI        1203887644   \n",
       "4          1000630356  1101294035  TWELVE KIAPENG SDN        1203907552   \n",
       "\n",
       "  Contact Person Name Contact Person Mobile Number     CA Number  \\\n",
       "0        Not assigned                            #  210086599200   \n",
       "1               ARJUN                   0126829770  220490355603   \n",
       "2     LAU CHOON LOONG                   0123764986  220369124902   \n",
       "3                 EMY                   0192364131  220038996600   \n",
       "4              VENICT                   0122199144  220140533408   \n",
       "\n",
       "                     Unit                 Category  \\\n",
       "0  Device Operation (OPC)  OPC Meter Accuracy Test   \n",
       "1             Smart Meter         Bilik Gerakan SM   \n",
       "2             Smart Meter         Bilik Gerakan SM   \n",
       "3           Billing - OPC              Bill Format   \n",
       "4  Device Operation (OPC)  OPC Meter Accuracy Test   \n",
       "\n",
       "                            Sub-Category  ... Consumption_May_19  \\\n",
       "0                       High Bill Normal  ...              587.0   \n",
       "1        High / Low Bill - First 2 Month  ...              371.0   \n",
       "2        High / Low Bill - First 2 Month  ...              501.0   \n",
       "3  Billing Adjustment (KKB/Caj Pelbagai)  ...                7.0   \n",
       "4                       High Bill Normal  ...             2891.0   \n",
       "\n",
       "  Date Meter Changed Auto Billing RootCause averag_18_19   averag_18  \\\n",
       "0           140518.0           No       NaN   356.461538  234.833333   \n",
       "1           290519.0          Yes       NaN   307.076923  229.500000   \n",
       "2           130716.0          Yes       NaN   459.000000  446.000000   \n",
       "3           130716.0           No       NaN   155.538462  108.666667   \n",
       "4           220916.0           No       NaN  1218.076923   19.000000   \n",
       "\n",
       "     averag_19  peak_1  peak_2              Peak_month  \n",
       "0   439.666667   767.0   587.0  Consumption_January_19  \n",
       "1   374.000000   471.0   426.0    Consumption_April_19  \n",
       "2   465.000000   772.0   637.0     Consumption_June_18  \n",
       "3   227.166667   810.0   183.0    Consumption_April_19  \n",
       "4  2138.333333  2891.0  2578.0      Consumption_May_19  \n",
       "\n",
       "[5 rows x 92 columns]"
      ]
     },
     "execution_count": 193,
     "metadata": {},
     "output_type": "execute_result"
    }
   ],
   "source": [
    "df.head()"
   ]
  },
  {
   "cell_type": "code",
   "execution_count": 194,
   "metadata": {},
   "outputs": [],
   "source": [
    "# put the condition based on peak in may_19 or before\n",
    "df.loc[df['Peak_month'].str.contains('Consumption_May_19', na = False), 'peak_before'] = 'Peak May'"
   ]
  },
  {
   "cell_type": "code",
   "execution_count": 195,
   "metadata": {},
   "outputs": [],
   "source": [
    "df['peak_before'] = df['peak_before'].fillna('Peak before')"
   ]
  },
  {
   "cell_type": "code",
   "execution_count": 196,
   "metadata": {},
   "outputs": [],
   "source": [
    "# Percentage change between average 18 and average 19:\n",
    "df['percentage_chane_in_avg_18TO19'] = (df.averag_19 - df.averag_18)/df.averag_18 * 100"
   ]
  },
  {
   "cell_type": "code",
   "execution_count": 197,
   "metadata": {},
   "outputs": [
    {
     "data": {
      "text/plain": [
       "Index(['Service Request ID', 'BP ID', 'BP Name', 'Contact Person ID',\n",
       "       'Contact Person Name', 'Contact Person Mobile Number', 'CA Number',\n",
       "       'Unit', 'Category', 'Sub-Category', 'Creation Date', 'Created time',\n",
       "       'Creation By', 'Last Changed By', 'Last Changed Date', 'SN Number',\n",
       "       'SO Number', 'BPEM Case', 'Notes', 'SN Remarks 2July',\n",
       "       'BPEM Notes 4July', 'Status 9July', 'Verified Root Cause',\n",
       "       'No Anomaly Root Cause', 'Bill duration', 'Spot', 'BILLING_PERIOD',\n",
       "       'Field18', 'TARIFTYP', 'CURRENT_CHARGES', 'KWH TOTAL', 'KWH_PER_DAY',\n",
       "       'CHARGES_PER_DAY', 'PerDayKWHDiff', 'PerDayCCDiff', 'PrevCC',\n",
       "       'Curr-Prev CC', 'KWHDiffBucket', 'CCDiffBucket', 'Previous Total Kwh',\n",
       "       'Current Total Kwh', 'BandChange', 'PreviousKWH', 'Curr-Prev',\n",
       "       'PrevBandChange', 'MoveIn', 'Bill Reissue', 'AR amount May',\n",
       "       'New Current Charge', 'Remarks', 'AR/FR', 'FR Amount Buff', 'BILL_DATE',\n",
       "       'BILLING_PERIOD2', 'BILL_DURATION', 'CURRENT_CHARGES MAY',\n",
       "       'CURRENT_CHARGES_JUNE', 'KWH TOTAL MAY', 'TOTAL_KWH_JUNE',\n",
       "       'MAY-JUN DIFF CC', 'MAY-JUN DIFF CC2', 'Refund/Arrears/Regularised',\n",
       "       'MAY-JUN DIFF KWH', 'MAY-JUN DIFF KWH2', 'CURRENT_CHARGES APRIL',\n",
       "       'KWH TOTAL APRIL', 'APR-MAY DIFF CC', 'APRIL-MAY DIFF KWH', 'Move-in',\n",
       "       'Move-out', 'Consumption_May_18', 'Consumption_June_18',\n",
       "       'Consumption_July_18', 'Consumption_August_18',\n",
       "       'Consumption_September_18', 'Consumption_October_18',\n",
       "       'Consumption_November_18', 'Consumption_December_18',\n",
       "       'Consumption_January_19', 'Consumption_February_19',\n",
       "       'Consumption_March_19', 'Consumption_April_19', 'Consumption_May_19',\n",
       "       'Date Meter Changed', 'Auto Billing', 'RootCause', 'averag_18_19',\n",
       "       'averag_18', 'averag_19', 'peak_1', 'peak_2', 'Peak_month',\n",
       "       'peak_before', 'percentage_chane_in_avg_18TO19'],\n",
       "      dtype='object')"
      ]
     },
     "execution_count": 197,
     "metadata": {},
     "output_type": "execute_result"
    }
   ],
   "source": [
    "df.columns"
   ]
  },
  {
   "cell_type": "code",
   "execution_count": 198,
   "metadata": {},
   "outputs": [],
   "source": [
    "df.to_csv(r\"C:\\Users\\ijohan\\Desktop\\the-spoon\\projects-code\\power_sector\\20190712_May_SRC_No_Anomaly_Data.csv\")"
   ]
  },
  {
   "cell_type": "markdown",
   "metadata": {},
   "source": [
    "# Adding BPEM notes to existing file"
   ]
  },
  {
   "cell_type": "code",
   "execution_count": 639,
   "metadata": {},
   "outputs": [],
   "source": [
    "import pandas as pd\n",
    "import numpy as np\n",
    "import sys\n",
    "bpem = pd.read_csv(r\"C:\\Users\\ijohan\\Desktop\\the-spoon\\projects-code\\power_sector\\20190715_June_SRC_Main_List_40457.csv\")\n",
    "\n",
    "current_comp = pd.read_csv(r\"C:\\Users\\ijohan\\Desktop\\the-spoon\\projects-code\\power_sector\\BPEM_NOTES_COMP_June_15July2019.csv\")\n",
    "current_SR = pd.read_csv(r\"C:\\Users\\ijohan\\Desktop\\the-spoon\\projects-code\\power_sector\\BPEM_NOTES_SR_June_15July2019.csv\")"
   ]
  },
  {
   "cell_type": "code",
   "execution_count": 640,
   "metadata": {},
   "outputs": [
    {
     "data": {
      "text/plain": [
       "Index(['BPEM Case ID', 'Description', 'Complaint ID', 'CA ID', 'Premise',\n",
       "       'Business Area', 'Creation Date', 'NotesAs15thJuly'],\n",
       "      dtype='object')"
      ]
     },
     "execution_count": 640,
     "metadata": {},
     "output_type": "execute_result"
    }
   ],
   "source": [
    "current_comp.columns"
   ]
  },
  {
   "cell_type": "code",
   "execution_count": 641,
   "metadata": {},
   "outputs": [],
   "source": [
    "current_comp = current_comp[['Complaint ID','NotesAs15thJuly']]"
   ]
  },
  {
   "cell_type": "code",
   "execution_count": 642,
   "metadata": {},
   "outputs": [],
   "source": [
    "current_SR = current_SR[['Complaint ID','NotesAs15thJuly']]"
   ]
  },
  {
   "cell_type": "code",
   "execution_count": 643,
   "metadata": {},
   "outputs": [],
   "source": [
    "final1 = pd.merge(bpem, current_comp, on=\"Complaint ID\", how ='left')"
   ]
  },
  {
   "cell_type": "code",
   "execution_count": 644,
   "metadata": {},
   "outputs": [],
   "source": [
    "final_bpem = pd.merge(final1, current_SR, on=\"Complaint ID\", how ='left')"
   ]
  },
  {
   "cell_type": "code",
   "execution_count": 646,
   "metadata": {},
   "outputs": [
    {
     "data": {
      "text/plain": [
       "Index(['State', 'State Description', 'Business Area - Key', 'Channel',\n",
       "       'Complaint ID', 'CA Number', 'Unit', 'Category', 'Sub-Category',\n",
       "       'Creation Date', 'SN Number', 'SO Number', 'BPEM Case', 'Notes',\n",
       "       'SN Remarks 5July', 'BPEM Notes 9July', 'Status 15July',\n",
       "       'Verified Root Cause Type', 'Verified Root Cause', 'Root Cause Measure',\n",
       "       'Refund/Arrears', 'Dt/Cr Amount', 'MB Reason', 'PORTION',\n",
       "       'MAY_TARIFTYP', 'BILL_DURATION_JUNE', 'ACT/EST/FIN', 'Unnamed: 27',\n",
       "       'Unnamed: 28', 'Unnamed: 29', 'Unnamed: 30', 'Unnamed: 31',\n",
       "       'Unnamed: 32', 'NotesAs15thJuly_x', 'NotesAs15thJuly_y'],\n",
       "      dtype='object')"
      ]
     },
     "execution_count": 646,
     "metadata": {},
     "output_type": "execute_result"
    }
   ],
   "source": [
    "final_bpem.columns"
   ]
  },
  {
   "cell_type": "code",
   "execution_count": 647,
   "metadata": {},
   "outputs": [],
   "source": [
    "final_bpem = final_bpem[['State', 'State Description', 'Business Area - Key', 'Channel',\n",
    "       'Complaint ID', 'CA Number', 'Unit', 'Category', 'Sub-Category',\n",
    "       'Creation Date', 'SN Number', 'SO Number', 'BPEM Case', 'Notes', 'NotesAs15thJuly_x', 'NotesAs15thJuly_y',\n",
    "       'SN Remarks 5July', 'BPEM Notes 9July', 'Status 15July',\n",
    "       'Verified Root Cause Type', 'Verified Root Cause', 'Root Cause Measure',\n",
    "       'Refund/Arrears', 'Dt/Cr Amount', 'MB Reason', 'PORTION',\n",
    "       'MAY_TARIFTYP', 'BILL_DURATION_JUNE', 'ACT/EST/FIN', 'Unnamed: 27',\n",
    "       'Unnamed: 28', 'Unnamed: 29', 'Unnamed: 30', 'Unnamed: 31',\n",
    "       'Unnamed: 32']]"
   ]
  },
  {
   "cell_type": "code",
   "execution_count": 648,
   "metadata": {},
   "outputs": [],
   "source": [
    "final_bpem.to_csv(r\"C:\\Users\\ijohan\\Desktop\\the-spoon\\projects-code\\power_sector\\20190715_June_SRC_Main_List_40457_updatedNOTES.csv\")"
   ]
  },
  {
   "cell_type": "code",
   "execution_count": null,
   "metadata": {},
   "outputs": [],
   "source": []
  }
 ],
 "metadata": {
  "kernelspec": {
   "display_name": "Python 3",
   "language": "python",
   "name": "python3"
  },
  "language_info": {
   "codemirror_mode": {
    "name": "ipython",
    "version": 3
   },
   "file_extension": ".py",
   "mimetype": "text/x-python",
   "name": "python",
   "nbconvert_exporter": "python",
   "pygments_lexer": "ipython3",
   "version": "3.7.3"
  }
 },
 "nbformat": 4,
 "nbformat_minor": 2
}
