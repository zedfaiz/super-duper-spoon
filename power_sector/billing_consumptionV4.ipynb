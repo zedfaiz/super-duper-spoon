{
 "cells": [
  {
   "cell_type": "markdown",
   "metadata": {},
   "source": [
    "In this script we have done descriptive analysis of the billing consumption data, Analysis include stats such as KWH consumption per day, Current charges per day. Each of the code block will have brief description."
   ]
  },
  {
   "cell_type": "markdown",
   "metadata": {},
   "source": [
    "In below code block we importing libraries required for processing and looading data in to python.In \"pd.read_csv\" we need to provide the exact system path of the file that needs to be processed."
   ]
  },
  {
   "cell_type": "code",
   "execution_count": 462,
   "metadata": {},
   "outputs": [],
   "source": [
    "import pandas as pd\n",
    "import matplotlib as plt\n",
    "%matplotlib inline\n",
    "plt.rcParams[\"figure.figsize\"] = [10, 5]\n",
    "#read consumption file\n",
    "billing_period = pd.read_csv(r\"C:\\Users\\ijohan\\Desktop\\the-spoon\\projects-code\\power_sector\\JOINED_BILLING_SPOTDATA_MAY2019_FOUNDATION_V3.csv\",sep='|', encoding='iso-8859-1')"
   ]
  },
  {
   "cell_type": "markdown",
   "metadata": {},
   "source": [
    "Below code block is to view the structure of data(first few rows)"
   ]
  },
  {
   "cell_type": "code",
   "execution_count": 3,
   "metadata": {},
   "outputs": [],
   "source": [
    "billing_period.head()"
   ]
  },
  {
   "cell_type": "markdown",
   "metadata": {},
   "source": [
    "In below code block we are droping all the columns where all the values are NA"
   ]
  },
  {
   "cell_type": "code",
   "execution_count": 464,
   "metadata": {},
   "outputs": [],
   "source": [
    "# drop columns having all NAN values\n",
    "billing_period = billing_period.dropna(axis = 1, how = 'all')"
   ]
  },
  {
   "cell_type": "markdown",
   "metadata": {},
   "source": [
    "Below we are converting all the columns with date as date data type"
   ]
  },
  {
   "cell_type": "code",
   "execution_count": 465,
   "metadata": {},
   "outputs": [],
   "source": [
    "# convert date and time field to date\n",
    "billing_period['Bill date'] = pd.to_datetime(billing_period['Bill date']).apply(lambda x: x.date())\n",
    "billing_period['Billing period start date'] = pd.to_datetime(billing_period['Billing period start date']).apply(lambda x: x.date())\n",
    "billing_period['Billing period end date'] = pd.to_datetime(billing_period['Billing period end date']).apply(lambda x: x.date())"
   ]
  },
  {
   "cell_type": "code",
   "execution_count": 466,
   "metadata": {},
   "outputs": [
    {
     "data": {
      "text/plain": [
       "Index(['Contract Account', 'Portion', 'Bill date', 'Bill type',\n",
       "       'Billing period start date', 'Billing period end date', 'Bill duration',\n",
       "       'Prorate factor', 'MRU', 'Description', 'BILLING_PERIOD',\n",
       "       'CUSTOMER_NAME', 'AREA', 'READING_TYPE', 'TARIFTYP',\n",
       "       'ACC_DETERMINATION', 'OUTSTANDING_AMOUNT', 'CURRENT_CHARGES',\n",
       "       'ROUNDING_AMOUNT', 'TOTAL_BILL', 'KWH TOTAL', 'KWH_RM_1', 'KWH_RM_2',\n",
       "       'KWH_RM'],\n",
       "      dtype='object')"
      ]
     },
     "execution_count": 466,
     "metadata": {},
     "output_type": "execute_result"
    }
   ],
   "source": [
    "# Check the column names of the file \n",
    "billing_period.columns"
   ]
  },
  {
   "cell_type": "code",
   "execution_count": 467,
   "metadata": {},
   "outputs": [],
   "source": [
    "\n",
    "# While reading the file to python, sometime it reads lasrge numbers as scientific notation.\n",
    "# so , we are converting CA field from scientific notation to string\n",
    "billing_period['Contract Account'] = billing_period['Contract Account'].map(lambda x: '{:.0f}'.format(x))"
   ]
  },
  {
   "cell_type": "code",
   "execution_count": 468,
   "metadata": {},
   "outputs": [],
   "source": [
    "# Converting CA field of billing_period to string\n",
    "billing_period['Contract Account'] = billing_period['Contract Account'].astype(str)"
   ]
  },
  {
   "cell_type": "markdown",
   "metadata": {},
   "source": [
    "In below code block we are filtering only required columns"
   ]
  },
  {
   "cell_type": "code",
   "execution_count": 471,
   "metadata": {},
   "outputs": [],
   "source": [
    "# filtering required columns\n",
    "billing_period = billing_period[['Contract Account', 'Portion', 'Bill type',\n",
    "       'Bill duration', 'Prorate factor', 'MRU', 'Description',\n",
    "       'BILLING_PERIOD', 'AREA', 'READING_TYPE', 'TARIFTYP',\n",
    "       'ACC_DETERMINATION', 'OUTSTANDING_AMOUNT', 'CURRENT_CHARGES',\n",
    "      'TOTAL_BILL', 'KWH TOTAL', 'KWH_RM']]"
   ]
  },
  {
   "cell_type": "code",
   "execution_count": 472,
   "metadata": {},
   "outputs": [],
   "source": [
    "#In this code block we filtering data based on year. In this case we take data for 2019 or all the data other than 2018\n",
    "billing_period = billing_period[billing_period.BILLING_PERIOD != 2018]"
   ]
  },
  {
   "cell_type": "code",
   "execution_count": 474,
   "metadata": {},
   "outputs": [],
   "source": [
    "# Removing rows where bill duration is NAN\n",
    "billing_period = billing_period[np.isfinite(billing_period['Bill duration'])]"
   ]
  },
  {
   "cell_type": "code",
   "execution_count": 4,
   "metadata": {},
   "outputs": [],
   "source": [
    "billing_period.head()"
   ]
  },
  {
   "cell_type": "code",
   "execution_count": 476,
   "metadata": {},
   "outputs": [],
   "source": [
    "# Check data types of \"billing_period\" data frame\n",
    "billing_period.dtypes"
   ]
  },
  {
   "cell_type": "markdown",
   "metadata": {},
   "source": [
    "# KWH per day"
   ]
  },
  {
   "cell_type": "markdown",
   "metadata": {},
   "source": [
    "In below code block we are trying to find the KWH consumption per day based on CA. We are creating new column for KWH per day"
   ]
  },
  {
   "cell_type": "code",
   "execution_count": 477,
   "metadata": {},
   "outputs": [],
   "source": [
    "# create new column for KWH per day consumption in month for each CA\n",
    "billing_period['KWH_PER_DAY'] = billing_period.apply(lambda x: x['Bill duration'] if x['Bill duration'] < 1 else x['KWH TOTAL']/x['Bill duration'], axis=1)"
   ]
  },
  {
   "cell_type": "code",
   "execution_count": 5,
   "metadata": {},
   "outputs": [],
   "source": [
    "# Check if the new column is added to the data frame\n",
    "billing_period.head()"
   ]
  },
  {
   "cell_type": "markdown",
   "metadata": {},
   "source": [
    "In below code block we are trying to find the billing charges per day based on CA. We are creating new column for CHARGES_PER_DAY"
   ]
  },
  {
   "cell_type": "markdown",
   "metadata": {},
   "source": [
    "# Billing charges per day"
   ]
  },
  {
   "cell_type": "code",
   "execution_count": 479,
   "metadata": {},
   "outputs": [],
   "source": [
    "# create new column for CURRENT_CHARGES per day consumption in month for each CA\n",
    "billing_period['CHARGES_PER_DAY'] = billing_period.apply(lambda x: x['Bill duration'] if x['Bill duration'] < 1 else x['CURRENT_CHARGES']/x['Bill duration'], axis=1)"
   ]
  },
  {
   "cell_type": "code",
   "execution_count": 6,
   "metadata": {},
   "outputs": [],
   "source": [
    "#check if the CHARGES_PER_DAY column is added to the data frame\n",
    "billing_period.head()"
   ]
  },
  {
   "cell_type": "code",
   "execution_count": 481,
   "metadata": {},
   "outputs": [],
   "source": [
    "# Writing the file as csv to form required output.\n",
    "billing_period.to_csv(\"C:\\\\MPS\\\\projects\\\\TNB\\\\billing\\\\data\\\\billing_mode_data.csv\")"
   ]
  },
  {
   "cell_type": "markdown",
   "metadata": {},
   "source": [
    "# Current charges per KWH: CCPerKWH"
   ]
  },
  {
   "cell_type": "markdown",
   "metadata": {},
   "source": [
    "In below code block we are trying to find the current charges per KWH based on CA. We are creating new column for CURRENT_CHARGES_PER_KWH"
   ]
  },
  {
   "cell_type": "code",
   "execution_count": 482,
   "metadata": {},
   "outputs": [],
   "source": [
    "# create new column for CURRENT_CHARGES per day consumption in month for each CA\n",
    "billing_period['CURRENT_CHARGES_PER_KWH'] = billing_period.apply(lambda x: x['CHARGES_PER_DAY'] if x['CHARGES_PER_DAY'] < 1 else x['KWH_PER_DAY']/x['CHARGES_PER_DAY'], axis=1)"
   ]
  },
  {
   "cell_type": "code",
   "execution_count": 7,
   "metadata": {},
   "outputs": [],
   "source": [
    "# Check if the CURRENT_CHARGES_PER_KWH column is added to data frame\n",
    "billing_period.head()"
   ]
  },
  {
   "cell_type": "markdown",
   "metadata": {},
   "source": [
    "# Cumulative sum of KWH per day: CumSumKWHperDay"
   ]
  },
  {
   "cell_type": "markdown",
   "metadata": {},
   "source": [
    "In below code block we are trying to find the Cumulative sum of KWH per day based on CA. We are creating new column for cum_sum_KWH_per_day"
   ]
  },
  {
   "cell_type": "code",
   "execution_count": 484,
   "metadata": {},
   "outputs": [],
   "source": [
    "# Find cumulative sum of each CA\n",
    "billing_period['cum_sum_KWH_per_day'] = (billing_period['KWH_PER_DAY']).groupby(billing_period['Contract Account']).cumsum()"
   ]
  },
  {
   "cell_type": "code",
   "execution_count": 9,
   "metadata": {},
   "outputs": [],
   "source": [
    "# Check if cum_sum_KWH_per_day column is added to the data to data frame\n",
    "billing_period.head()"
   ]
  },
  {
   "cell_type": "markdown",
   "metadata": {},
   "source": [
    "# Cum num column"
   ]
  },
  {
   "cell_type": "code",
   "execution_count": 486,
   "metadata": {},
   "outputs": [],
   "source": [
    "# Adding new column numbering groupby CA column, number to days corresponding to cumulative sum\n",
    "billing_period['cum_num'] = billing_period.groupby(['Contract Account']).cumcount()+1"
   ]
  },
  {
   "cell_type": "code",
   "execution_count": 487,
   "metadata": {},
   "outputs": [
    {
     "data": {
      "text/html": [
       "<div>\n",
       "<style scoped>\n",
       "    .dataframe tbody tr th:only-of-type {\n",
       "        vertical-align: middle;\n",
       "    }\n",
       "\n",
       "    .dataframe tbody tr th {\n",
       "        vertical-align: top;\n",
       "    }\n",
       "\n",
       "    .dataframe thead th {\n",
       "        text-align: right;\n",
       "    }\n",
       "</style>\n",
       "<table border=\"1\" class=\"dataframe\">\n",
       "  <thead>\n",
       "    <tr style=\"text-align: right;\">\n",
       "      <th></th>\n",
       "      <th>Contract Account</th>\n",
       "      <th>Portion</th>\n",
       "      <th>Bill type</th>\n",
       "      <th>Bill duration</th>\n",
       "      <th>Prorate factor</th>\n",
       "      <th>MRU</th>\n",
       "      <th>Description</th>\n",
       "      <th>BILLING_PERIOD</th>\n",
       "      <th>AREA</th>\n",
       "      <th>READING_TYPE</th>\n",
       "      <th>...</th>\n",
       "      <th>OUTSTANDING_AMOUNT</th>\n",
       "      <th>CURRENT_CHARGES</th>\n",
       "      <th>TOTAL_BILL</th>\n",
       "      <th>KWH TOTAL</th>\n",
       "      <th>KWH_RM</th>\n",
       "      <th>KWH_PER_DAY</th>\n",
       "      <th>CHARGES_PER_DAY</th>\n",
       "      <th>CURRENT_CHARGES_PER_KWH</th>\n",
       "      <th>cum_sum_KWH_per_day</th>\n",
       "      <th>cum_num</th>\n",
       "    </tr>\n",
       "  </thead>\n",
       "  <tbody>\n",
       "    <tr>\n",
       "      <th>0</th>\n",
       "      <td>220225000000</td>\n",
       "      <td>SPOT28</td>\n",
       "      <td>OPC</td>\n",
       "      <td>30.0</td>\n",
       "      <td>1.0</td>\n",
       "      <td>12100820.0</td>\n",
       "      <td>A 4467 BLK A-G-01, JLN PJU 8/2</td>\n",
       "      <td>2019/01</td>\n",
       "      <td>6121</td>\n",
       "      <td>Bacaan Sebenar</td>\n",
       "      <td>...</td>\n",
       "      <td>0.00</td>\n",
       "      <td>34.23</td>\n",
       "      <td>34.25</td>\n",
       "      <td>157.0</td>\n",
       "      <td>34.23</td>\n",
       "      <td>5.233333</td>\n",
       "      <td>1.141000</td>\n",
       "      <td>4.586620</td>\n",
       "      <td>5.233333</td>\n",
       "      <td>1</td>\n",
       "    </tr>\n",
       "    <tr>\n",
       "      <th>1</th>\n",
       "      <td>220225000000</td>\n",
       "      <td>SPOT28</td>\n",
       "      <td>OPC</td>\n",
       "      <td>31.0</td>\n",
       "      <td>1.0</td>\n",
       "      <td>12100820.0</td>\n",
       "      <td>A 4467 BLK A-G-01, JLN PJU 8/2</td>\n",
       "      <td>2019/02</td>\n",
       "      <td>6121</td>\n",
       "      <td>Bacaan Sebenar</td>\n",
       "      <td>...</td>\n",
       "      <td>0.00</td>\n",
       "      <td>27.69</td>\n",
       "      <td>27.70</td>\n",
       "      <td>127.0</td>\n",
       "      <td>27.69</td>\n",
       "      <td>4.096774</td>\n",
       "      <td>0.893226</td>\n",
       "      <td>0.893226</td>\n",
       "      <td>9.330108</td>\n",
       "      <td>2</td>\n",
       "    </tr>\n",
       "    <tr>\n",
       "      <th>2</th>\n",
       "      <td>220225000000</td>\n",
       "      <td>SPOT28</td>\n",
       "      <td>OPC</td>\n",
       "      <td>31.0</td>\n",
       "      <td>1.0</td>\n",
       "      <td>12100820.0</td>\n",
       "      <td>A 4467 BLK A-G-01, JLN PJU 8/2</td>\n",
       "      <td>2019/03</td>\n",
       "      <td>6121</td>\n",
       "      <td>Bacaan Sebenar</td>\n",
       "      <td>...</td>\n",
       "      <td>0.00</td>\n",
       "      <td>11.55</td>\n",
       "      <td>11.55</td>\n",
       "      <td>53.0</td>\n",
       "      <td>11.55</td>\n",
       "      <td>1.709677</td>\n",
       "      <td>0.372581</td>\n",
       "      <td>0.372581</td>\n",
       "      <td>11.039785</td>\n",
       "      <td>3</td>\n",
       "    </tr>\n",
       "    <tr>\n",
       "      <th>3</th>\n",
       "      <td>220225000000</td>\n",
       "      <td>SPOT28</td>\n",
       "      <td>OPC</td>\n",
       "      <td>18.0</td>\n",
       "      <td>1.0</td>\n",
       "      <td>12100820.0</td>\n",
       "      <td>A 4467 BLK A-G-01, JLN PJU 8/2</td>\n",
       "      <td>2019/04</td>\n",
       "      <td>6121</td>\n",
       "      <td>Bacaan Akhir</td>\n",
       "      <td>...</td>\n",
       "      <td>11.55</td>\n",
       "      <td>-537.88</td>\n",
       "      <td>-526.34</td>\n",
       "      <td>17.0</td>\n",
       "      <td>3.71</td>\n",
       "      <td>0.944444</td>\n",
       "      <td>-29.882222</td>\n",
       "      <td>-29.882222</td>\n",
       "      <td>11.984229</td>\n",
       "      <td>4</td>\n",
       "    </tr>\n",
       "    <tr>\n",
       "      <th>4</th>\n",
       "      <td>210000047810</td>\n",
       "      <td>SPOT21</td>\n",
       "      <td>OPC</td>\n",
       "      <td>30.0</td>\n",
       "      <td>1.0</td>\n",
       "      <td>16000563.0</td>\n",
       "      <td>B 383 SEK 17 SHAH ALAM</td>\n",
       "      <td>2019/01</td>\n",
       "      <td>6160</td>\n",
       "      <td>Bacaan Sebenar</td>\n",
       "      <td>...</td>\n",
       "      <td>0.00</td>\n",
       "      <td>261.35</td>\n",
       "      <td>261.35</td>\n",
       "      <td>644.0</td>\n",
       "      <td>255.82</td>\n",
       "      <td>21.466667</td>\n",
       "      <td>8.711667</td>\n",
       "      <td>2.464129</td>\n",
       "      <td>21.466667</td>\n",
       "      <td>1</td>\n",
       "    </tr>\n",
       "  </tbody>\n",
       "</table>\n",
       "<p>5 rows × 22 columns</p>\n",
       "</div>"
      ],
      "text/plain": [
       "  Contract Account Portion Bill type  Bill duration  Prorate factor  \\\n",
       "0     220225000000  SPOT28       OPC           30.0             1.0   \n",
       "1     220225000000  SPOT28       OPC           31.0             1.0   \n",
       "2     220225000000  SPOT28       OPC           31.0             1.0   \n",
       "3     220225000000  SPOT28       OPC           18.0             1.0   \n",
       "4     210000047810  SPOT21       OPC           30.0             1.0   \n",
       "\n",
       "          MRU                     Description BILLING_PERIOD  AREA  \\\n",
       "0  12100820.0  A 4467 BLK A-G-01, JLN PJU 8/2        2019/01  6121   \n",
       "1  12100820.0  A 4467 BLK A-G-01, JLN PJU 8/2        2019/02  6121   \n",
       "2  12100820.0  A 4467 BLK A-G-01, JLN PJU 8/2        2019/03  6121   \n",
       "3  12100820.0  A 4467 BLK A-G-01, JLN PJU 8/2        2019/04  6121   \n",
       "4  16000563.0          B 383 SEK 17 SHAH ALAM        2019/01  6160   \n",
       "\n",
       "     READING_TYPE  ... OUTSTANDING_AMOUNT CURRENT_CHARGES  TOTAL_BILL  \\\n",
       "0  Bacaan Sebenar  ...               0.00           34.23       34.25   \n",
       "1  Bacaan Sebenar  ...               0.00           27.69       27.70   \n",
       "2  Bacaan Sebenar  ...               0.00           11.55       11.55   \n",
       "3    Bacaan Akhir  ...              11.55         -537.88     -526.34   \n",
       "4  Bacaan Sebenar  ...               0.00          261.35      261.35   \n",
       "\n",
       "   KWH TOTAL  KWH_RM  KWH_PER_DAY  CHARGES_PER_DAY  CURRENT_CHARGES_PER_KWH  \\\n",
       "0      157.0   34.23     5.233333         1.141000                 4.586620   \n",
       "1      127.0   27.69     4.096774         0.893226                 0.893226   \n",
       "2       53.0   11.55     1.709677         0.372581                 0.372581   \n",
       "3       17.0    3.71     0.944444       -29.882222               -29.882222   \n",
       "4      644.0  255.82    21.466667         8.711667                 2.464129   \n",
       "\n",
       "   cum_sum_KWH_per_day  cum_num  \n",
       "0             5.233333        1  \n",
       "1             9.330108        2  \n",
       "2            11.039785        3  \n",
       "3            11.984229        4  \n",
       "4            21.466667        1  \n",
       "\n",
       "[5 rows x 22 columns]"
      ]
     },
     "execution_count": 487,
     "metadata": {},
     "output_type": "execute_result"
    }
   ],
   "source": [
    "billing_period.head()"
   ]
  },
  {
   "cell_type": "markdown",
   "metadata": {},
   "source": [
    "# Cumulative average"
   ]
  },
  {
   "cell_type": "code",
   "execution_count": 488,
   "metadata": {},
   "outputs": [],
   "source": [
    "# cumulative KWH per day/ cum_num\n",
    "# create new column for CURRENT_CHARGES per day consumption in month for each CA\n",
    "billing_period['CUM_KWH_AVG'] = billing_period.apply(lambda x: x['cum_num'] if x['cum_num'] < 1 else x['cum_sum_KWH_per_day']/x['cum_num'], axis=1)"
   ]
  },
  {
   "cell_type": "code",
   "execution_count": 489,
   "metadata": {},
   "outputs": [
    {
     "data": {
      "text/html": [
       "<div>\n",
       "<style scoped>\n",
       "    .dataframe tbody tr th:only-of-type {\n",
       "        vertical-align: middle;\n",
       "    }\n",
       "\n",
       "    .dataframe tbody tr th {\n",
       "        vertical-align: top;\n",
       "    }\n",
       "\n",
       "    .dataframe thead th {\n",
       "        text-align: right;\n",
       "    }\n",
       "</style>\n",
       "<table border=\"1\" class=\"dataframe\">\n",
       "  <thead>\n",
       "    <tr style=\"text-align: right;\">\n",
       "      <th></th>\n",
       "      <th>Contract Account</th>\n",
       "      <th>Portion</th>\n",
       "      <th>Bill type</th>\n",
       "      <th>Bill duration</th>\n",
       "      <th>Prorate factor</th>\n",
       "      <th>MRU</th>\n",
       "      <th>Description</th>\n",
       "      <th>BILLING_PERIOD</th>\n",
       "      <th>AREA</th>\n",
       "      <th>READING_TYPE</th>\n",
       "      <th>...</th>\n",
       "      <th>CURRENT_CHARGES</th>\n",
       "      <th>TOTAL_BILL</th>\n",
       "      <th>KWH TOTAL</th>\n",
       "      <th>KWH_RM</th>\n",
       "      <th>KWH_PER_DAY</th>\n",
       "      <th>CHARGES_PER_DAY</th>\n",
       "      <th>CURRENT_CHARGES_PER_KWH</th>\n",
       "      <th>cum_sum_KWH_per_day</th>\n",
       "      <th>cum_num</th>\n",
       "      <th>CUM_KWH_AVG</th>\n",
       "    </tr>\n",
       "  </thead>\n",
       "  <tbody>\n",
       "    <tr>\n",
       "      <th>0</th>\n",
       "      <td>220225000000</td>\n",
       "      <td>SPOT28</td>\n",
       "      <td>OPC</td>\n",
       "      <td>30.0</td>\n",
       "      <td>1.0</td>\n",
       "      <td>12100820.0</td>\n",
       "      <td>A 4467 BLK A-G-01, JLN PJU 8/2</td>\n",
       "      <td>2019/01</td>\n",
       "      <td>6121</td>\n",
       "      <td>Bacaan Sebenar</td>\n",
       "      <td>...</td>\n",
       "      <td>34.23</td>\n",
       "      <td>34.25</td>\n",
       "      <td>157.0</td>\n",
       "      <td>34.23</td>\n",
       "      <td>5.233333</td>\n",
       "      <td>1.141000</td>\n",
       "      <td>4.586620</td>\n",
       "      <td>5.233333</td>\n",
       "      <td>1</td>\n",
       "      <td>5.233333</td>\n",
       "    </tr>\n",
       "    <tr>\n",
       "      <th>1</th>\n",
       "      <td>220225000000</td>\n",
       "      <td>SPOT28</td>\n",
       "      <td>OPC</td>\n",
       "      <td>31.0</td>\n",
       "      <td>1.0</td>\n",
       "      <td>12100820.0</td>\n",
       "      <td>A 4467 BLK A-G-01, JLN PJU 8/2</td>\n",
       "      <td>2019/02</td>\n",
       "      <td>6121</td>\n",
       "      <td>Bacaan Sebenar</td>\n",
       "      <td>...</td>\n",
       "      <td>27.69</td>\n",
       "      <td>27.70</td>\n",
       "      <td>127.0</td>\n",
       "      <td>27.69</td>\n",
       "      <td>4.096774</td>\n",
       "      <td>0.893226</td>\n",
       "      <td>0.893226</td>\n",
       "      <td>9.330108</td>\n",
       "      <td>2</td>\n",
       "      <td>4.665054</td>\n",
       "    </tr>\n",
       "    <tr>\n",
       "      <th>2</th>\n",
       "      <td>220225000000</td>\n",
       "      <td>SPOT28</td>\n",
       "      <td>OPC</td>\n",
       "      <td>31.0</td>\n",
       "      <td>1.0</td>\n",
       "      <td>12100820.0</td>\n",
       "      <td>A 4467 BLK A-G-01, JLN PJU 8/2</td>\n",
       "      <td>2019/03</td>\n",
       "      <td>6121</td>\n",
       "      <td>Bacaan Sebenar</td>\n",
       "      <td>...</td>\n",
       "      <td>11.55</td>\n",
       "      <td>11.55</td>\n",
       "      <td>53.0</td>\n",
       "      <td>11.55</td>\n",
       "      <td>1.709677</td>\n",
       "      <td>0.372581</td>\n",
       "      <td>0.372581</td>\n",
       "      <td>11.039785</td>\n",
       "      <td>3</td>\n",
       "      <td>3.679928</td>\n",
       "    </tr>\n",
       "    <tr>\n",
       "      <th>3</th>\n",
       "      <td>220225000000</td>\n",
       "      <td>SPOT28</td>\n",
       "      <td>OPC</td>\n",
       "      <td>18.0</td>\n",
       "      <td>1.0</td>\n",
       "      <td>12100820.0</td>\n",
       "      <td>A 4467 BLK A-G-01, JLN PJU 8/2</td>\n",
       "      <td>2019/04</td>\n",
       "      <td>6121</td>\n",
       "      <td>Bacaan Akhir</td>\n",
       "      <td>...</td>\n",
       "      <td>-537.88</td>\n",
       "      <td>-526.34</td>\n",
       "      <td>17.0</td>\n",
       "      <td>3.71</td>\n",
       "      <td>0.944444</td>\n",
       "      <td>-29.882222</td>\n",
       "      <td>-29.882222</td>\n",
       "      <td>11.984229</td>\n",
       "      <td>4</td>\n",
       "      <td>2.996057</td>\n",
       "    </tr>\n",
       "    <tr>\n",
       "      <th>4</th>\n",
       "      <td>210000047810</td>\n",
       "      <td>SPOT21</td>\n",
       "      <td>OPC</td>\n",
       "      <td>30.0</td>\n",
       "      <td>1.0</td>\n",
       "      <td>16000563.0</td>\n",
       "      <td>B 383 SEK 17 SHAH ALAM</td>\n",
       "      <td>2019/01</td>\n",
       "      <td>6160</td>\n",
       "      <td>Bacaan Sebenar</td>\n",
       "      <td>...</td>\n",
       "      <td>261.35</td>\n",
       "      <td>261.35</td>\n",
       "      <td>644.0</td>\n",
       "      <td>255.82</td>\n",
       "      <td>21.466667</td>\n",
       "      <td>8.711667</td>\n",
       "      <td>2.464129</td>\n",
       "      <td>21.466667</td>\n",
       "      <td>1</td>\n",
       "      <td>21.466667</td>\n",
       "    </tr>\n",
       "  </tbody>\n",
       "</table>\n",
       "<p>5 rows × 23 columns</p>\n",
       "</div>"
      ],
      "text/plain": [
       "  Contract Account Portion Bill type  Bill duration  Prorate factor  \\\n",
       "0     220225000000  SPOT28       OPC           30.0             1.0   \n",
       "1     220225000000  SPOT28       OPC           31.0             1.0   \n",
       "2     220225000000  SPOT28       OPC           31.0             1.0   \n",
       "3     220225000000  SPOT28       OPC           18.0             1.0   \n",
       "4     210000047810  SPOT21       OPC           30.0             1.0   \n",
       "\n",
       "          MRU                     Description BILLING_PERIOD  AREA  \\\n",
       "0  12100820.0  A 4467 BLK A-G-01, JLN PJU 8/2        2019/01  6121   \n",
       "1  12100820.0  A 4467 BLK A-G-01, JLN PJU 8/2        2019/02  6121   \n",
       "2  12100820.0  A 4467 BLK A-G-01, JLN PJU 8/2        2019/03  6121   \n",
       "3  12100820.0  A 4467 BLK A-G-01, JLN PJU 8/2        2019/04  6121   \n",
       "4  16000563.0          B 383 SEK 17 SHAH ALAM        2019/01  6160   \n",
       "\n",
       "     READING_TYPE  ... CURRENT_CHARGES TOTAL_BILL  KWH TOTAL  KWH_RM  \\\n",
       "0  Bacaan Sebenar  ...           34.23      34.25      157.0   34.23   \n",
       "1  Bacaan Sebenar  ...           27.69      27.70      127.0   27.69   \n",
       "2  Bacaan Sebenar  ...           11.55      11.55       53.0   11.55   \n",
       "3    Bacaan Akhir  ...         -537.88    -526.34       17.0    3.71   \n",
       "4  Bacaan Sebenar  ...          261.35     261.35      644.0  255.82   \n",
       "\n",
       "   KWH_PER_DAY  CHARGES_PER_DAY  CURRENT_CHARGES_PER_KWH  cum_sum_KWH_per_day  \\\n",
       "0     5.233333         1.141000                 4.586620             5.233333   \n",
       "1     4.096774         0.893226                 0.893226             9.330108   \n",
       "2     1.709677         0.372581                 0.372581            11.039785   \n",
       "3     0.944444       -29.882222               -29.882222            11.984229   \n",
       "4    21.466667         8.711667                 2.464129            21.466667   \n",
       "\n",
       "   cum_num  CUM_KWH_AVG  \n",
       "0        1     5.233333  \n",
       "1        2     4.665054  \n",
       "2        3     3.679928  \n",
       "3        4     2.996057  \n",
       "4        1    21.466667  \n",
       "\n",
       "[5 rows x 23 columns]"
      ]
     },
     "execution_count": 489,
     "metadata": {},
     "output_type": "execute_result"
    }
   ],
   "source": [
    "billing_period.head()"
   ]
  },
  {
   "cell_type": "code",
   "execution_count": 490,
   "metadata": {},
   "outputs": [],
   "source": [
    "#billing_period.to_csv(\"C:\\\\MPS\\\\projects\\\\TNB\\\\billing\\\\data\\\\billing_mode_data_avg.csv\")"
   ]
  },
  {
   "cell_type": "markdown",
   "metadata": {},
   "source": [
    "# Converting estimated and actual to english"
   ]
  },
  {
   "cell_type": "code",
   "execution_count": 491,
   "metadata": {},
   "outputs": [],
   "source": [
    "# We replacing the column labels from Malay to english in reading type column\n",
    "billing_period['READING_TYPE'] = billing_period['READING_TYPE'].replace(['Bacaan Sebenar'], 'ACT')\n",
    "billing_period['READING_TYPE'] = billing_period['READING_TYPE'].replace(['Bacaan Anggaran'], 'EST')\n",
    "billing_period['READING_TYPE'] = billing_period['READING_TYPE'].replace(['Bacaan Akhir'], 'FIN')"
   ]
  },
  {
   "cell_type": "markdown",
   "metadata": {},
   "source": [
    "# Create billing_period_flag for billling data"
   ]
  },
  {
   "cell_type": "markdown",
   "metadata": {},
   "source": [
    "In below code block we are creatign flag coresponding to each CA based upon the Billing duration"
   ]
  },
  {
   "cell_type": "code",
   "execution_count": 492,
   "metadata": {},
   "outputs": [],
   "source": [
    "#Creating flag column with below conditions for billing period\n",
    "def billing_period_flag(row):\n",
    "    if row['Bill duration'] < 30:\n",
    "        val = 'less than 30'\n",
    "    elif (row['Bill duration'] == 30) | (row['Bill duration'] == 31):\n",
    "        val = '30 or 31'\n",
    "    elif (row['Bill duration'] > 31) & (row['Bill duration'] < 40):\n",
    "        val = \"between 31 and 40\"\n",
    "    elif row['Bill duration'] >= 40:\n",
    "        val = 'greater than 40'\n",
    "    return val"
   ]
  },
  {
   "cell_type": "code",
   "execution_count": 493,
   "metadata": {},
   "outputs": [],
   "source": [
    "#applying fuction on billing period data\n",
    "billing_period['billing_period_flag'] = billing_period.apply(billing_period_flag, axis=1)"
   ]
  },
  {
   "cell_type": "code",
   "execution_count": 494,
   "metadata": {},
   "outputs": [
    {
     "data": {
      "text/html": [
       "<div>\n",
       "<style scoped>\n",
       "    .dataframe tbody tr th:only-of-type {\n",
       "        vertical-align: middle;\n",
       "    }\n",
       "\n",
       "    .dataframe tbody tr th {\n",
       "        vertical-align: top;\n",
       "    }\n",
       "\n",
       "    .dataframe thead th {\n",
       "        text-align: right;\n",
       "    }\n",
       "</style>\n",
       "<table border=\"1\" class=\"dataframe\">\n",
       "  <thead>\n",
       "    <tr style=\"text-align: right;\">\n",
       "      <th></th>\n",
       "      <th>Contract Account</th>\n",
       "      <th>Portion</th>\n",
       "      <th>Bill type</th>\n",
       "      <th>Bill duration</th>\n",
       "      <th>Prorate factor</th>\n",
       "      <th>MRU</th>\n",
       "      <th>Description</th>\n",
       "      <th>BILLING_PERIOD</th>\n",
       "      <th>AREA</th>\n",
       "      <th>READING_TYPE</th>\n",
       "      <th>...</th>\n",
       "      <th>TOTAL_BILL</th>\n",
       "      <th>KWH TOTAL</th>\n",
       "      <th>KWH_RM</th>\n",
       "      <th>KWH_PER_DAY</th>\n",
       "      <th>CHARGES_PER_DAY</th>\n",
       "      <th>CURRENT_CHARGES_PER_KWH</th>\n",
       "      <th>cum_sum_KWH_per_day</th>\n",
       "      <th>cum_num</th>\n",
       "      <th>CUM_KWH_AVG</th>\n",
       "      <th>billing_period_flag</th>\n",
       "    </tr>\n",
       "  </thead>\n",
       "  <tbody>\n",
       "    <tr>\n",
       "      <th>0</th>\n",
       "      <td>220225000000</td>\n",
       "      <td>SPOT28</td>\n",
       "      <td>OPC</td>\n",
       "      <td>30.0</td>\n",
       "      <td>1.0</td>\n",
       "      <td>12100820.0</td>\n",
       "      <td>A 4467 BLK A-G-01, JLN PJU 8/2</td>\n",
       "      <td>2019/01</td>\n",
       "      <td>6121</td>\n",
       "      <td>ACT</td>\n",
       "      <td>...</td>\n",
       "      <td>34.25</td>\n",
       "      <td>157.0</td>\n",
       "      <td>34.23</td>\n",
       "      <td>5.233333</td>\n",
       "      <td>1.141000</td>\n",
       "      <td>4.586620</td>\n",
       "      <td>5.233333</td>\n",
       "      <td>1</td>\n",
       "      <td>5.233333</td>\n",
       "      <td>30 or 31</td>\n",
       "    </tr>\n",
       "    <tr>\n",
       "      <th>1</th>\n",
       "      <td>220225000000</td>\n",
       "      <td>SPOT28</td>\n",
       "      <td>OPC</td>\n",
       "      <td>31.0</td>\n",
       "      <td>1.0</td>\n",
       "      <td>12100820.0</td>\n",
       "      <td>A 4467 BLK A-G-01, JLN PJU 8/2</td>\n",
       "      <td>2019/02</td>\n",
       "      <td>6121</td>\n",
       "      <td>ACT</td>\n",
       "      <td>...</td>\n",
       "      <td>27.70</td>\n",
       "      <td>127.0</td>\n",
       "      <td>27.69</td>\n",
       "      <td>4.096774</td>\n",
       "      <td>0.893226</td>\n",
       "      <td>0.893226</td>\n",
       "      <td>9.330108</td>\n",
       "      <td>2</td>\n",
       "      <td>4.665054</td>\n",
       "      <td>30 or 31</td>\n",
       "    </tr>\n",
       "    <tr>\n",
       "      <th>2</th>\n",
       "      <td>220225000000</td>\n",
       "      <td>SPOT28</td>\n",
       "      <td>OPC</td>\n",
       "      <td>31.0</td>\n",
       "      <td>1.0</td>\n",
       "      <td>12100820.0</td>\n",
       "      <td>A 4467 BLK A-G-01, JLN PJU 8/2</td>\n",
       "      <td>2019/03</td>\n",
       "      <td>6121</td>\n",
       "      <td>ACT</td>\n",
       "      <td>...</td>\n",
       "      <td>11.55</td>\n",
       "      <td>53.0</td>\n",
       "      <td>11.55</td>\n",
       "      <td>1.709677</td>\n",
       "      <td>0.372581</td>\n",
       "      <td>0.372581</td>\n",
       "      <td>11.039785</td>\n",
       "      <td>3</td>\n",
       "      <td>3.679928</td>\n",
       "      <td>30 or 31</td>\n",
       "    </tr>\n",
       "    <tr>\n",
       "      <th>3</th>\n",
       "      <td>220225000000</td>\n",
       "      <td>SPOT28</td>\n",
       "      <td>OPC</td>\n",
       "      <td>18.0</td>\n",
       "      <td>1.0</td>\n",
       "      <td>12100820.0</td>\n",
       "      <td>A 4467 BLK A-G-01, JLN PJU 8/2</td>\n",
       "      <td>2019/04</td>\n",
       "      <td>6121</td>\n",
       "      <td>FIN</td>\n",
       "      <td>...</td>\n",
       "      <td>-526.34</td>\n",
       "      <td>17.0</td>\n",
       "      <td>3.71</td>\n",
       "      <td>0.944444</td>\n",
       "      <td>-29.882222</td>\n",
       "      <td>-29.882222</td>\n",
       "      <td>11.984229</td>\n",
       "      <td>4</td>\n",
       "      <td>2.996057</td>\n",
       "      <td>less than 30</td>\n",
       "    </tr>\n",
       "    <tr>\n",
       "      <th>4</th>\n",
       "      <td>210000047810</td>\n",
       "      <td>SPOT21</td>\n",
       "      <td>OPC</td>\n",
       "      <td>30.0</td>\n",
       "      <td>1.0</td>\n",
       "      <td>16000563.0</td>\n",
       "      <td>B 383 SEK 17 SHAH ALAM</td>\n",
       "      <td>2019/01</td>\n",
       "      <td>6160</td>\n",
       "      <td>ACT</td>\n",
       "      <td>...</td>\n",
       "      <td>261.35</td>\n",
       "      <td>644.0</td>\n",
       "      <td>255.82</td>\n",
       "      <td>21.466667</td>\n",
       "      <td>8.711667</td>\n",
       "      <td>2.464129</td>\n",
       "      <td>21.466667</td>\n",
       "      <td>1</td>\n",
       "      <td>21.466667</td>\n",
       "      <td>30 or 31</td>\n",
       "    </tr>\n",
       "  </tbody>\n",
       "</table>\n",
       "<p>5 rows × 24 columns</p>\n",
       "</div>"
      ],
      "text/plain": [
       "  Contract Account Portion Bill type  Bill duration  Prorate factor  \\\n",
       "0     220225000000  SPOT28       OPC           30.0             1.0   \n",
       "1     220225000000  SPOT28       OPC           31.0             1.0   \n",
       "2     220225000000  SPOT28       OPC           31.0             1.0   \n",
       "3     220225000000  SPOT28       OPC           18.0             1.0   \n",
       "4     210000047810  SPOT21       OPC           30.0             1.0   \n",
       "\n",
       "          MRU                     Description BILLING_PERIOD  AREA  \\\n",
       "0  12100820.0  A 4467 BLK A-G-01, JLN PJU 8/2        2019/01  6121   \n",
       "1  12100820.0  A 4467 BLK A-G-01, JLN PJU 8/2        2019/02  6121   \n",
       "2  12100820.0  A 4467 BLK A-G-01, JLN PJU 8/2        2019/03  6121   \n",
       "3  12100820.0  A 4467 BLK A-G-01, JLN PJU 8/2        2019/04  6121   \n",
       "4  16000563.0          B 383 SEK 17 SHAH ALAM        2019/01  6160   \n",
       "\n",
       "  READING_TYPE  ... TOTAL_BILL KWH TOTAL  KWH_RM  KWH_PER_DAY  \\\n",
       "0          ACT  ...      34.25     157.0   34.23     5.233333   \n",
       "1          ACT  ...      27.70     127.0   27.69     4.096774   \n",
       "2          ACT  ...      11.55      53.0   11.55     1.709677   \n",
       "3          FIN  ...    -526.34      17.0    3.71     0.944444   \n",
       "4          ACT  ...     261.35     644.0  255.82    21.466667   \n",
       "\n",
       "   CHARGES_PER_DAY  CURRENT_CHARGES_PER_KWH  cum_sum_KWH_per_day  cum_num  \\\n",
       "0         1.141000                 4.586620             5.233333        1   \n",
       "1         0.893226                 0.893226             9.330108        2   \n",
       "2         0.372581                 0.372581            11.039785        3   \n",
       "3       -29.882222               -29.882222            11.984229        4   \n",
       "4         8.711667                 2.464129            21.466667        1   \n",
       "\n",
       "   CUM_KWH_AVG  billing_period_flag  \n",
       "0     5.233333             30 or 31  \n",
       "1     4.665054             30 or 31  \n",
       "2     3.679928             30 or 31  \n",
       "3     2.996057         less than 30  \n",
       "4    21.466667             30 or 31  \n",
       "\n",
       "[5 rows x 24 columns]"
      ]
     },
     "execution_count": 494,
     "metadata": {},
     "output_type": "execute_result"
    }
   ],
   "source": [
    "billing_period.head()"
   ]
  },
  {
   "cell_type": "markdown",
   "metadata": {},
   "source": [
    "# Create spot_period_flag for billling data"
   ]
  },
  {
   "cell_type": "markdown",
   "metadata": {},
   "source": [
    "In below code block we are creating flag with spot period based on the spot_period_flag column that we have derived above"
   ]
  },
  {
   "cell_type": "code",
   "execution_count": 496,
   "metadata": {},
   "outputs": [],
   "source": [
    "billing_period['Portion'] = billing_period['Portion'].astype(str)"
   ]
  },
  {
   "cell_type": "code",
   "execution_count": 497,
   "metadata": {},
   "outputs": [],
   "source": [
    "# Create a new column as a flag for spot days\n",
    "\n",
    "def spot_period_flag(row):\n",
    "    if (row['Portion'][4:] == '17') | (row['Portion'][4:] == '18'):\n",
    "        val = 'Spot btw 17 to 20'\n",
    "    elif (row['Portion'][4:] == '19') | (row['Portion'][4:] == '20'):\n",
    "        val = 'Spot btw 17 to 20'\n",
    "    else:\n",
    "        val = 'others'\n",
    "    return val"
   ]
  },
  {
   "cell_type": "code",
   "execution_count": 498,
   "metadata": {},
   "outputs": [],
   "source": [
    "#applying fuction on for spot period flag on billing data\n",
    "billing_period['spot_period_flag'] = billing_period.apply(spot_period_flag, axis=1)"
   ]
  },
  {
   "cell_type": "code",
   "execution_count": 499,
   "metadata": {},
   "outputs": [
    {
     "data": {
      "text/html": [
       "<div>\n",
       "<style scoped>\n",
       "    .dataframe tbody tr th:only-of-type {\n",
       "        vertical-align: middle;\n",
       "    }\n",
       "\n",
       "    .dataframe tbody tr th {\n",
       "        vertical-align: top;\n",
       "    }\n",
       "\n",
       "    .dataframe thead th {\n",
       "        text-align: right;\n",
       "    }\n",
       "</style>\n",
       "<table border=\"1\" class=\"dataframe\">\n",
       "  <thead>\n",
       "    <tr style=\"text-align: right;\">\n",
       "      <th></th>\n",
       "      <th>Contract Account</th>\n",
       "      <th>Portion</th>\n",
       "      <th>Bill type</th>\n",
       "      <th>Bill duration</th>\n",
       "      <th>Prorate factor</th>\n",
       "      <th>MRU</th>\n",
       "      <th>Description</th>\n",
       "      <th>BILLING_PERIOD</th>\n",
       "      <th>AREA</th>\n",
       "      <th>READING_TYPE</th>\n",
       "      <th>...</th>\n",
       "      <th>KWH TOTAL</th>\n",
       "      <th>KWH_RM</th>\n",
       "      <th>KWH_PER_DAY</th>\n",
       "      <th>CHARGES_PER_DAY</th>\n",
       "      <th>CURRENT_CHARGES_PER_KWH</th>\n",
       "      <th>cum_sum_KWH_per_day</th>\n",
       "      <th>cum_num</th>\n",
       "      <th>CUM_KWH_AVG</th>\n",
       "      <th>billing_period_flag</th>\n",
       "      <th>spot_period_flag</th>\n",
       "    </tr>\n",
       "  </thead>\n",
       "  <tbody>\n",
       "    <tr>\n",
       "      <th>0</th>\n",
       "      <td>220225000000</td>\n",
       "      <td>SPOT28</td>\n",
       "      <td>OPC</td>\n",
       "      <td>30.0</td>\n",
       "      <td>1.0</td>\n",
       "      <td>12100820.0</td>\n",
       "      <td>A 4467 BLK A-G-01, JLN PJU 8/2</td>\n",
       "      <td>2019/01</td>\n",
       "      <td>6121</td>\n",
       "      <td>ACT</td>\n",
       "      <td>...</td>\n",
       "      <td>157.0</td>\n",
       "      <td>34.23</td>\n",
       "      <td>5.233333</td>\n",
       "      <td>1.141000</td>\n",
       "      <td>4.586620</td>\n",
       "      <td>5.233333</td>\n",
       "      <td>1</td>\n",
       "      <td>5.233333</td>\n",
       "      <td>30 or 31</td>\n",
       "      <td>others</td>\n",
       "    </tr>\n",
       "    <tr>\n",
       "      <th>1</th>\n",
       "      <td>220225000000</td>\n",
       "      <td>SPOT28</td>\n",
       "      <td>OPC</td>\n",
       "      <td>31.0</td>\n",
       "      <td>1.0</td>\n",
       "      <td>12100820.0</td>\n",
       "      <td>A 4467 BLK A-G-01, JLN PJU 8/2</td>\n",
       "      <td>2019/02</td>\n",
       "      <td>6121</td>\n",
       "      <td>ACT</td>\n",
       "      <td>...</td>\n",
       "      <td>127.0</td>\n",
       "      <td>27.69</td>\n",
       "      <td>4.096774</td>\n",
       "      <td>0.893226</td>\n",
       "      <td>0.893226</td>\n",
       "      <td>9.330108</td>\n",
       "      <td>2</td>\n",
       "      <td>4.665054</td>\n",
       "      <td>30 or 31</td>\n",
       "      <td>others</td>\n",
       "    </tr>\n",
       "    <tr>\n",
       "      <th>2</th>\n",
       "      <td>220225000000</td>\n",
       "      <td>SPOT28</td>\n",
       "      <td>OPC</td>\n",
       "      <td>31.0</td>\n",
       "      <td>1.0</td>\n",
       "      <td>12100820.0</td>\n",
       "      <td>A 4467 BLK A-G-01, JLN PJU 8/2</td>\n",
       "      <td>2019/03</td>\n",
       "      <td>6121</td>\n",
       "      <td>ACT</td>\n",
       "      <td>...</td>\n",
       "      <td>53.0</td>\n",
       "      <td>11.55</td>\n",
       "      <td>1.709677</td>\n",
       "      <td>0.372581</td>\n",
       "      <td>0.372581</td>\n",
       "      <td>11.039785</td>\n",
       "      <td>3</td>\n",
       "      <td>3.679928</td>\n",
       "      <td>30 or 31</td>\n",
       "      <td>others</td>\n",
       "    </tr>\n",
       "    <tr>\n",
       "      <th>3</th>\n",
       "      <td>220225000000</td>\n",
       "      <td>SPOT28</td>\n",
       "      <td>OPC</td>\n",
       "      <td>18.0</td>\n",
       "      <td>1.0</td>\n",
       "      <td>12100820.0</td>\n",
       "      <td>A 4467 BLK A-G-01, JLN PJU 8/2</td>\n",
       "      <td>2019/04</td>\n",
       "      <td>6121</td>\n",
       "      <td>FIN</td>\n",
       "      <td>...</td>\n",
       "      <td>17.0</td>\n",
       "      <td>3.71</td>\n",
       "      <td>0.944444</td>\n",
       "      <td>-29.882222</td>\n",
       "      <td>-29.882222</td>\n",
       "      <td>11.984229</td>\n",
       "      <td>4</td>\n",
       "      <td>2.996057</td>\n",
       "      <td>less than 30</td>\n",
       "      <td>others</td>\n",
       "    </tr>\n",
       "    <tr>\n",
       "      <th>4</th>\n",
       "      <td>210000047810</td>\n",
       "      <td>SPOT21</td>\n",
       "      <td>OPC</td>\n",
       "      <td>30.0</td>\n",
       "      <td>1.0</td>\n",
       "      <td>16000563.0</td>\n",
       "      <td>B 383 SEK 17 SHAH ALAM</td>\n",
       "      <td>2019/01</td>\n",
       "      <td>6160</td>\n",
       "      <td>ACT</td>\n",
       "      <td>...</td>\n",
       "      <td>644.0</td>\n",
       "      <td>255.82</td>\n",
       "      <td>21.466667</td>\n",
       "      <td>8.711667</td>\n",
       "      <td>2.464129</td>\n",
       "      <td>21.466667</td>\n",
       "      <td>1</td>\n",
       "      <td>21.466667</td>\n",
       "      <td>30 or 31</td>\n",
       "      <td>others</td>\n",
       "    </tr>\n",
       "  </tbody>\n",
       "</table>\n",
       "<p>5 rows × 25 columns</p>\n",
       "</div>"
      ],
      "text/plain": [
       "  Contract Account Portion Bill type  Bill duration  Prorate factor  \\\n",
       "0     220225000000  SPOT28       OPC           30.0             1.0   \n",
       "1     220225000000  SPOT28       OPC           31.0             1.0   \n",
       "2     220225000000  SPOT28       OPC           31.0             1.0   \n",
       "3     220225000000  SPOT28       OPC           18.0             1.0   \n",
       "4     210000047810  SPOT21       OPC           30.0             1.0   \n",
       "\n",
       "          MRU                     Description BILLING_PERIOD  AREA  \\\n",
       "0  12100820.0  A 4467 BLK A-G-01, JLN PJU 8/2        2019/01  6121   \n",
       "1  12100820.0  A 4467 BLK A-G-01, JLN PJU 8/2        2019/02  6121   \n",
       "2  12100820.0  A 4467 BLK A-G-01, JLN PJU 8/2        2019/03  6121   \n",
       "3  12100820.0  A 4467 BLK A-G-01, JLN PJU 8/2        2019/04  6121   \n",
       "4  16000563.0          B 383 SEK 17 SHAH ALAM        2019/01  6160   \n",
       "\n",
       "  READING_TYPE  ... KWH TOTAL  KWH_RM  KWH_PER_DAY  CHARGES_PER_DAY  \\\n",
       "0          ACT  ...     157.0   34.23     5.233333         1.141000   \n",
       "1          ACT  ...     127.0   27.69     4.096774         0.893226   \n",
       "2          ACT  ...      53.0   11.55     1.709677         0.372581   \n",
       "3          FIN  ...      17.0    3.71     0.944444       -29.882222   \n",
       "4          ACT  ...     644.0  255.82    21.466667         8.711667   \n",
       "\n",
       "   CURRENT_CHARGES_PER_KWH  cum_sum_KWH_per_day  cum_num  CUM_KWH_AVG  \\\n",
       "0                 4.586620             5.233333        1     5.233333   \n",
       "1                 0.893226             9.330108        2     4.665054   \n",
       "2                 0.372581            11.039785        3     3.679928   \n",
       "3               -29.882222            11.984229        4     2.996057   \n",
       "4                 2.464129            21.466667        1    21.466667   \n",
       "\n",
       "   billing_period_flag  spot_period_flag  \n",
       "0             30 or 31            others  \n",
       "1             30 or 31            others  \n",
       "2             30 or 31            others  \n",
       "3         less than 30            others  \n",
       "4             30 or 31            others  \n",
       "\n",
       "[5 rows x 25 columns]"
      ]
     },
     "execution_count": 499,
     "metadata": {},
     "output_type": "execute_result"
    }
   ],
   "source": [
    "billing_period.head()"
   ]
  },
  {
   "cell_type": "markdown",
   "metadata": {},
   "source": [
    "# Flag for tarif change\n"
   ]
  },
  {
   "cell_type": "markdown",
   "metadata": {},
   "source": [
    "In below code block we are creating new flag column for the CA based on the Tarif change"
   ]
  },
  {
   "cell_type": "code",
   "execution_count": 504,
   "metadata": {},
   "outputs": [],
   "source": [
    "\n",
    "def tarif_change_flag(row):\n",
    "    if (row['KWH TOTAL'].shift() < 300) & (row['KWH TOTAL'].shift(-1) > 300):\n",
    "        val = 'tarif change'\n",
    "    else:\n",
    "        val = 'others'\n",
    "    return val\n"
   ]
  },
  {
   "cell_type": "code",
   "execution_count": 505,
   "metadata": {},
   "outputs": [],
   "source": [
    "billing_period = billing_period.fillna(0)\n",
    "billing_period['KWH TOTAL'] = billing_period['KWH TOTAL'].astype(int)\n",
    "billing_period = billing_period.reset_index(drop=True)"
   ]
  },
  {
   "cell_type": "code",
   "execution_count": 507,
   "metadata": {},
   "outputs": [],
   "source": [
    "cond1 = billing_period['KWH TOTAL'] > 300 \n",
    "\n",
    "billing_period['tarif_change_flag'] = np.where(cond1, 1, 0)"
   ]
  },
  {
   "cell_type": "code",
   "execution_count": 513,
   "metadata": {},
   "outputs": [],
   "source": [
    "billing_period['tarif_change_flag1'] = billing_period.groupby('Contract Account')['tarif_change_flag'].diff().abs()"
   ]
  },
  {
   "cell_type": "code",
   "execution_count": 514,
   "metadata": {},
   "outputs": [],
   "source": [
    "billing_period['tarif_change_flag2'] = billing_period['tarif_change_flag1'].map({1:'tarif change', 0:'normal'}) "
   ]
  },
  {
   "cell_type": "code",
   "execution_count": 515,
   "metadata": {},
   "outputs": [],
   "source": [
    "del billing_period['tarif_change_flag1']\n",
    "del billing_period['tarif_change_flag']"
   ]
  },
  {
   "cell_type": "code",
   "execution_count": 516,
   "metadata": {},
   "outputs": [
    {
     "data": {
      "text/html": [
       "<div>\n",
       "<style scoped>\n",
       "    .dataframe tbody tr th:only-of-type {\n",
       "        vertical-align: middle;\n",
       "    }\n",
       "\n",
       "    .dataframe tbody tr th {\n",
       "        vertical-align: top;\n",
       "    }\n",
       "\n",
       "    .dataframe thead th {\n",
       "        text-align: right;\n",
       "    }\n",
       "</style>\n",
       "<table border=\"1\" class=\"dataframe\">\n",
       "  <thead>\n",
       "    <tr style=\"text-align: right;\">\n",
       "      <th></th>\n",
       "      <th>Contract Account</th>\n",
       "      <th>Portion</th>\n",
       "      <th>Bill type</th>\n",
       "      <th>Bill duration</th>\n",
       "      <th>Prorate factor</th>\n",
       "      <th>MRU</th>\n",
       "      <th>Description</th>\n",
       "      <th>BILLING_PERIOD</th>\n",
       "      <th>AREA</th>\n",
       "      <th>READING_TYPE</th>\n",
       "      <th>...</th>\n",
       "      <th>KWH_RM</th>\n",
       "      <th>KWH_PER_DAY</th>\n",
       "      <th>CHARGES_PER_DAY</th>\n",
       "      <th>CURRENT_CHARGES_PER_KWH</th>\n",
       "      <th>cum_sum_KWH_per_day</th>\n",
       "      <th>cum_num</th>\n",
       "      <th>CUM_KWH_AVG</th>\n",
       "      <th>billing_period_flag</th>\n",
       "      <th>spot_period_flag</th>\n",
       "      <th>tarif_change_flag2</th>\n",
       "    </tr>\n",
       "  </thead>\n",
       "  <tbody>\n",
       "    <tr>\n",
       "      <th>0</th>\n",
       "      <td>220225000000</td>\n",
       "      <td>SPOT28</td>\n",
       "      <td>OPC</td>\n",
       "      <td>30.0</td>\n",
       "      <td>1.0</td>\n",
       "      <td>12100820.0</td>\n",
       "      <td>A 4467 BLK A-G-01, JLN PJU 8/2</td>\n",
       "      <td>2019/01</td>\n",
       "      <td>6121</td>\n",
       "      <td>ACT</td>\n",
       "      <td>...</td>\n",
       "      <td>34.23</td>\n",
       "      <td>5.233333</td>\n",
       "      <td>1.141000</td>\n",
       "      <td>4.586620</td>\n",
       "      <td>5.233333</td>\n",
       "      <td>1</td>\n",
       "      <td>5.233333</td>\n",
       "      <td>30 or 31</td>\n",
       "      <td>others</td>\n",
       "      <td>NaN</td>\n",
       "    </tr>\n",
       "    <tr>\n",
       "      <th>1</th>\n",
       "      <td>220225000000</td>\n",
       "      <td>SPOT28</td>\n",
       "      <td>OPC</td>\n",
       "      <td>31.0</td>\n",
       "      <td>1.0</td>\n",
       "      <td>12100820.0</td>\n",
       "      <td>A 4467 BLK A-G-01, JLN PJU 8/2</td>\n",
       "      <td>2019/02</td>\n",
       "      <td>6121</td>\n",
       "      <td>ACT</td>\n",
       "      <td>...</td>\n",
       "      <td>27.69</td>\n",
       "      <td>4.096774</td>\n",
       "      <td>0.893226</td>\n",
       "      <td>0.893226</td>\n",
       "      <td>9.330108</td>\n",
       "      <td>2</td>\n",
       "      <td>4.665054</td>\n",
       "      <td>30 or 31</td>\n",
       "      <td>others</td>\n",
       "      <td>normal</td>\n",
       "    </tr>\n",
       "    <tr>\n",
       "      <th>2</th>\n",
       "      <td>220225000000</td>\n",
       "      <td>SPOT28</td>\n",
       "      <td>OPC</td>\n",
       "      <td>31.0</td>\n",
       "      <td>1.0</td>\n",
       "      <td>12100820.0</td>\n",
       "      <td>A 4467 BLK A-G-01, JLN PJU 8/2</td>\n",
       "      <td>2019/03</td>\n",
       "      <td>6121</td>\n",
       "      <td>ACT</td>\n",
       "      <td>...</td>\n",
       "      <td>11.55</td>\n",
       "      <td>1.709677</td>\n",
       "      <td>0.372581</td>\n",
       "      <td>0.372581</td>\n",
       "      <td>11.039785</td>\n",
       "      <td>3</td>\n",
       "      <td>3.679928</td>\n",
       "      <td>30 or 31</td>\n",
       "      <td>others</td>\n",
       "      <td>normal</td>\n",
       "    </tr>\n",
       "    <tr>\n",
       "      <th>3</th>\n",
       "      <td>220225000000</td>\n",
       "      <td>SPOT28</td>\n",
       "      <td>OPC</td>\n",
       "      <td>18.0</td>\n",
       "      <td>1.0</td>\n",
       "      <td>12100820.0</td>\n",
       "      <td>A 4467 BLK A-G-01, JLN PJU 8/2</td>\n",
       "      <td>2019/04</td>\n",
       "      <td>6121</td>\n",
       "      <td>FIN</td>\n",
       "      <td>...</td>\n",
       "      <td>3.71</td>\n",
       "      <td>0.944444</td>\n",
       "      <td>-29.882222</td>\n",
       "      <td>-29.882222</td>\n",
       "      <td>11.984229</td>\n",
       "      <td>4</td>\n",
       "      <td>2.996057</td>\n",
       "      <td>less than 30</td>\n",
       "      <td>others</td>\n",
       "      <td>normal</td>\n",
       "    </tr>\n",
       "    <tr>\n",
       "      <th>4</th>\n",
       "      <td>210000047810</td>\n",
       "      <td>SPOT21</td>\n",
       "      <td>OPC</td>\n",
       "      <td>30.0</td>\n",
       "      <td>1.0</td>\n",
       "      <td>16000563.0</td>\n",
       "      <td>B 383 SEK 17 SHAH ALAM</td>\n",
       "      <td>2019/01</td>\n",
       "      <td>6160</td>\n",
       "      <td>ACT</td>\n",
       "      <td>...</td>\n",
       "      <td>255.82</td>\n",
       "      <td>21.466667</td>\n",
       "      <td>8.711667</td>\n",
       "      <td>2.464129</td>\n",
       "      <td>21.466667</td>\n",
       "      <td>1</td>\n",
       "      <td>21.466667</td>\n",
       "      <td>30 or 31</td>\n",
       "      <td>others</td>\n",
       "      <td>NaN</td>\n",
       "    </tr>\n",
       "  </tbody>\n",
       "</table>\n",
       "<p>5 rows × 26 columns</p>\n",
       "</div>"
      ],
      "text/plain": [
       "  Contract Account Portion Bill type  Bill duration  Prorate factor  \\\n",
       "0     220225000000  SPOT28       OPC           30.0             1.0   \n",
       "1     220225000000  SPOT28       OPC           31.0             1.0   \n",
       "2     220225000000  SPOT28       OPC           31.0             1.0   \n",
       "3     220225000000  SPOT28       OPC           18.0             1.0   \n",
       "4     210000047810  SPOT21       OPC           30.0             1.0   \n",
       "\n",
       "          MRU                     Description BILLING_PERIOD  AREA  \\\n",
       "0  12100820.0  A 4467 BLK A-G-01, JLN PJU 8/2        2019/01  6121   \n",
       "1  12100820.0  A 4467 BLK A-G-01, JLN PJU 8/2        2019/02  6121   \n",
       "2  12100820.0  A 4467 BLK A-G-01, JLN PJU 8/2        2019/03  6121   \n",
       "3  12100820.0  A 4467 BLK A-G-01, JLN PJU 8/2        2019/04  6121   \n",
       "4  16000563.0          B 383 SEK 17 SHAH ALAM        2019/01  6160   \n",
       "\n",
       "  READING_TYPE  ...  KWH_RM KWH_PER_DAY  CHARGES_PER_DAY  \\\n",
       "0          ACT  ...   34.23    5.233333         1.141000   \n",
       "1          ACT  ...   27.69    4.096774         0.893226   \n",
       "2          ACT  ...   11.55    1.709677         0.372581   \n",
       "3          FIN  ...    3.71    0.944444       -29.882222   \n",
       "4          ACT  ...  255.82   21.466667         8.711667   \n",
       "\n",
       "   CURRENT_CHARGES_PER_KWH  cum_sum_KWH_per_day  cum_num  CUM_KWH_AVG  \\\n",
       "0                 4.586620             5.233333        1     5.233333   \n",
       "1                 0.893226             9.330108        2     4.665054   \n",
       "2                 0.372581            11.039785        3     3.679928   \n",
       "3               -29.882222            11.984229        4     2.996057   \n",
       "4                 2.464129            21.466667        1    21.466667   \n",
       "\n",
       "   billing_period_flag  spot_period_flag  tarif_change_flag2  \n",
       "0             30 or 31            others                 NaN  \n",
       "1             30 or 31            others              normal  \n",
       "2             30 or 31            others              normal  \n",
       "3         less than 30            others              normal  \n",
       "4             30 or 31            others                 NaN  \n",
       "\n",
       "[5 rows x 26 columns]"
      ]
     },
     "execution_count": 516,
     "metadata": {},
     "output_type": "execute_result"
    }
   ],
   "source": [
    "billing_period.head()"
   ]
  },
  {
   "cell_type": "code",
   "execution_count": 517,
   "metadata": {},
   "outputs": [],
   "source": [
    "billing_period.to_csv(r\"C:\\Users\\ijohan\\Desktop\\the-spoon\\projects-code\\power_sector\\billing_consumption_second_analysis_tarif_V3.csv\")"
   ]
  },
  {
   "cell_type": "markdown",
   "metadata": {},
   "source": [
    "# Word count frequency "
   ]
  },
  {
   "cell_type": "markdown",
   "metadata": {},
   "source": [
    "In below code block we are counting the word frequesncy based in the SN_Remarks columns to come up with the possible keywords for RCA"
   ]
  },
  {
   "cell_type": "code",
   "execution_count": 5,
   "metadata": {},
   "outputs": [],
   "source": [
    "#SN_Remarks_Working_File_18062019.xlsx\n",
    "import pandas as pd\n",
    "keywords = pd.read_excel(r\"C:\\Users\\ijohan\\Desktop\\the-spoon\\projects-code\\power_sector\\SN_Remarks_Working_File_18062019.xlsx\")"
   ]
  },
  {
   "cell_type": "code",
   "execution_count": 6,
   "metadata": {},
   "outputs": [
    {
     "data": {
      "text/html": [
       "<div>\n",
       "<style scoped>\n",
       "    .dataframe tbody tr th:only-of-type {\n",
       "        vertical-align: middle;\n",
       "    }\n",
       "\n",
       "    .dataframe tbody tr th {\n",
       "        vertical-align: top;\n",
       "    }\n",
       "\n",
       "    .dataframe thead th {\n",
       "        text-align: right;\n",
       "    }\n",
       "</style>\n",
       "<table border=\"1\" class=\"dataframe\">\n",
       "  <thead>\n",
       "    <tr style=\"text-align: right;\">\n",
       "      <th></th>\n",
       "      <th>Service_Request_ID</th>\n",
       "      <th>CA_Number</th>\n",
       "      <th>SN_Number</th>\n",
       "      <th>SO_Number</th>\n",
       "      <th>SN_Remark</th>\n",
       "      <th>Unnamed: 5</th>\n",
       "    </tr>\n",
       "  </thead>\n",
       "  <tbody>\n",
       "    <tr>\n",
       "      <th>0</th>\n",
       "      <td>1000632215</td>\n",
       "      <td>210113162600</td>\n",
       "      <td>218000599947</td>\n",
       "      <td>111000654303</td>\n",
       "      <td>Internal note03.05.2019 09:50:32 60068167Pengg...</td>\n",
       "      <td>Completed</td>\n",
       "    </tr>\n",
       "    <tr>\n",
       "      <th>1</th>\n",
       "      <td>1000638648</td>\n",
       "      <td>220030804400</td>\n",
       "      <td>218000601324</td>\n",
       "      <td>111000655723</td>\n",
       "      <td>Internal note07.05.2019 10:42:58 60068143pengg...</td>\n",
       "      <td>Completed</td>\n",
       "    </tr>\n",
       "    <tr>\n",
       "      <th>2</th>\n",
       "      <td>1000644697</td>\n",
       "      <td>220294238500</td>\n",
       "      <td>218000603800</td>\n",
       "      <td>111000658527</td>\n",
       "      <td>Internal note13.05.2019 13:36:35 60068120pengg...</td>\n",
       "      <td>Completed</td>\n",
       "    </tr>\n",
       "    <tr>\n",
       "      <th>3</th>\n",
       "      <td>1000655580</td>\n",
       "      <td>220013207406</td>\n",
       "      <td>210000006171</td>\n",
       "      <td>112000115493</td>\n",
       "      <td>Internal note 29.05.2019          13:24:19    ...</td>\n",
       "      <td>Completed</td>\n",
       "    </tr>\n",
       "    <tr>\n",
       "      <th>4</th>\n",
       "      <td>1000655784</td>\n",
       "      <td>220005842708</td>\n",
       "      <td>201000159284</td>\n",
       "      <td>113000767661</td>\n",
       "      <td>Internal note 24.05.2019 22:01:12 60068082  pe...</td>\n",
       "      <td>Completed</td>\n",
       "    </tr>\n",
       "  </tbody>\n",
       "</table>\n",
       "</div>"
      ],
      "text/plain": [
       "   Service_Request_ID     CA_Number     SN_Number     SO_Number  \\\n",
       "0          1000632215  210113162600  218000599947  111000654303   \n",
       "1          1000638648  220030804400  218000601324  111000655723   \n",
       "2          1000644697  220294238500  218000603800  111000658527   \n",
       "3          1000655580  220013207406  210000006171  112000115493   \n",
       "4          1000655784  220005842708  201000159284  113000767661   \n",
       "\n",
       "                                           SN_Remark Unnamed: 5  \n",
       "0  Internal note03.05.2019 09:50:32 60068167Pengg...  Completed  \n",
       "1  Internal note07.05.2019 10:42:58 60068143pengg...  Completed  \n",
       "2  Internal note13.05.2019 13:36:35 60068120pengg...  Completed  \n",
       "3  Internal note 29.05.2019          13:24:19    ...  Completed  \n",
       "4  Internal note 24.05.2019 22:01:12 60068082  pe...  Completed  "
      ]
     },
     "execution_count": 6,
     "metadata": {},
     "output_type": "execute_result"
    }
   ],
   "source": [
    "keywords.head()"
   ]
  },
  {
   "cell_type": "code",
   "execution_count": 7,
   "metadata": {},
   "outputs": [],
   "source": [
    "#k_count = keywords['SN_Remark'].str.split(expand=True).stack().value_counts()\n",
    "k_count = (keywords['SN_Remark'].str.split(expand=True)\n",
    "              .stack()\n",
    "              .value_counts()\n",
    "              .rename_axis('vals')\n",
    "              .reset_index(name='count'))"
   ]
  },
  {
   "cell_type": "code",
   "execution_count": 11,
   "metadata": {},
   "outputs": [],
   "source": [
    "#k_count.head(20)"
   ]
  },
  {
   "cell_type": "code",
   "execution_count": 10,
   "metadata": {},
   "outputs": [
    {
     "data": {
      "text/plain": [
       "34500"
      ]
     },
     "execution_count": 10,
     "metadata": {},
     "output_type": "execute_result"
    }
   ],
   "source": [
    "len(k_count)"
   ]
  },
  {
   "cell_type": "code",
   "execution_count": 12,
   "metadata": {},
   "outputs": [],
   "source": [
    "# generate unigrams \n",
    "i = keywords.SN_Remark\\\n",
    "      .str.lower()\\\n",
    "      .str.replace('[^a-z\\s]', '')\\\n",
    "      .str.split(expand=True)\\\n",
    "      .stack()"
   ]
  },
  {
   "cell_type": "code",
   "execution_count": 13,
   "metadata": {},
   "outputs": [],
   "source": [
    "# generate bigrams by concatenating unigram columns\n",
    "j = i + ' ' + i.shift(-1)\n",
    "# generate trigrams by concatenating unigram and bigram columns\n",
    "k = j + ' ' + i.shift(-2)"
   ]
  },
  {
   "cell_type": "code",
   "execution_count": 14,
   "metadata": {},
   "outputs": [],
   "source": [
    "# concatenate all series vertically, and remove NaNs\n",
    "k_grams = pd.concat([i, j, k]).dropna().reset_index(drop=True)"
   ]
  },
  {
   "cell_type": "code",
   "execution_count": 16,
   "metadata": {},
   "outputs": [
    {
     "data": {
      "text/plain": [
       "0       internal\n",
       "1           note\n",
       "2       pengguna\n",
       "3         maklum\n",
       "4            bil\n",
       "5           pada\n",
       "6      terlampau\n",
       "7         tinggi\n",
       "8       sehinnga\n",
       "9        cecahrm\n",
       "10         dalam\n",
       "11        sistem\n",
       "12    penggunaan\n",
       "13        beliau\n",
       "14      hanyalah\n",
       "15         lebih\n",
       "16        kurang\n",
       "17            rm\n",
       "18       kebawah\n",
       "19      tiaptiap\n",
       "dtype: object"
      ]
     },
     "execution_count": 16,
     "metadata": {},
     "output_type": "execute_result"
    }
   ],
   "source": [
    "k_grams.head(20)"
   ]
  },
  {
   "cell_type": "code",
   "execution_count": 33,
   "metadata": {},
   "outputs": [],
   "source": [
    "k_grams = pd.DataFrame(k_grams, columns=['words'])"
   ]
  },
  {
   "cell_type": "code",
   "execution_count": 44,
   "metadata": {},
   "outputs": [],
   "source": [
    "counts = k_grams['words'].value_counts().to_dict()"
   ]
  },
  {
   "cell_type": "code",
   "execution_count": 47,
   "metadata": {},
   "outputs": [],
   "source": [
    "k_grams_count = pd.DataFrame(counts.items(), columns=['words', 'count'])"
   ]
  },
  {
   "cell_type": "code",
   "execution_count": 51,
   "metadata": {},
   "outputs": [
    {
     "data": {
      "text/html": [
       "<div>\n",
       "<style scoped>\n",
       "    .dataframe tbody tr th:only-of-type {\n",
       "        vertical-align: middle;\n",
       "    }\n",
       "\n",
       "    .dataframe tbody tr th {\n",
       "        vertical-align: top;\n",
       "    }\n",
       "\n",
       "    .dataframe thead th {\n",
       "        text-align: right;\n",
       "    }\n",
       "</style>\n",
       "<table border=\"1\" class=\"dataframe\">\n",
       "  <thead>\n",
       "    <tr style=\"text-align: right;\">\n",
       "      <th></th>\n",
       "      <th>words</th>\n",
       "      <th>count</th>\n",
       "    </tr>\n",
       "  </thead>\n",
       "  <tbody>\n",
       "    <tr>\n",
       "      <th>0</th>\n",
       "      <td>pengguna</td>\n",
       "      <td>6856</td>\n",
       "    </tr>\n",
       "    <tr>\n",
       "      <th>1</th>\n",
       "      <td>bil</td>\n",
       "      <td>4526</td>\n",
       "    </tr>\n",
       "    <tr>\n",
       "      <th>2</th>\n",
       "      <td>mohon</td>\n",
       "      <td>3877</td>\n",
       "    </tr>\n",
       "    <tr>\n",
       "      <th>3</th>\n",
       "      <td>note</td>\n",
       "      <td>3853</td>\n",
       "    </tr>\n",
       "    <tr>\n",
       "      <th>4</th>\n",
       "      <td>internal</td>\n",
       "      <td>3836</td>\n",
       "    </tr>\n",
       "  </tbody>\n",
       "</table>\n",
       "</div>"
      ],
      "text/plain": [
       "      words  count\n",
       "0  pengguna   6856\n",
       "1       bil   4526\n",
       "2     mohon   3877\n",
       "3      note   3853\n",
       "4  internal   3836"
      ]
     },
     "execution_count": 51,
     "metadata": {},
     "output_type": "execute_result"
    }
   ],
   "source": [
    "k_grams_count.head()"
   ]
  },
  {
   "cell_type": "code",
   "execution_count": 52,
   "metadata": {},
   "outputs": [],
   "source": [
    "k_grams_count.to_csv(r\"C:\\Users\\ijohan\\Desktop\\the-spoon\\projects-code\\power_sector\\keywords_grams.csv\")"
   ]
  }
 ],
 "metadata": {
  "kernelspec": {
   "display_name": "Python 3",
   "language": "python",
   "name": "python3"
  },
  "language_info": {
   "codemirror_mode": {
    "name": "ipython",
    "version": 3
   },
   "file_extension": ".py",
   "mimetype": "text/x-python",
   "name": "python",
   "nbconvert_exporter": "python",
   "pygments_lexer": "ipython3",
   "version": "3.7.3"
  }
 },
 "nbformat": 4,
 "nbformat_minor": 2
}
