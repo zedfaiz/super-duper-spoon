{
 "cells": [
  {
   "cell_type": "markdown",
   "metadata": {},
   "source": [
    "- In this Script we have converted the R script of text analytics to Python Script.\n",
    "We are tagging each SR and complaints with the possible root cause tag based on the SN remarks column "
   ]
  },
  {
   "cell_type": "code",
   "execution_count": 12,
   "metadata": {},
   "outputs": [],
   "source": [
    "# Import libraries for \n",
    "import pandas as pd\n",
    "import numpy as np\n",
    "import sys\n",
    "sn_remarks = pd.read_csv(\"C:\\\\Users\\\\ijohan\\\\Desktop\\\\ai_project\\\\source_data\\\\july\\\\20190723July_SRC_Listing_latest.csv\")"
   ]
  },
  {
   "cell_type": "code",
   "execution_count": 107,
   "metadata": {},
   "outputs": [],
   "source": [
    "#sn_remarks.columns"
   ]
  },
  {
   "cell_type": "code",
   "execution_count": 13,
   "metadata": {},
   "outputs": [
    {
     "data": {
      "text/plain": [
       "Index(['State', 'State Description', 'Business Area - Key', 'Channel',\n",
       "       'Complaint ID', 'CA Number', 'Unit', 'Category', 'Sub-Category',\n",
       "       'Creation Date', 'SN Number', 'SO Number', 'BPEM Case', 'Notes',\n",
       "       'SN_Remark', 'BPEM Notes 29July', 'Feedback Status', 'Status 29July',\n",
       "       'Verified Root Cause Type', 'Verified Root Cause', 'Root Cause Measure',\n",
       "       'Refund/Arrears', 'Dt/Cr Amount', 'MB Reason'],\n",
       "      dtype='object')"
      ]
     },
     "execution_count": 13,
     "metadata": {},
     "output_type": "execute_result"
    }
   ],
   "source": [
    "sn_remarks.columns"
   ]
  },
  {
   "cell_type": "markdown",
   "metadata": {},
   "source": [
    "- data preprocessing on sn remarks column"
   ]
  },
  {
   "cell_type": "code",
   "execution_count": 14,
   "metadata": {},
   "outputs": [],
   "source": [
    "#https://stackoverflow.com/questions/8270092/remove-all-whitespace-in-a-string-in-python\n",
    "from nltk.corpus import stopwords\n",
    "import re\n",
    "import string\n",
    "  \n",
    "def clean_txt(text):\n",
    "    text = str(text).upper()\n",
    "    text = text.replace(\"PIHAK TUAN PUAN\", \" \").replace(\"NBSP NBSP NBSP\", \" \").replace(\" KERJASAMA PIHAK TUAN\", \" \").replace(\"BILLING\", \"BIL\") \\\n",
    "                            .replace(\"TINGG I\", \"TINGGI\").replace(\"GMAIL\", \" \").replace(\"INTERNAL NOTE\", \"\") \\\n",
    "                           .replace(\". .\", \"\").replace(\"PERMOHONAN SEMAK METER NO TELEFON\", \" \").replace(\"PENGGUNA MAKLUM\", \" \")\\\n",
    "                           .replace(\"TELAH HUBUNGI PENGGUNA DAN\", \" \").replace(\"BA AAN\", \"BACAAN\").replace(\"TUAN PUAN\", \" \")\n",
    "#                           .replace(\"he's\", \"he is\").replace(\"she's\", \"she is\").replace(\"'s\", \" own\")\\\n",
    "#                           .replace(\"%\", \" percent \").replace(\"₹\", \" rupee \").replace(\"$\", \" dollar \")\\\n",
    "#                          .replace(\"€\", \" euro \").replace(\"'ll\", \" will\")\n",
    "    text = re.sub(r'\\[[0-9]*\\]',' ',str(text))\n",
    "    text = re.sub(r'\\s+',' ',str(text))\n",
    "    text = re.sub(r'\\W',' ',text) #remove non word character\n",
    "    text = re.sub(r'[@#$%\\*\\(\\)\\<\\>\\?\\'\\\":;\\]\\[-]/',' ',str(text))\n",
    "    text = re.sub(r'\\d',' ',str(text))\n",
    "    text = re.sub(r'\\s+',' ',str(text))\n",
    "    text  = re.sub(\"^\\s+|\\s+$\", \"\",str(text))\n",
    "   \n",
    "    return text"
   ]
  },
  {
   "cell_type": "code",
   "execution_count": 15,
   "metadata": {},
   "outputs": [],
   "source": [
    "sn_remarks['clean_sn_remark']  = sn_remarks['SN_Remark'].apply(clean_txt)"
   ]
  },
  {
   "cell_type": "code",
   "execution_count": 22,
   "metadata": {},
   "outputs": [
    {
     "data": {
      "text/html": [
       "<div>\n",
       "<style scoped>\n",
       "    .dataframe tbody tr th:only-of-type {\n",
       "        vertical-align: middle;\n",
       "    }\n",
       "\n",
       "    .dataframe tbody tr th {\n",
       "        vertical-align: top;\n",
       "    }\n",
       "\n",
       "    .dataframe thead th {\n",
       "        text-align: right;\n",
       "    }\n",
       "</style>\n",
       "<table border=\"1\" class=\"dataframe\">\n",
       "  <thead>\n",
       "    <tr style=\"text-align: right;\">\n",
       "      <th></th>\n",
       "      <th>clean_sn_remark</th>\n",
       "      <th>SN_Remark</th>\n",
       "    </tr>\n",
       "  </thead>\n",
       "  <tbody>\n",
       "    <tr>\n",
       "      <th>0</th>\n",
       "      <td>PENGGUNA AMKLUM SEMASA BELIAU MEMBUAT RENOVATI...</td>\n",
       "      <td>Internal note 03.07.2019 10:48:27 60068244  -...</td>\n",
       "    </tr>\n",
       "    <tr>\n",
       "      <th>1</th>\n",
       "      <td>TUKAR METER BARU METER BAKAR HANCUR LEBURKONTR...</td>\n",
       "      <td>Internal note 11.07.2019 11:56:29 10075024  I...</td>\n",
       "    </tr>\n",
       "    <tr>\n",
       "      <th>2</th>\n",
       "      <td>PENGGUNA MOHON UNTUK TUKAR METER PENGGUNA TELA...</td>\n",
       "      <td>7192005851Internal note 10.07.2019 11:12:52 1...</td>\n",
       "    </tr>\n",
       "    <tr>\n",
       "      <th>3</th>\n",
       "      <td>METER TIADA PAPARAN BEKALAN ELEKTRIK MASIH ADA...</td>\n",
       "      <td>Internal note 08.07.2019 15:49:44 60068195  M...</td>\n",
       "    </tr>\n",
       "    <tr>\n",
       "      <th>4</th>\n",
       "      <td>MERUJUK KEPADA PERKARA DI ATAS PENGGUNA TELAH ...</td>\n",
       "      <td>Internal note 15.07.2019          19:44:18   ...</td>\n",
       "    </tr>\n",
       "  </tbody>\n",
       "</table>\n",
       "</div>"
      ],
      "text/plain": [
       "                                     clean_sn_remark  \\\n",
       "0  PENGGUNA AMKLUM SEMASA BELIAU MEMBUAT RENOVATI...   \n",
       "1  TUKAR METER BARU METER BAKAR HANCUR LEBURKONTR...   \n",
       "2  PENGGUNA MOHON UNTUK TUKAR METER PENGGUNA TELA...   \n",
       "3  METER TIADA PAPARAN BEKALAN ELEKTRIK MASIH ADA...   \n",
       "4  MERUJUK KEPADA PERKARA DI ATAS PENGGUNA TELAH ...   \n",
       "\n",
       "                                           SN_Remark  \n",
       "0   Internal note 03.07.2019 10:48:27 60068244  -...  \n",
       "1   Internal note 11.07.2019 11:56:29 10075024  I...  \n",
       "2   7192005851Internal note 10.07.2019 11:12:52 1...  \n",
       "3   Internal note 08.07.2019 15:49:44 60068195  M...  \n",
       "4   Internal note 15.07.2019          19:44:18   ...  "
      ]
     },
     "execution_count": 22,
     "metadata": {},
     "output_type": "execute_result"
    }
   ],
   "source": [
    "sn_remarks[['clean_sn_remark','SN_Remark']].head()"
   ]
  },
  {
   "cell_type": "code",
   "execution_count": 23,
   "metadata": {},
   "outputs": [],
   "source": [
    "# Below function create ngrames of the documents, as a arguments it takes text and n. text: text document, n = number of grams\n",
    "# ex: n= 2, gives 2 gram\n",
    "from nltk.tokenize import word_tokenize\n",
    "from nltk.util import ngrams\n",
    "def get_ngrams(text, n):\n",
    "    #n = 3\n",
    "    n_grams = ngrams(word_tokenize(text), n)\n",
    "    return [ ' '.join(grams) for grams in n_grams]\n",
    "\n",
    "# Applying above function on the SN_remark column\n",
    "sn_remarks['clean_sn_remark_grams1']  = sn_remarks['clean_sn_remark'].astype(str).apply(get_ngrams, n=1)\n",
    "sn_remarks['clean_sn_remark_grams2']  = sn_remarks['clean_sn_remark'].astype(str).apply(get_ngrams, n=2)\n",
    "sn_remarks['clean_sn_remark_grams3']  = sn_remarks['clean_sn_remark'].astype(str).apply(get_ngrams, n=3)\n",
    "#sn_remarks['clean_sn_remark_grams4']  = sn_remarks['clean_sn_remark'].astype(str).apply(get_ngrams, n=4)\n"
   ]
  },
  {
   "cell_type": "code",
   "execution_count": 24,
   "metadata": {},
   "outputs": [],
   "source": [
    "# Combine all the n grams into one column\n",
    "sn_remarks['clean_sn_remark_grams'] = sn_remarks['clean_sn_remark_grams1'] + sn_remarks['clean_sn_remark_grams2'] +sn_remarks['clean_sn_remark_grams3']# + sn_remarks['clean_sn_remark_grams4']"
   ]
  },
  {
   "cell_type": "code",
   "execution_count": 25,
   "metadata": {},
   "outputs": [],
   "source": [
    "del sn_remarks['clean_sn_remark_grams1']\n",
    "del sn_remarks['clean_sn_remark_grams2']\n",
    "del sn_remarks['clean_sn_remark_grams3']"
   ]
  },
  {
   "cell_type": "code",
   "execution_count": 26,
   "metadata": {},
   "outputs": [
    {
     "data": {
      "text/html": [
       "<div>\n",
       "<style scoped>\n",
       "    .dataframe tbody tr th:only-of-type {\n",
       "        vertical-align: middle;\n",
       "    }\n",
       "\n",
       "    .dataframe tbody tr th {\n",
       "        vertical-align: top;\n",
       "    }\n",
       "\n",
       "    .dataframe thead th {\n",
       "        text-align: right;\n",
       "    }\n",
       "</style>\n",
       "<table border=\"1\" class=\"dataframe\">\n",
       "  <thead>\n",
       "    <tr style=\"text-align: right;\">\n",
       "      <th></th>\n",
       "      <th>State</th>\n",
       "      <th>State Description</th>\n",
       "      <th>Business Area - Key</th>\n",
       "      <th>Channel</th>\n",
       "      <th>Complaint ID</th>\n",
       "      <th>CA Number</th>\n",
       "      <th>Unit</th>\n",
       "      <th>Category</th>\n",
       "      <th>Sub-Category</th>\n",
       "      <th>Creation Date</th>\n",
       "      <th>...</th>\n",
       "      <th>Feedback Status</th>\n",
       "      <th>Status 29July</th>\n",
       "      <th>Verified Root Cause Type</th>\n",
       "      <th>Verified Root Cause</th>\n",
       "      <th>Root Cause Measure</th>\n",
       "      <th>Refund/Arrears</th>\n",
       "      <th>Dt/Cr Amount</th>\n",
       "      <th>MB Reason</th>\n",
       "      <th>clean_sn_remark</th>\n",
       "      <th>clean_sn_remark_grams</th>\n",
       "    </tr>\n",
       "  </thead>\n",
       "  <tbody>\n",
       "    <tr>\n",
       "      <th>0</th>\n",
       "      <td>KUL</td>\n",
       "      <td>WP KUALA LUMPUR</td>\n",
       "      <td>6121</td>\n",
       "      <td>Careline</td>\n",
       "      <td>2000125485</td>\n",
       "      <td>2.200000e+11</td>\n",
       "      <td>Device Operation (OPC)</td>\n",
       "      <td>Meter Faulty</td>\n",
       "      <td>Meter Broken</td>\n",
       "      <td>7/3/2019</td>\n",
       "      <td>...</td>\n",
       "      <td>Resolved</td>\n",
       "      <td>Verified</td>\n",
       "      <td>A - Meter Faulty</td>\n",
       "      <td>Meter Replaced</td>\n",
       "      <td>MREPLACE AND BACKBILL</td>\n",
       "      <td>Refund</td>\n",
       "      <td>-8.55</td>\n",
       "      <td>PELARASANDISEBABKANBACAANSALAH</td>\n",
       "      <td>PENGGUNA AMKLUM SEMASA BELIAU MEMBUAT RENOVATI...</td>\n",
       "      <td>[PENGGUNA, AMKLUM, SEMASA, BELIAU, MEMBUAT, RE...</td>\n",
       "    </tr>\n",
       "    <tr>\n",
       "      <th>1</th>\n",
       "      <td>KUL</td>\n",
       "      <td>WP KUALA LUMPUR</td>\n",
       "      <td>6121</td>\n",
       "      <td>Kedai Tenaga</td>\n",
       "      <td>2000126751</td>\n",
       "      <td>2.200000e+11</td>\n",
       "      <td>Device Operation (OPC)</td>\n",
       "      <td>Meter Faulty</td>\n",
       "      <td>Meter Burnt</td>\n",
       "      <td>7/11/2019</td>\n",
       "      <td>...</td>\n",
       "      <td>Resolved</td>\n",
       "      <td>Resolved</td>\n",
       "      <td>A - Meter Faulty</td>\n",
       "      <td>METER IRREGULARITIES</td>\n",
       "      <td>MREPLACE AND BACKBILL</td>\n",
       "      <td>Refund</td>\n",
       "      <td>-563.63</td>\n",
       "      <td>METERROSAK</td>\n",
       "      <td>TUKAR METER BARU METER BAKAR HANCUR LEBURKONTR...</td>\n",
       "      <td>[TUKAR, METER, BARU, METER, BAKAR, HANCUR, LEB...</td>\n",
       "    </tr>\n",
       "    <tr>\n",
       "      <th>2</th>\n",
       "      <td>SEL</td>\n",
       "      <td>SELANGOR</td>\n",
       "      <td>6140</td>\n",
       "      <td>Kedai Tenaga</td>\n",
       "      <td>2000126546</td>\n",
       "      <td>2.200000e+11</td>\n",
       "      <td>Device Operation (OPC)</td>\n",
       "      <td>Meter Faulty</td>\n",
       "      <td>Meter Blank</td>\n",
       "      <td>7/10/2019</td>\n",
       "      <td>...</td>\n",
       "      <td>Resolved</td>\n",
       "      <td>Resolved</td>\n",
       "      <td>A - Meter Faulty</td>\n",
       "      <td>METER IRREGULARITIES</td>\n",
       "      <td>MREPLACE AND BACKBILL</td>\n",
       "      <td>Refund</td>\n",
       "      <td>-90.56</td>\n",
       "      <td>KKB-METERROSAK</td>\n",
       "      <td>PENGGUNA MOHON UNTUK TUKAR METER PENGGUNA TELA...</td>\n",
       "      <td>[PENGGUNA, MOHON, UNTUK, TUKAR, METER, PENGGUN...</td>\n",
       "    </tr>\n",
       "    <tr>\n",
       "      <th>3</th>\n",
       "      <td>SEL</td>\n",
       "      <td>SELANGOR</td>\n",
       "      <td>6153</td>\n",
       "      <td>Careline</td>\n",
       "      <td>2000126327</td>\n",
       "      <td>2.200000e+11</td>\n",
       "      <td>Device Operation (OPC)</td>\n",
       "      <td>Meter Faulty</td>\n",
       "      <td>Meter Blank</td>\n",
       "      <td>7/8/2019</td>\n",
       "      <td>...</td>\n",
       "      <td>Resolved</td>\n",
       "      <td>Verified</td>\n",
       "      <td>A - Meter Faulty</td>\n",
       "      <td>METER IRREGULARITIES</td>\n",
       "      <td>MREPLACE AND ADJ REV</td>\n",
       "      <td>Refund</td>\n",
       "      <td>-31.47</td>\n",
       "      <td>NaN</td>\n",
       "      <td>METER TIADA PAPARAN BEKALAN ELEKTRIK MASIH ADA...</td>\n",
       "      <td>[METER, TIADA, PAPARAN, BEKALAN, ELEKTRIK, MAS...</td>\n",
       "    </tr>\n",
       "    <tr>\n",
       "      <th>4</th>\n",
       "      <td>JOH</td>\n",
       "      <td>JOHOR</td>\n",
       "      <td>6345</td>\n",
       "      <td>Kedai Tenaga</td>\n",
       "      <td>2000127335</td>\n",
       "      <td>2.400000e+11</td>\n",
       "      <td>Device Operation (OPC)</td>\n",
       "      <td>Meter Faulty</td>\n",
       "      <td>Meter Blank</td>\n",
       "      <td>7/15/2019</td>\n",
       "      <td>...</td>\n",
       "      <td>Resolved</td>\n",
       "      <td>Resolved</td>\n",
       "      <td>A - Meter Faulty</td>\n",
       "      <td>METER IRREGULARITIES</td>\n",
       "      <td>MREPLACE AND FULL REV</td>\n",
       "      <td>Refund</td>\n",
       "      <td>-3702.53</td>\n",
       "      <td>NaN</td>\n",
       "      <td>MERUJUK KEPADA PERKARA DI ATAS PENGGUNA TELAH ...</td>\n",
       "      <td>[MERUJUK, KEPADA, PERKARA, DI, ATAS, PENGGUNA,...</td>\n",
       "    </tr>\n",
       "  </tbody>\n",
       "</table>\n",
       "<p>5 rows × 26 columns</p>\n",
       "</div>"
      ],
      "text/plain": [
       "  State State Description  Business Area - Key       Channel  Complaint ID  \\\n",
       "0   KUL   WP KUALA LUMPUR                 6121      Careline    2000125485   \n",
       "1   KUL   WP KUALA LUMPUR                 6121  Kedai Tenaga    2000126751   \n",
       "2   SEL          SELANGOR                 6140  Kedai Tenaga    2000126546   \n",
       "3   SEL          SELANGOR                 6153      Careline    2000126327   \n",
       "4   JOH             JOHOR                 6345  Kedai Tenaga    2000127335   \n",
       "\n",
       "      CA Number                    Unit      Category  Sub-Category  \\\n",
       "0  2.200000e+11  Device Operation (OPC)  Meter Faulty  Meter Broken   \n",
       "1  2.200000e+11  Device Operation (OPC)  Meter Faulty   Meter Burnt   \n",
       "2  2.200000e+11  Device Operation (OPC)  Meter Faulty   Meter Blank   \n",
       "3  2.200000e+11  Device Operation (OPC)  Meter Faulty   Meter Blank   \n",
       "4  2.400000e+11  Device Operation (OPC)  Meter Faulty   Meter Blank   \n",
       "\n",
       "  Creation Date  ... Feedback Status Status 29July Verified Root Cause Type  \\\n",
       "0      7/3/2019  ...        Resolved      Verified         A - Meter Faulty   \n",
       "1     7/11/2019  ...        Resolved      Resolved         A - Meter Faulty   \n",
       "2     7/10/2019  ...        Resolved      Resolved         A - Meter Faulty   \n",
       "3      7/8/2019  ...        Resolved      Verified         A - Meter Faulty   \n",
       "4     7/15/2019  ...        Resolved      Resolved         A - Meter Faulty   \n",
       "\n",
       "    Verified Root Cause     Root Cause Measure Refund/Arrears Dt/Cr Amount  \\\n",
       "0        Meter Replaced  MREPLACE AND BACKBILL         Refund        -8.55   \n",
       "1  METER IRREGULARITIES  MREPLACE AND BACKBILL         Refund      -563.63   \n",
       "2  METER IRREGULARITIES  MREPLACE AND BACKBILL         Refund       -90.56   \n",
       "3  METER IRREGULARITIES   MREPLACE AND ADJ REV         Refund       -31.47   \n",
       "4  METER IRREGULARITIES  MREPLACE AND FULL REV         Refund     -3702.53   \n",
       "\n",
       "                        MB Reason  \\\n",
       "0  PELARASANDISEBABKANBACAANSALAH   \n",
       "1                      METERROSAK   \n",
       "2                  KKB-METERROSAK   \n",
       "3                             NaN   \n",
       "4                             NaN   \n",
       "\n",
       "                                     clean_sn_remark  \\\n",
       "0  PENGGUNA AMKLUM SEMASA BELIAU MEMBUAT RENOVATI...   \n",
       "1  TUKAR METER BARU METER BAKAR HANCUR LEBURKONTR...   \n",
       "2  PENGGUNA MOHON UNTUK TUKAR METER PENGGUNA TELA...   \n",
       "3  METER TIADA PAPARAN BEKALAN ELEKTRIK MASIH ADA...   \n",
       "4  MERUJUK KEPADA PERKARA DI ATAS PENGGUNA TELAH ...   \n",
       "\n",
       "                               clean_sn_remark_grams  \n",
       "0  [PENGGUNA, AMKLUM, SEMASA, BELIAU, MEMBUAT, RE...  \n",
       "1  [TUKAR, METER, BARU, METER, BAKAR, HANCUR, LEB...  \n",
       "2  [PENGGUNA, MOHON, UNTUK, TUKAR, METER, PENGGUN...  \n",
       "3  [METER, TIADA, PAPARAN, BEKALAN, ELEKTRIK, MAS...  \n",
       "4  [MERUJUK, KEPADA, PERKARA, DI, ATAS, PENGGUNA,...  \n",
       "\n",
       "[5 rows x 26 columns]"
      ]
     },
     "execution_count": 26,
     "metadata": {},
     "output_type": "execute_result"
    }
   ],
   "source": [
    "sn_remarks.head()"
   ]
  },
  {
   "cell_type": "code",
   "execution_count": 27,
   "metadata": {},
   "outputs": [],
   "source": [
    "# assigning keywords for customer_consumption\n",
    "customer_consumption_keywords = ['BERPUASHATI','ADALAH TERATUR','WAIVE ILP','PELARASAN BLOCK','METER PEMBILAN OK','TIADA MASALAH PEMBILAN','DEPAT MENERIMA','KIRAN TEPAT','TEPAT','BETUL',\n",
    "                                 'METER BETUL','SEMATAN BACCAN METER','TIADA KEROSAKAN','PENERANGAN','BERSETUJU','TUKAR ALAMAT',\n",
    "                                 'KAMPUNG','TAMAN','STICKER KOYAK','MASALAH PENGGUNAAN','BACAAN ADALAH TEPAT',\n",
    "                                 'BACAAN ADALAH BENAR','BACAAN ADALH BENAR','BACAA N ADALAH BENAR','BACAAN ADALAH BETUL',\n",
    "                                 'PEMBACA METER BETUL','BACAAN TERATUR','BETUL DAN TEPAT','ADALAH TEPAT','BACAAN TEPAT',\n",
    "                                 'ACAAN BETUL','BACAAN METER BETUL','BAC AAN ADALAH BETUL','ADALAH BETUL','READING TEPAT',\n",
    "                                 'BA CAAN TERATUR','BENAR DAN TEPAT','BCN ADALAH BETU','ADALAH BENAR','BACAAN YG BETUL',\n",
    "                                 'BACAAN BIL BULANAN BETUL','DIDAPATI BETUL','BACAAN YANG BENAR','BACAAN NORMAL',\n",
    "                                 '4 BUAH RUMAH GUNA SATU METER','TIADA MA SALAH PADA BACAAN','BACAAN DALAM KEADAAN TERATUR',\n",
    "                                 'TIADA MASALAH DALAM BACAAN','ADALAH BE TUL DAN TEPAT','TAMBAHAN 1 AIR COND',\n",
    "                                 'BACAAN TIADA MASALAH','DAPATI BACA AN OK','TIADA MASALAH PADA BA CAAN METER',\n",
    "                                 'TIADA MASALAH PADA BACAAN METER','RDG OK','TIADA MASAALAH BACAAN',\n",
    "                                 'TIADA MASALAH PADA BACAAN ME TER','TIADA MASALAH PADA BACAAN','TIADA MASALAH PAD A BACAAN',\n",
    "                                 'PASANG COWAY','PENGGUNAAN ELEKTRI K TINGGI','ADALAH BETU','SEMAKAN BACAAN ADALAH BE TUL',\n",
    "                                 'TIADA MASALA H DGN BACAAN','BACAAN A DALAH BETUL','BACAAN AFALAH BETUL DAN TERATUR',\n",
    "                                 'BILLING TERATUR','TIADA MASALAH BACAAN','TIADA MASALAH DALAM BAC','BACAAN YG BENAR',\n",
    "                                 'BACAAN METER ADALA BETUL','TIADA KESALAHAN BACAAN','BACAAN OLEH PEMBACA JAN GKA BETUL',\n",
    "                                 'BACAAN YANG SEBENAR DAN TEPAT','BACAAN AD ALAH BETUL','BACAAN OK','BACAAN ADA LAH BETU',\n",
    "                                 'PENGGUNAAN 22AMP3ECON','BACAAN DI METER BETUL','BACAAN YG DIAMBIL PEMBACA METER BETUL',\n",
    "                                 'DAPATI BACCAN BETUL','BACAAN DIPERMIS ADA BETUL','BACAAN YG DIBUAT BETUL',\n",
    "                                 'BACAAN ADALAH TERATUR','RDG BETUL','GUNAKAN PERKAKAS ELEKTRIK IAITU OVEN','GUNA PENGHAWA DINGIN 2HP PADA SIANG HARI','ADA 4 A-CON','31 HARI','31HARI','CHECK METER NORMAL','BILANGAN HARI >31HARI YANG MENYEBABKAN BIL TINGGI','KWH ADALAH BETUL','BACAAN ADALAH BETUL DAN TEPAT','BETUL TIADA MASALAH ','TIADA KESALAHAN PADA BACAAN','BERSETUJU DENGAN PENJELASAN','TIADA PEMBETULAN BIL DI BUAT','SUDAH DISELARASKAN','OKRALAT','AIKRALAT','KEADAAN BAIK','JANGKA BAIK','BAIK','METER OK','GOOD CONDITION','NORMALRALAT','TIDAK ROSAK','JANGKA OK','MTR OK','DISAHKAN TIADA MASAALAH','DALAM RALAT YANG DIBENARKAN','TIADA KEJANGGALAN METER','RALAT % ERROR TIDAK MELEBIHI JULAT','BAIKERROR','KEJITUAN','METER DIUJI BAIK','CHECK METER NORMAL']"
   ]
  },
  {
   "cell_type": "code",
   "execution_count": 28,
   "metadata": {},
   "outputs": [],
   "source": [
    "# create column named keywords and fill it with respective keys words in all the rows of the column\n",
    "sn_remarks['keywords'] = [customer_consumption_keywords for _ in range(len(sn_remarks))]\n"
   ]
  },
  {
   "cell_type": "code",
   "execution_count": 29,
   "metadata": {},
   "outputs": [],
   "source": [
    "# This fucntion searches for each keywords of 'keywords' column in to 'clean_sn_reamrk' column and if matches found returns 1 else 0\n",
    "# Define function to search for words in two columns\n",
    "def search_func(row):\n",
    "    matches = [test_value in row[\"clean_sn_remark_grams\"]\n",
    "               for test_value in row[\"keywords\"]]\n",
    "\n",
    "    if any(matches):\n",
    "        return 1\n",
    "    else:\n",
    "        return 0\n",
    "\n",
    "\n"
   ]
  },
  {
   "cell_type": "code",
   "execution_count": 30,
   "metadata": {},
   "outputs": [],
   "source": [
    "# Apply the matching fucntion on sn remarks column\n",
    "sn_remarks['customer_consumption_keywords_flag'] = sn_remarks.apply(search_func, axis=1)"
   ]
  },
  {
   "cell_type": "code",
   "execution_count": 31,
   "metadata": {},
   "outputs": [
    {
     "data": {
      "text/plain": [
       "0    9372\n",
       "1    8650\n",
       "Name: customer_consumption_keywords_flag, dtype: int64"
      ]
     },
     "execution_count": 31,
     "metadata": {},
     "output_type": "execute_result"
    }
   ],
   "source": [
    "# count number of matches based on the number of 1 and 0 in the respective columns\n",
    "sn_remarks.customer_consumption_keywords_flag.value_counts()"
   ]
  },
  {
   "cell_type": "code",
   "execution_count": 32,
   "metadata": {},
   "outputs": [],
   "source": [
    "## assigning keywords for meter_quality_keywords\n",
    "meter_quality_keywords = ['DI POTONG','STOLEN','BURNING','KACA YANG PECAH', 'METER BURNT','METER TELAH PECAH','BERHENTI',\n",
    "                          'METER LOST','MELETOP','METER BAKAR','TIDAK KELUARKAN PAPARAN','METER BERGERAK PERLAHAN', 'PECAH',\n",
    "                          'METER KENA KILAT', 'PECAH PETIR', 'KENE PETIR','METER PAPAR ERROR','METER   FASA ROSAK', 'FASA BAKAR',\n",
    "                          'JANGKA TERBAKAR','FASA SHORT','METER HENTI','METER STOPTUKAR','TERBAKAR','DI POTONG','METER AGEINGT',\n",
    "                          'METER SHORTING','TUKAR MTR','METER RALAT','METER MEKANIKAL','NO PAPARAN',\n",
    "                          'METER USANG','TIDAK MENYALA','BEKALAN MASIH ADA','METER TERHENTI','CAJ MINIMA','METER SAMAR',\n",
    "                          'METER BLANK','METER BROKEN','METER PICAH','GANTI METER','TIDAK BERGERAK','METER HILANG',\n",
    "                          'METER PREMISE','SYAK','METER ROSAK','METER ROSK','METER KOTOR','MTR USANG','METER KABUR',\n",
    "                          'JANGKA USANG','OLD METER','CHANGE METER','METER BERGERAK LAJU','JANGKA PENGGUNA LAJU',\n",
    "                          'TIDAK MENEPATI','METER SILAU','DIDAPATI ROSAK','ROSK','AGED METER','TUKAR METER BARU','ACCURACY METER OUT','METER MELEBIHI 10 TAHUN','MTR ROSAK','METER LAMA','METER SLOW','+5','+4','-5','-4','METER LEBIH 10 TAHUN','METER LOMPAT','JANGKA KABUR DAN USANG','KEJANGGALAN METER AMAT TINGGI','PIRING JANGKA TAK STABIL','RALAT METER TIDAK MENGIKUT','SUDAH TUKAR JANGKA BARU','ERROR TINGGI','METER LAJU','METER BLANK/BURNT','READING STOP','ROSAK-BLANK','GERAK LAJU','JANGKA LAJU','JANGKA BARU','USANG','AGED','TERHENTI','METER PECAH','-8','METER TIADA PAPARAN','METER BERHENTI','ERROR 32.98%','TIADA PAPARAN','RDG STOP','METER TERBAKAR','METER DAN PREMIS TERBAKAR','DISPLAY ROSAK','JANGKA ROSAK','BLANK','METER PERLAHAN\"','KEMBUNG','METER YG TERBAKAR','PENGGUNA TETAP TIDAK BERPUAS HATI','DAIL','BACAAN ERROR','PAPARAN METER TERHALANG','METER PUDAR','TIDAK BERFUNGSI','DISAMBAR PETIR','CHOYKWHMETER ROSAK','SEMAK METER ROSAK','METER ROSAK X','METER ROSAKRUMAH TIADA','METER ROSAK MINTAHUBUNGI','METER ROSAK STOPCUST','LAB TEAMMETER ROSAKPERLU','METER ROSAKSEMAKN DAPATI','PERUKARAN METER ROSAKTIADA','METER ROSAKTERHENTI ','METER ROSAK TQ','METER ROSAK PERLU','AMIRUDDINMETER ROSAK','METER ROSAKBUAT','METER ROSAKSEMAKN','METER ROSAK PENGGUNAAN','BETUL RMETER ROSAKM','AI LEEMETER ROSAKMOHON','DIRUMAHTEMUJANJI ESOKMETER ROSAKTUKAR','SALAHATAU METER ROSAK','DISYAKI METER ROSAKRUMAH','JULIANA METER ROSAK','TEAMMETER ROSAKPERLU','KWHMETER ROSAKTRANSFER','FAKIRRADZILR KWHMETER ROSAKAVERAGE','KUATIR METER ROSAK','METER ROSAK ','METER ROSAKPENGGUNA BERITAHU','ENMUNIADY METER ROSAK','METER ROSAK SERTA','APPOINTMENT METER ROSAK','DISYAKI METER ROSAKADA','METER ROSAKTRANSFER KE','RISAU METER ROSAK','METER ROSAKSEMAKA TELAH','DIKHUATIRI METER ROSAK','NURUL METER ROSAK','LOONG METER ROSAK','METER ROSAKADA','METER ROSAKBUAT TUKAR','SUSPECT METER ROSAKNO','TERDAPAT METER ROSAK','METERR METER ROSAKM','METER ROSAKBACAAN TIDAK','METER ROSAKM INTERNAL','METER ROSAKRUMAH','METER ROSAKDAN CUST','TET CHOYKWHMETER ROSAK','PERLAHAN METER ROSAK','METER ROSAK PEGGUNA','AMIRUDDINMETER ROSAK LAST','MENDAPATI METER ROSAKGANTI','FAULFINDER METER ROSAK','BBRQ METER ROSAK','SIVAM RMETER ROSAKM','SAIDRMMETER ROSAK','MR VISHALMETER ROSAK','METER ROSAK NUMBER','MIZAMETER ROSAK CEPER','TERHENTIBIL METER ROSAK','ROSAKMETER ROSAKTUKAR SERTA','METER ROSAK MISS','JANGKA METER ROSAKPURATA','DITAPAKMETER ROSAK ERROR','SYAKI METER ROSAKBIL','METER ROSAK BULA','METER ROSAKERROR','DAN METER ROSAK','METER ROSAK TERKENA','TERPASANGDISYAKI METER ROSAKMOHON','METER ROSAK ATAUSEBAGAINYAADUAN','TERTULIS METER ROSAK','MOHDMETER ROSAKTIADA','METER ROSAK ASSIGN','METER ROSAKLAJU INTERNAL']"
   ]
  },
  {
   "cell_type": "code",
   "execution_count": 33,
   "metadata": {},
   "outputs": [],
   "source": [
    "sn_remarks['keywords'] = [meter_quality_keywords for _ in range(len(sn_remarks))]"
   ]
  },
  {
   "cell_type": "code",
   "execution_count": 34,
   "metadata": {},
   "outputs": [],
   "source": [
    "# Define function to search for words in two columns\n",
    "def search_func(row):\n",
    "    matches = [test_value in row[\"clean_sn_remark_grams\"]\n",
    "               for test_value in row[\"keywords\"]]\n",
    "\n",
    "    if any(matches):\n",
    "        return 1\n",
    "    else:\n",
    "        return 0\n",
    "\n",
    "\n"
   ]
  },
  {
   "cell_type": "code",
   "execution_count": 35,
   "metadata": {},
   "outputs": [],
   "source": [
    "sn_remarks['meter_quality_keywords_flag'] = sn_remarks.apply(search_func, axis=1)"
   ]
  },
  {
   "cell_type": "code",
   "execution_count": 36,
   "metadata": {},
   "outputs": [
    {
     "data": {
      "text/plain": [
       "0    16373\n",
       "1     1649\n",
       "Name: meter_quality_keywords_flag, dtype: int64"
      ]
     },
     "execution_count": 36,
     "metadata": {},
     "output_type": "execute_result"
    }
   ],
   "source": [
    "sn_remarks.meter_quality_keywords_flag.value_counts()"
   ]
  },
  {
   "cell_type": "code",
   "execution_count": 37,
   "metadata": {},
   "outputs": [],
   "source": [
    "meter_crossing_keywords = ['SALAH PASANG','TERSALAH DIPASANG','JANGKA HILANG','METER CROSSING','SILANG','CROSSING','CROSING','BERSILANG']"
   ]
  },
  {
   "cell_type": "code",
   "execution_count": 38,
   "metadata": {},
   "outputs": [],
   "source": [
    "# Add new key word column for each column\n",
    "sn_remarks['keywords'] = [meter_crossing_keywords for _ in range(len(sn_remarks))]"
   ]
  },
  {
   "cell_type": "code",
   "execution_count": 39,
   "metadata": {},
   "outputs": [],
   "source": [
    "def search_func(row):\n",
    "    matches = [test_value in row[\"clean_sn_remark_grams\"]\n",
    "               for test_value in row[\"keywords\"]]\n",
    "\n",
    "    if any(matches):\n",
    "        return 1\n",
    "    else:\n",
    "        return 0"
   ]
  },
  {
   "cell_type": "code",
   "execution_count": 40,
   "metadata": {},
   "outputs": [],
   "source": [
    "sn_remarks['meter_crossing_keywords_flag'] = sn_remarks.apply(search_func, axis=1)"
   ]
  },
  {
   "cell_type": "code",
   "execution_count": 41,
   "metadata": {},
   "outputs": [
    {
     "data": {
      "text/plain": [
       "0    17958\n",
       "1       64\n",
       "Name: meter_crossing_keywords_flag, dtype: int64"
      ]
     },
     "execution_count": 41,
     "metadata": {},
     "output_type": "execute_result"
    }
   ],
   "source": [
    "sn_remarks.meter_crossing_keywords_flag.value_counts()"
   ]
  },
  {
   "cell_type": "code",
   "execution_count": 42,
   "metadata": {},
   "outputs": [],
   "source": [
    "## assigning keywords for incorrect_reading_keywords\n",
    "incorrect_reading_keywords = ['TERKURANG CAJ','TERSALAH MASUK BACAAN KVARH','SALAHBACAAN','BIL SALAH','SALAH BACA','TERSALAH READING','TIDAK TEPAT','BACAN SALAH','TIDAKTEPAT','WRONG KEY IN','TERSALAH AMBIL BACAAN','BACA AN SALAH','BACA SALAH','PEMBETULAN BACAAN','PEMBETULAN BA CAAN','BACAAN SALAH','RALAT BACAAN','BUAT BILL BARU','BACAAN SALA','KESILAPAN BACAAN','SALAH BACAAN','BETULKAN BACAAN','BACAAN SA LAH','BACAAN ADALAH SALAH','SALAH RDG','METEREDER SALAH','OVEREADING','SALAH MEMBUAT BACAAN','OVERREAD','BACAAN SUDAH DIBETULKAN','TERSALAH MENGAMBIL BACAAN','DIBETULKAN DENGAN BACAAN SEBENAR','BACCAN SUDAH DIBETULKAN','SALAH MMBUAT BACAAN','WRONG READING','BACAAN KVARH SALAH','BILL TELAH DIBETULKAN MENGIKUT BACAAN','OVER READ','ADALAH SALAH','SALAH READING','RDG OVERRE AD','PEMBACA JANGKA TERSALAH','BACAAN METER SALAH','MR TERKURANG BACA','BACAAN MR BULAN 3 RENDAH','OVEREAD READING','TERSALAH BUAT BACAAN','KESALAHAN BACAAN','BACAAN UNDER READ','SALAH TECO READING','BIL TERSILAP BACA','BACAAN ADALAH KOSONG','BACAAN APRIL RENDAH','BACAAN DIBACA RENDAH','TERSALAH BACA','SALAH BACCAN','SILAP BACA','TERSALAH MASUKKAN BACAAN','BACAAN DAHULU SALAH','PEMBACA JANGKA BACA SALAH','YG TIDAK TEPAT','TIDAK TEPATPENGUNA','ADALAH TIDAK TEPATPENGUNA','TIDAKTEPATPENGGUNA MEM','TIDAK TEPATMOHON','ADALAH TIDAKTEPATPENGGUNA','TIDAK TEPAT PENJELASAN','TIDAK TEPATPENGGUNA','TIDAK TEPATPEMB ETULAN','BACAAN TIDAK BOLEHDIBETULKAN','BACAAN PEMBETULAN TIDAK','BACAAN BETULTIDAK','TIDAK BERAPA BETULPERGERAKAN','BACAAN BETULTIDAK DAPAT','UNDER READ']"
   ]
  },
  {
   "cell_type": "code",
   "execution_count": 43,
   "metadata": {},
   "outputs": [],
   "source": [
    "# Add new key word column for each column\n",
    "sn_remarks['keywords'] = [incorrect_reading_keywords for _ in range(len(sn_remarks))]"
   ]
  },
  {
   "cell_type": "code",
   "execution_count": 44,
   "metadata": {},
   "outputs": [],
   "source": [
    "def search_func(row):\n",
    "    matches = [test_value in row[\"clean_sn_remark_grams\"]\n",
    "               for test_value in row[\"keywords\"]]\n",
    "\n",
    "    if any(matches):\n",
    "        return 1\n",
    "    else:\n",
    "        return 0"
   ]
  },
  {
   "cell_type": "code",
   "execution_count": 45,
   "metadata": {},
   "outputs": [],
   "source": [
    "sn_remarks['incorrect_reading_keywords_flag'] = sn_remarks.apply(search_func, axis=1)"
   ]
  },
  {
   "cell_type": "code",
   "execution_count": 46,
   "metadata": {},
   "outputs": [
    {
     "data": {
      "text/plain": [
       "0    16907\n",
       "1     1115\n",
       "Name: incorrect_reading_keywords_flag, dtype: int64"
      ]
     },
     "execution_count": 46,
     "metadata": {},
     "output_type": "execute_result"
    }
   ],
   "source": [
    "sn_remarks.incorrect_reading_keywords_flag.value_counts()"
   ]
  },
  {
   "cell_type": "code",
   "execution_count": 47,
   "metadata": {},
   "outputs": [],
   "source": [
    "high_bill_keywords = ['2 KALI GANDA','KALI GANDA','GANDA']"
   ]
  },
  {
   "cell_type": "code",
   "execution_count": 48,
   "metadata": {},
   "outputs": [],
   "source": [
    "# Add new key word column for each column\n",
    "sn_remarks['keywords'] = [high_bill_keywords for _ in range(len(sn_remarks))]"
   ]
  },
  {
   "cell_type": "code",
   "execution_count": 49,
   "metadata": {},
   "outputs": [],
   "source": [
    "sn_remarks['high_bill_keywords_flag'] = sn_remarks.apply(search_func, axis=1)"
   ]
  },
  {
   "cell_type": "code",
   "execution_count": 50,
   "metadata": {},
   "outputs": [
    {
     "data": {
      "text/plain": [
       "0    17878\n",
       "1      144\n",
       "Name: high_bill_keywords_flag, dtype: int64"
      ]
     },
     "execution_count": 50,
     "metadata": {},
     "output_type": "execute_result"
    }
   ],
   "source": [
    "sn_remarks.high_bill_keywords_flag.value_counts()"
   ]
  },
  {
   "cell_type": "code",
   "execution_count": 51,
   "metadata": {},
   "outputs": [],
   "source": [
    "long_billing_period_keywords = ['PRORATE','MELEBINI 30 HARI','LAMBAT','LAMBAT BACA','32 HARI','33 HARI','34 HARI','35 HARI','36 HARI','LEBIH 30 HARI','62 HARI','BIL DIBACA LAMBAT','PRORATA']"
   ]
  },
  {
   "cell_type": "code",
   "execution_count": 52,
   "metadata": {},
   "outputs": [],
   "source": [
    "# Add new key word column for each column\n",
    "sn_remarks['keywords'] = [long_billing_period_keywords for _ in range(len(sn_remarks))]"
   ]
  },
  {
   "cell_type": "code",
   "execution_count": 53,
   "metadata": {},
   "outputs": [],
   "source": [
    "sn_remarks['long_billing_period_keywords_flag'] = sn_remarks.apply(search_func, axis=1)"
   ]
  },
  {
   "cell_type": "code",
   "execution_count": 54,
   "metadata": {},
   "outputs": [
    {
     "data": {
      "text/plain": [
       "0    17771\n",
       "1      251\n",
       "Name: long_billing_period_keywords_flag, dtype: int64"
      ]
     },
     "execution_count": 54,
     "metadata": {},
     "output_type": "execute_result"
    }
   ],
   "source": [
    "sn_remarks.long_billing_period_keywords_flag.value_counts()"
   ]
  },
  {
   "cell_type": "code",
   "execution_count": 55,
   "metadata": {},
   "outputs": [],
   "source": [
    "meter_healthy_keywords = ['JANGKA BAIKRALAT','JANGKA METER OKBERADA','JANGKA METER BERKEADAAN BAIKBERADA','JANGKA METER BAIKBERADA','TESTMETER OK','RDG TIADA MASALAH','OKRALAT','AIKRALAT','KEADAAN BAIK','JANGKA BAIK','BAIK','METER OK','GOOD CONDITION','NORMALRALAT','TIDAK ROSAK','JANGKA OK','MTR OK','DISAHKAN TIADA MASAALAH','DALAM RALAT YANG DIBENARKAN','TIADA KEJANGGALAN METER','RALAT % ERROR TIDAK MELEBIHI JULAT','BAIKERROR','KEJITUAN','METER DIUJI BAIK','CHECK METER NORMAL']"
   ]
  },
  {
   "cell_type": "code",
   "execution_count": 56,
   "metadata": {},
   "outputs": [],
   "source": [
    "# Add new key word column for each column\n",
    "sn_remarks['keywords'] = [meter_healthy_keywords for _ in range(len(sn_remarks))]"
   ]
  },
  {
   "cell_type": "code",
   "execution_count": 57,
   "metadata": {},
   "outputs": [],
   "source": [
    "sn_remarks['meter_healthy_keywords_flag'] = sn_remarks.apply(search_func, axis=1)"
   ]
  },
  {
   "cell_type": "code",
   "execution_count": 58,
   "metadata": {},
   "outputs": [
    {
     "data": {
      "text/plain": [
       "0    13656\n",
       "1     4366\n",
       "Name: meter_healthy_keywords_flag, dtype: int64"
      ]
     },
     "execution_count": 58,
     "metadata": {},
     "output_type": "execute_result"
    }
   ],
   "source": [
    "sn_remarks.meter_healthy_keywords_flag.value_counts()"
   ]
  },
  {
   "cell_type": "code",
   "execution_count": 59,
   "metadata": {},
   "outputs": [],
   "source": [
    "smart_meter_keywords = ['SMARTMETER','SMART','SMART METER','BILIK GERAKAN SM','UNIT SM','SM','MENGGUNAKANSMART METER','SMOC','SELEPAS TUKAR SMART METER']"
   ]
  },
  {
   "cell_type": "code",
   "execution_count": 60,
   "metadata": {},
   "outputs": [],
   "source": [
    "# Add new key word column for each column\n",
    "sn_remarks['keywords'] = [smart_meter_keywords for _ in range(len(sn_remarks))]"
   ]
  },
  {
   "cell_type": "code",
   "execution_count": 61,
   "metadata": {},
   "outputs": [],
   "source": [
    "sn_remarks['smart_meter_keywords_flag'] = sn_remarks.apply(search_func, axis=1)"
   ]
  },
  {
   "cell_type": "code",
   "execution_count": 62,
   "metadata": {},
   "outputs": [
    {
     "data": {
      "text/plain": [
       "0    17507\n",
       "1      515\n",
       "Name: smart_meter_keywords_flag, dtype: int64"
      ]
     },
     "execution_count": 62,
     "metadata": {},
     "output_type": "execute_result"
    }
   ],
   "source": [
    "sn_remarks.smart_meter_keywords_flag.value_counts()"
   ]
  },
  {
   "cell_type": "code",
   "execution_count": 63,
   "metadata": {},
   "outputs": [],
   "source": [
    "estimate_bill_keywords = ['BACAANANGGARAN', 'EAT BILL', 'EST BILL','ANGGARANKERANA','METER TERHALANG','TTDI BILLING ISSUE','TTDI HIGH BILL','TUN DR ISMAIL','HIGH BILL ISSUE','TMN TUN DR','BCAAN ANGARAN','BIL ANG GARAN','BACAAN EST','BILL N','BACAAN AGGARAN','BACAAN SEBENAR','E BILL','BIL E','BIL ANGGARAN','ANGGARAN','BACAAN ESTIMATE','ESTIMATE','SYSTEM EST RENDAH','BIL ANGGA RAN','BIL ELEKTRIK ESTI MATE','BIL ELEKTRIK ESTIMA TE']"
   ]
  },
  {
   "cell_type": "code",
   "execution_count": 64,
   "metadata": {},
   "outputs": [],
   "source": [
    "# Add new key word column for each column\n",
    "sn_remarks['keywords'] = [estimate_bill_keywords for _ in range(len(sn_remarks))]"
   ]
  },
  {
   "cell_type": "code",
   "execution_count": 65,
   "metadata": {},
   "outputs": [],
   "source": [
    "sn_remarks['estimate_bill_keywords_flag'] = sn_remarks.apply(search_func, axis=1)"
   ]
  },
  {
   "cell_type": "code",
   "execution_count": 66,
   "metadata": {},
   "outputs": [
    {
     "data": {
      "text/plain": [
       "0    16521\n",
       "1     1501\n",
       "Name: estimate_bill_keywords_flag, dtype: int64"
      ]
     },
     "execution_count": 66,
     "metadata": {},
     "output_type": "execute_result"
    }
   ],
   "source": [
    "sn_remarks.estimate_bill_keywords_flag.value_counts()"
   ]
  },
  {
   "cell_type": "code",
   "execution_count": 67,
   "metadata": {},
   "outputs": [],
   "source": [
    "meter_tampering_keywords = ['SEAL']"
   ]
  },
  {
   "cell_type": "code",
   "execution_count": 68,
   "metadata": {},
   "outputs": [],
   "source": [
    "# Add new key word column for each column\n",
    "sn_remarks['keywords'] = [meter_tampering_keywords for _ in range(len(sn_remarks))]"
   ]
  },
  {
   "cell_type": "code",
   "execution_count": 69,
   "metadata": {},
   "outputs": [],
   "source": [
    "sn_remarks['meter_tampering_keywords_flag'] = sn_remarks.apply(search_func, axis=1)"
   ]
  },
  {
   "cell_type": "code",
   "execution_count": 70,
   "metadata": {},
   "outputs": [
    {
     "data": {
      "text/plain": [
       "0    17985\n",
       "1       37\n",
       "Name: meter_tampering_keywords_flag, dtype: int64"
      ]
     },
     "execution_count": 70,
     "metadata": {},
     "output_type": "execute_result"
    }
   ],
   "source": [
    "sn_remarks.meter_tampering_keywords_flag.value_counts()"
   ]
  },
  {
   "cell_type": "code",
   "execution_count": 75,
   "metadata": {},
   "outputs": [],
   "source": [
    "bill_not_received = ['TIDAK MENERIMA BIL','BIL XDAPAT']"
   ]
  },
  {
   "cell_type": "code",
   "execution_count": 76,
   "metadata": {},
   "outputs": [],
   "source": [
    "# Add new key word column for each column\n",
    "sn_remarks['keywords'] = [bill_not_received for _ in range(len(sn_remarks))]"
   ]
  },
  {
   "cell_type": "code",
   "execution_count": 77,
   "metadata": {},
   "outputs": [],
   "source": [
    "sn_remarks['bill_not_received_flag'] = sn_remarks.apply(search_func, axis=1)"
   ]
  },
  {
   "cell_type": "code",
   "execution_count": 78,
   "metadata": {},
   "outputs": [
    {
     "data": {
      "text/plain": [
       "0    18004\n",
       "1       18\n",
       "Name: bill_not_received_flag, dtype: int64"
      ]
     },
     "execution_count": 78,
     "metadata": {},
     "output_type": "execute_result"
    }
   ],
   "source": [
    "sn_remarks.bill_not_received_flag.value_counts()"
   ]
  },
  {
   "cell_type": "code",
   "execution_count": 80,
   "metadata": {},
   "outputs": [],
   "source": [
    "billing_issue = ['DUA BULAN CHARGESMOHON','DOUBLE CHARGE','BIL TERTUNGGAK']"
   ]
  },
  {
   "cell_type": "code",
   "execution_count": 81,
   "metadata": {},
   "outputs": [],
   "source": [
    "# Add new key word column for each column\n",
    "sn_remarks['keywords'] = [billing_issue for _ in range(len(sn_remarks))]"
   ]
  },
  {
   "cell_type": "code",
   "execution_count": 82,
   "metadata": {},
   "outputs": [],
   "source": [
    "sn_remarks['billing_issue_flag'] = sn_remarks.apply(search_func, axis=1)"
   ]
  },
  {
   "cell_type": "code",
   "execution_count": 83,
   "metadata": {},
   "outputs": [
    {
     "data": {
      "text/plain": [
       "0    18022\n",
       "Name: billing_issue_flag, dtype: int64"
      ]
     },
     "execution_count": 83,
     "metadata": {},
     "output_type": "execute_result"
    }
   ],
   "source": [
    "sn_remarks.billing_issue_flag.value_counts()"
   ]
  },
  {
   "cell_type": "code",
   "execution_count": 84,
   "metadata": {},
   "outputs": [],
   "source": [
    "#sn_remarks.columns"
   ]
  },
  {
   "cell_type": "code",
   "execution_count": 85,
   "metadata": {},
   "outputs": [],
   "source": [
    "del sn_remarks['clean_sn_remark_grams']\n",
    "del sn_remarks['keywords'] "
   ]
  },
  {
   "cell_type": "code",
   "execution_count": 86,
   "metadata": {},
   "outputs": [],
   "source": [
    "sn_remarks['flag_sum'] = sn_remarks.iloc[:, -12:].sum(axis=1)"
   ]
  },
  {
   "cell_type": "code",
   "execution_count": 181,
   "metadata": {},
   "outputs": [],
   "source": [
    "#sn_remarks.to_csv(\"C:\\\\MPS\\\\projects\\\\TNB\\\\billing\\\\test1.csv\")"
   ]
  },
  {
   "cell_type": "markdown",
   "metadata": {},
   "source": [
    "# Post tagging work- creating column for tags"
   ]
  },
  {
   "cell_type": "markdown",
   "metadata": {},
   "source": [
    "In below section of code, we are craeting a tag column for each SR and complaint id and fill with possible RCA tag "
   ]
  },
  {
   "cell_type": "code",
   "execution_count": 87,
   "metadata": {},
   "outputs": [
    {
     "data": {
      "text/plain": [
       "Index(['State', 'State Description', 'Business Area - Key', 'Channel',\n",
       "       'Complaint ID', 'CA Number', 'Unit', 'Category', 'Sub-Category',\n",
       "       'Creation Date', 'SN Number', 'SO Number', 'BPEM Case', 'Notes',\n",
       "       'SN_Remark', 'BPEM Notes 29July', 'Feedback Status', 'Status 29July',\n",
       "       'Verified Root Cause Type', 'Verified Root Cause', 'Root Cause Measure',\n",
       "       'Refund/Arrears', 'Dt/Cr Amount', 'MB Reason', 'clean_sn_remark',\n",
       "       'customer_consumption_keywords_flag', 'meter_quality_keywords_flag',\n",
       "       'meter_crossing_keywords_flag', 'incorrect_reading_keywords_flag',\n",
       "       'high_bill_keywords_flag', 'long_billing_period_keywords_flag',\n",
       "       'meter_healthy_keywords_flag', 'smart_meter_keywords_flag',\n",
       "       'estimate_bill_keywords_flag', 'meter_tampering_keywords_flag',\n",
       "       'bill_not_received_flag', 'billing_issue_flag', 'flag_sum'],\n",
       "      dtype='object')"
      ]
     },
     "execution_count": 87,
     "metadata": {},
     "output_type": "execute_result"
    }
   ],
   "source": [
    "sn_remarks.columns"
   ]
  },
  {
   "cell_type": "code",
   "execution_count": 88,
   "metadata": {},
   "outputs": [],
   "source": [
    "cols = ['customer_consumption_keywords_flag', 'meter_quality_keywords_flag',\n",
    "       'meter_crossing_keywords_flag', 'incorrect_reading_keywords_flag',\n",
    "       'high_bill_keywords_flag', 'long_billing_period_keywords_flag',\n",
    "       'meter_healthy_keywords_flag', 'smart_meter_keywords_flag',\n",
    "       'estimate_bill_keywords_flag', 'meter_tampering_keywords_flag','bill_not_received_flag', 'billing_issue_flag',\n",
    "       'flag_sum']\n",
    "sn_remarks[cols] = sn_remarks[cols].replace({0.:0, 1.:1})"
   ]
  },
  {
   "cell_type": "code",
   "execution_count": 89,
   "metadata": {},
   "outputs": [],
   "source": [
    "sn_remarks['possible_rca'] = sn_remarks[list(['customer_consumption_keywords_flag', 'meter_quality_keywords_flag',\n",
    "       'meter_crossing_keywords_flag', 'incorrect_reading_keywords_flag',\n",
    "       'high_bill_keywords_flag', 'long_billing_period_keywords_flag',\n",
    "       'meter_healthy_keywords_flag', 'smart_meter_keywords_flag',\n",
    "       'estimate_bill_keywords_flag','meter_tampering_keywords_flag','bill_not_received_flag', 'billing_issue_flag'])].eq(1, axis=0).apply(lambda x: ' '.join(x[x].index), axis=1)"
   ]
  },
  {
   "cell_type": "code",
   "execution_count": 91,
   "metadata": {},
   "outputs": [],
   "source": [
    "sn_remarks = sn_remarks[['State', 'State Description', 'Business Area - Key', 'Channel',\n",
    "       'Complaint ID', 'CA Number', 'Unit', 'Category', 'Sub-Category',\n",
    "       'Creation Date', 'SN Number', 'SO Number', 'BPEM Case', 'Notes',\n",
    "       'SN_Remark', 'BPEM Notes 29July', 'Feedback Status', 'Status 29July',\n",
    "       'Verified Root Cause Type', 'Verified Root Cause', 'Root Cause Measure',\n",
    "       'Refund/Arrears', 'Dt/Cr Amount', 'MB Reason', 'clean_sn_remark',\n",
    "       'customer_consumption_keywords_flag', 'meter_quality_keywords_flag',\n",
    "       'meter_crossing_keywords_flag', 'incorrect_reading_keywords_flag',\n",
    "       'high_bill_keywords_flag', 'long_billing_period_keywords_flag',\n",
    "       'meter_healthy_keywords_flag', 'smart_meter_keywords_flag',\n",
    "       'estimate_bill_keywords_flag', 'meter_tampering_keywords_flag',\n",
    "       'bill_not_received_flag', 'billing_issue_flag', 'flag_sum', 'possible_rca']]"
   ]
  },
  {
   "cell_type": "code",
   "execution_count": 92,
   "metadata": {},
   "outputs": [],
   "source": [
    "#coppy of sn remarks\n",
    "sn_remarks_copy = sn_remarks"
   ]
  },
  {
   "cell_type": "code",
   "execution_count": 93,
   "metadata": {},
   "outputs": [],
   "source": [
    "sn_remarks.to_csv(\"C:\\\\Users\\\\ijohan\\\\Desktop\\\\ai_project\\\\source_data\\\\july\\\\JUNE_FURTHER_INVESTIGATION_run22July_rca.csv\")"
   ]
  },
  {
   "cell_type": "code",
   "execution_count": 90,
   "metadata": {},
   "outputs": [],
   "source": [
    "#n_remarks_copy.head()"
   ]
  },
  {
   "cell_type": "markdown",
   "metadata": {},
   "source": [
    "# Adding new column for combined tags"
   ]
  },
  {
   "cell_type": "code",
   "execution_count": 94,
   "metadata": {},
   "outputs": [
    {
     "data": {
      "text/plain": [
       "Index(['State', 'State Description', 'Business Area - Key', 'Channel',\n",
       "       'Complaint ID', 'CA Number', 'Unit', 'Category', 'Sub-Category',\n",
       "       'Creation Date', 'SN Number', 'SO Number', 'BPEM Case', 'Notes',\n",
       "       'SN_Remark', 'BPEM Notes 29July', 'Feedback Status', 'Status 29July',\n",
       "       'Verified Root Cause Type', 'Verified Root Cause', 'Root Cause Measure',\n",
       "       'Refund/Arrears', 'Dt/Cr Amount', 'MB Reason', 'clean_sn_remark',\n",
       "       'customer_consumption_keywords_flag', 'meter_quality_keywords_flag',\n",
       "       'meter_crossing_keywords_flag', 'incorrect_reading_keywords_flag',\n",
       "       'high_bill_keywords_flag', 'long_billing_period_keywords_flag',\n",
       "       'meter_healthy_keywords_flag', 'smart_meter_keywords_flag',\n",
       "       'estimate_bill_keywords_flag', 'meter_tampering_keywords_flag',\n",
       "       'bill_not_received_flag', 'billing_issue_flag', 'flag_sum',\n",
       "       'possible_rca'],\n",
       "      dtype='object')"
      ]
     },
     "execution_count": 94,
     "metadata": {},
     "output_type": "execute_result"
    }
   ],
   "source": [
    "sn_remarks.columns"
   ]
  },
  {
   "cell_type": "code",
   "execution_count": 93,
   "metadata": {},
   "outputs": [],
   "source": [
    "#sn_remarks.head()"
   ]
  },
  {
   "cell_type": "code",
   "execution_count": 95,
   "metadata": {},
   "outputs": [],
   "source": [
    "sn_remarks.loc[(sn_remarks['possible_rca'].str.contains('meter_quality_keywords_flag') & sn_remarks['possible_rca'].str.contains('estimate_bill_keywords_flag')), 'combined_possible_rca'] = 'meter_quality_keywords_flag'"
   ]
  },
  {
   "cell_type": "code",
   "execution_count": 96,
   "metadata": {},
   "outputs": [],
   "source": [
    "sn_remarks.loc[(sn_remarks['possible_rca'].str.contains('meter_quality_keywords_flag') & sn_remarks['possible_rca'].str.contains('incorrect_reading_keywords_flag')), 'combined_possible_rca'] = 'meter_quality_keywords_flag'"
   ]
  },
  {
   "cell_type": "code",
   "execution_count": 97,
   "metadata": {},
   "outputs": [],
   "source": [
    "sn_remarks.loc[(sn_remarks['possible_rca'].str.contains('incorrect_reading_keywords_flag') & sn_remarks['possible_rca'].str.contains('estimate_bill_keywords_flag')), 'combined_possible_rca'] = 'estimate_bill_keywords_flag'"
   ]
  },
  {
   "cell_type": "code",
   "execution_count": 98,
   "metadata": {},
   "outputs": [],
   "source": [
    "sn_remarks.loc[(sn_remarks['possible_rca'].str.contains('long_billing_period_keywords_flag') & sn_remarks['possible_rca'].str.contains('estimate_bill_keywords_flag')), 'combined_possible_rca'] = 'estimate_bill_keywords_flag'"
   ]
  },
  {
   "cell_type": "code",
   "execution_count": 99,
   "metadata": {},
   "outputs": [],
   "source": [
    "sn_remarks.loc[(sn_remarks['possible_rca'].str.contains('long_billing_period_keywords_flag') & sn_remarks['possible_rca'].str.contains('incorrect_reading_keywords_flag')), 'combined_possible_rca'] = 'incorrect_reading_keywords_flag'"
   ]
  },
  {
   "cell_type": "code",
   "execution_count": 100,
   "metadata": {},
   "outputs": [
    {
     "data": {
      "text/plain": [
       "estimate_bill_keywords_flag        202\n",
       "meter_quality_keywords_flag        131\n",
       "incorrect_reading_keywords_flag     41\n",
       "Name: combined_possible_rca, dtype: int64"
      ]
     },
     "execution_count": 100,
     "metadata": {},
     "output_type": "execute_result"
    }
   ],
   "source": [
    "sn_remarks.combined_possible_rca.value_counts()"
   ]
  },
  {
   "cell_type": "code",
   "execution_count": 101,
   "metadata": {},
   "outputs": [],
   "source": [
    "#hc.loc[hc[\"ID\"] == '','ID'] = hc[\"First Name\"] + hc[\"Last Name\"]\n",
    "#sn_remarks['combined_possible_rca'] = \n",
    "sn_remarks.loc[sn_remarks['combined_possible_rca'] == '','combined_possible_rca'] = sn_remarks['possible_rca']"
   ]
  },
  {
   "cell_type": "code",
   "execution_count": 101,
   "metadata": {},
   "outputs": [],
   "source": [
    "sn_remarks.to_csv(\"C:\\\\Users\\\\ijohan\\\\Desktop\\\\ai_project\\\\source_data\\\\july\\\\JUNE_FURTHER_INVESTIGATION_run22July_rca_combined.csv\")"
   ]
  },
  {
   "cell_type": "markdown",
   "metadata": {},
   "source": [
    "# Separating flaged and further investigation bucket"
   ]
  },
  {
   "cell_type": "code",
   "execution_count": 102,
   "metadata": {},
   "outputs": [
    {
     "data": {
      "text/plain": [
       "18022"
      ]
     },
     "execution_count": 102,
     "metadata": {},
     "output_type": "execute_result"
    }
   ],
   "source": [
    "len(sn_remarks)"
   ]
  },
  {
   "cell_type": "code",
   "execution_count": 103,
   "metadata": {},
   "outputs": [
    {
     "data": {
      "text/plain": [
       "0    6480\n",
       "1    5874\n",
       "2    4644\n",
       "3     952\n",
       "4      68\n",
       "5       4\n",
       "Name: flag_sum, dtype: int64"
      ]
     },
     "execution_count": 103,
     "metadata": {},
     "output_type": "execute_result"
    }
   ],
   "source": [
    "sn_remarks.flag_sum.value_counts()"
   ]
  },
  {
   "cell_type": "code",
   "execution_count": 104,
   "metadata": {},
   "outputs": [
    {
     "data": {
      "text/plain": [
       "0    6480\n",
       "1    5874\n",
       "2    4644\n",
       "3     952\n",
       "4      68\n",
       "5       4\n",
       "Name: flag_sum, dtype: int64"
      ]
     },
     "execution_count": 104,
     "metadata": {},
     "output_type": "execute_result"
    }
   ],
   "source": [
    "sn_remarks.flag_sum.value_counts()"
   ]
  },
  {
   "cell_type": "code",
   "execution_count": 100,
   "metadata": {},
   "outputs": [],
   "source": [
    "sn_remarks_flagged = sn_remarks[sn_remarks['flag_sum'] != 0]"
   ]
  },
  {
   "cell_type": "code",
   "execution_count": 101,
   "metadata": {},
   "outputs": [],
   "source": [
    "sn_remarks_further = sn_remarks[sn_remarks['flag_sum'] == 0]"
   ]
  },
  {
   "cell_type": "code",
   "execution_count": 102,
   "metadata": {},
   "outputs": [
    {
     "data": {
      "text/plain": [
       "25376"
      ]
     },
     "execution_count": 102,
     "metadata": {},
     "output_type": "execute_result"
    }
   ],
   "source": [
    "len(sn_remarks_flagged)"
   ]
  },
  {
   "cell_type": "code",
   "execution_count": 103,
   "metadata": {},
   "outputs": [
    {
     "data": {
      "text/plain": [
       "15256"
      ]
     },
     "execution_count": 103,
     "metadata": {},
     "output_type": "execute_result"
    }
   ],
   "source": [
    "len(sn_remarks_further)"
   ]
  },
  {
   "cell_type": "code",
   "execution_count": null,
   "metadata": {},
   "outputs": [],
   "source": []
  }
 ],
 "metadata": {
  "kernelspec": {
   "display_name": "Python 3",
   "language": "python",
   "name": "python3"
  },
  "language_info": {
   "codemirror_mode": {
    "name": "ipython",
    "version": 3
   },
   "file_extension": ".py",
   "mimetype": "text/x-python",
   "name": "python",
   "nbconvert_exporter": "python",
   "pygments_lexer": "ipython3",
   "version": "3.7.3"
  }
 },
 "nbformat": 4,
 "nbformat_minor": 2
}
