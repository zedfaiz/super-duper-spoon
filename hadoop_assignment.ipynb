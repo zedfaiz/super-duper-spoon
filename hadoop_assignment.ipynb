{
 "cells": [
  {
   "cell_type": "markdown",
   "metadata": {},
   "source": [
    "<h1>Hive assignment Intro and instructions</h1>\n",
    "<h2>Description</h2>\n"
   ]
  },
  {
   "cell_type": "markdown",
   "metadata": {},
   "source": [
    "The purpose of this assignment is to calculate some statistics of the stackoverflow.com website.\n",
    "\n",
    "The input dataset contains two parts: users and posts (questions and answers) from StackOverflow site. Posts are in XML format, but it doesn't matter: you can interpret it as a text of independent lines, one post per each line."
   ]
  },
  {
   "cell_type": "markdown",
   "metadata": {},
   "source": [
    "So, the lines not started with the \"row\" tags should be ignored. The valid row contains the following fields and their order is not defined:\n",
    "\n",
    "- Id (integer) - id of the post\n",
    "- PostTypeId (integer: 1 or 2) - 1 for questions, 2 for answers\n",
    "- CreationDate (date) - post creation date in the format \"YYYY-MM-DDTHH:MM:SS.ms\"\n",
    "- Tags (string, optional) - list of post tags, each tag is wrapped with html entities '&lt;' and '&gt;'\n",
    "- OwnerUserId (integer, optional) - user id of the post's author\n",
    "- ParentId (integer, optional) - for answers - id of the question\n",
    "- Score (integer) - score (votes) of a question or an answer, can be negative (!)\n",
    "- FavoriteCount (integer, optional) - how many times the question was added in the favorites"
   ]
  },
  {
   "cell_type": "markdown",
   "metadata": {},
   "source": [
    "the fields are the following and their order is also not defined for xml second dataset:\n",
    "\n",
    "- Id (integer) - user id\n",
    "- Reputation (integer) - user's reputation\n",
    "- CreationDate (string) - creation date in the format \"YYYY-MM-DDTHH:MM:SS.ms\"\n",
    "- DisplayName (string) - user's name\n",
    "- Location (string, options) - user's country\n",
    "- Age (integer, optional) - user's age"
   ]
  },
  {
   "cell_type": "markdown",
   "metadata": {},
   "source": [
    "### Hints for the Task1:\n",
    "\n",
    "1. To create a regular expression, which describes strings containing two patterns, where order of the patterns is not defined use the following so-called ‘positive lookahead assertion’ with “?=” group modifier. For example, both strings “Washington Irving” and “Irving Washington” match the pattern: “(?=.*Washington)(?=.*Irving)”.\n",
    "2. To capture groups use round brackets. So, the pattern: “(?=.*(Washington))(?=.*(Irving))” captures “Washington” and “Irving” from both strings: \"William Arthur Irving Washington was an English first-class Cricketer\" and: “Washington Irving was an American writer”.\n",
    "3. If any group is optional, use “?” modifier. So, the pattern: “(?=.*(Washington))(?=.*(Irving))?” captures “Washington” from the string “George Washington”.\n",
    "4. Use ‘\\b’ to specify boundaries of words and increase accuracy of your pattern. For example: pattern “(?=.*\\bID=(\\d+))(?=.*\\bUserID=(\\d+))” captures “1” and “2” from the string \"ID=1 UserID=2\", whereas pattern without ‘\\b’: “(?=.*ID=(\\d+))(?=.*UserID=(\\d+))” returns the wrong groups: “2” and “2”.\n",
    "5. In Hive pattern for the external table in SERDEPROPERTIES \"input.regex\" should describe the whole input string, so add “.*” at the end of the pattern.\n",
    "6. You can test your pattern with Hadoop Streaming, using a simple mapper which outputs the input strings not matched to your pattern. Analyse the result to improve the pattern. Escape backslashes and double quotes and the pattern from the mapper can be used in SERDEPROPERTIES \"input.regex\" variable unchanged. Example of the mapper:"
   ]
  },
  {
   "cell_type": "code",
   "execution_count": null,
   "metadata": {},
   "outputs": [],
   "source": []
  }
 ],
 "metadata": {
  "kernelspec": {
   "display_name": "Python 3",
   "language": "python",
   "name": "python3"
  },
  "language_info": {
   "codemirror_mode": {
    "name": "ipython",
    "version": 3
   },
   "file_extension": ".py",
   "mimetype": "text/x-python",
   "name": "python",
   "nbconvert_exporter": "python",
   "pygments_lexer": "ipython3",
   "version": "3.7.3"
  }
 },
 "nbformat": 4,
 "nbformat_minor": 2
}
